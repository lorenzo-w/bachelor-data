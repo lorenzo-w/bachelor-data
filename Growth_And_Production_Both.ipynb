{
 "cells": [
  {
   "cell_type": "markdown",
   "metadata": {},
   "source": [
    "# Combine product concentrations from GC with enzymatic assays and OD-pH-pressure"
   ]
  },
  {
   "cell_type": "markdown",
   "metadata": {},
   "source": [
    "## Imports and setup"
   ]
  },
  {
   "cell_type": "code",
   "execution_count": 19,
   "metadata": {},
   "outputs": [
    {
     "data": {
      "text/html": [
       "<script type=\"text/javascript\">window.PlotlyConfig = {MathJaxConfig: 'local'};</script><script type=\"text/javascript\">if (window.MathJax) {MathJax.Hub.Config({SVG: {font: \"STIX-Web\"}});}</script><script>requirejs.config({paths: { 'plotly': ['https://cdn.plot.ly/plotly-latest.min']},});if(!window._Plotly) {require(['plotly'],function(plotly) {window._Plotly=plotly;});}</script>"
      ],
      "text/vnd.plotly.v1+html": [
       "<script type=\"text/javascript\">window.PlotlyConfig = {MathJaxConfig: 'local'};</script><script type=\"text/javascript\">if (window.MathJax) {MathJax.Hub.Config({SVG: {font: \"STIX-Web\"}});}</script><script>requirejs.config({paths: { 'plotly': ['https://cdn.plot.ly/plotly-latest.min']},});if(!window._Plotly) {require(['plotly'],function(plotly) {window._Plotly=plotly;});}</script>"
      ]
     },
     "metadata": {},
     "output_type": "display_data"
    }
   ],
   "source": [
    "import os\n",
    "from pathlib import Path\n",
    "import webbrowser\n",
    "from functools import reduce\n",
    "import random\n",
    "import operator\n",
    "import pandas as pd\n",
    "from ipywidgets import interact, interactive, fixed\n",
    "import ipywidgets as widgets\n",
    "import plotly.offline as py\n",
    "import plotly.graph_objs as go\n",
    "import plotly_express as px\n",
    "import numpy as np\n",
    "import sympy as sp\n",
    "import qgrid as qg\n",
    "import plotly.io as pio\n",
    "\n",
    "from utils.plot_utils import scatterplot_from_df, boxplot_from_df \n",
    "\n",
    "idx = pd.IndexSlice\n",
    "\n",
    "sp.init_printing()\n",
    "py.init_notebook_mode(connected=True)\n",
    "qg.set_defaults(show_toolbar=True)\n",
    "qg.enable()"
   ]
  },
  {
   "cell_type": "markdown",
   "metadata": {},
   "source": [
    "## Input files and definitions"
   ]
  },
  {
   "cell_type": "code",
   "execution_count": 23,
   "metadata": {},
   "outputs": [],
   "source": [
    "means_CO2H2 = Path(\"./intermediate/mean_data_CO2H2.csv\")\n",
    "means_CO = Path(\"./intermediate/mean_data_CO.csv\")\n",
    "\n",
    "results_path = Path(\"./results/Comparison\")"
   ]
  },
  {
   "cell_type": "code",
   "execution_count": 24,
   "metadata": {},
   "outputs": [
    {
     "data": {
      "application/vnd.jupyter.widget-view+json": {
       "model_id": "cdab5c7ef235464b83de2830ccce00ba",
       "version_major": 2,
       "version_minor": 0
      },
      "text/plain": [
       "QgridWidget(grid_options={'fullWidthRows': True, 'syncColumnCellResize': True, 'forceFitColumns': True, 'defau…"
      ]
     },
     "metadata": {},
     "output_type": "display_data"
    }
   ],
   "source": [
    "mean_data = pd.concat(\n",
    "    [\n",
    "        pd.read_csv(means_CO2H2).assign(Fermentation=\"CO2-H2\"),\n",
    "        pd.read_csv(means_CO).assign(Fermentation=\"CO\")\n",
    "    ],\n",
    "    sort=False\n",
    ").set_index(\n",
    "    [\"Fermentation\", \"Sample\", \"Condition\", \"Quality\"]\n",
    ").sort_index()\n",
    "\n",
    "mean_data"
   ]
  },
  {
   "cell_type": "markdown",
   "metadata": {},
   "source": [
    "## Some Defs for plotting"
   ]
  },
  {
   "cell_type": "code",
   "execution_count": 25,
   "metadata": {},
   "outputs": [],
   "source": [
    "units_of_choice = {\n",
    "    \"Time\": \"h\",\n",
    "    \"Concentration\": \"g/L\",\n",
    "    \"Optical Extinction\": \"1\",\n",
    "    \"pH\": \"1\",\n",
    "    \"Absolute Pressure\": \"bar\",\n",
    "    \"Relative Expression\": \"1\",\n",
    "    \"Comparative Expression\": \"1\"\n",
    "}\n",
    "\n",
    "quality_color_map = {\n",
    "    \"Acetate\": \"rgb(150,0,0)\",\n",
    "    \"EtOH\": \"rgb(0,50,150)\",\n",
    "    \"Fructose\": \"rgb(0,150,250)\",\n",
    "    \"Formic Acid\": \"rgb(30,200,0)\",\n",
    "    \"OD 600\": \"rgb(0,100,50)\",\n",
    "    \"pH\": \"rgb(150,0,150)\",\n",
    "    \"Pressure after\": \"rgb(0,0,50)\",\n",
    "    \"aor\": \"rgb(250, 0, 150)\",\n",
    "    \"pta\": \"rgb(200, 110, 0)\",\n",
    "    \"fdh\": \"rgb(0, 150, 30)\",\n",
    "    \"codh\": \"rgb(0, 30, 150)\"\n",
    "}\n",
    "\n",
    "fermentation_color_map = {\n",
    "    \"CO\": \"rgb(200,0,0)\",\n",
    "    \"CO2-H2\": \"rgb(0,75,200)\"\n",
    "}"
   ]
  },
  {
   "cell_type": "code",
   "execution_count": 29,
   "metadata": {},
   "outputs": [],
   "source": [
    "def gen_plotly_layout(axis_map, measures):\n",
    "    return {\n",
    "        \"xaxis\": dict(\n",
    "            domain=[0, (0.92 if len(measures) > 1 else 1)],\n",
    "            title=\"Time\"+\" [%s]\"%(units_of_choice[\"Time\"]),\n",
    "        ),\n",
    "        **{\n",
    "            \"yaxis\"+(str(ops[\"index\"]) if ops[\"index\"] != 1 else \"\"): dict(\n",
    "                title=quant+\" [%s]\"%(units_of_choice[(quant)]),\n",
    "                anchor=\"x\",\n",
    "                side=ops[\"position\"],\n",
    "                overlaying=(\"y\" if ops[\"index\"] != 1 else None)\n",
    "            ) for quant, ops in axis_map.items()\n",
    "        }\n",
    "    }\n",
    "\n",
    "def plot_measurements(df, measures, axis_map):\n",
    "    def create_scatter(m, f, c, yaxis):\n",
    "        data = df.reset_index(\n",
    "        ).pipe(\n",
    "            lambda df: df.loc[\n",
    "                (df.Fermentation == f) &\n",
    "                (df.Condition == c) &\n",
    "                (df.Quality == m[0]) &\n",
    "                (df.Quantity == m[1])\n",
    "            ]\n",
    "        )\n",
    "        \n",
    "        return go.Scatter(\n",
    "            x=data.Time,\n",
    "            y=data.Value,\n",
    "            error_y=dict(\n",
    "                type='data',\n",
    "                array=data.StDev,\n",
    "                visible=(True if data.StDev.sum() > 0 else False)\n",
    "            ),\n",
    "            mode=\"lines+markers\",\n",
    "            name=\"%s at %s\"%(\n",
    "                f,\n",
    "                \"5 atm\" if c == \"pressure\" else \"1 atm\"\n",
    "            ),\n",
    "            marker=dict(\n",
    "                color=fermentation_color_map[f]\n",
    "            ),\n",
    "            line=dict(\n",
    "                dash=(\"dash\" if c == \"control\" else None)\n",
    "            ),\n",
    "            opacity=0.8,\n",
    "            yaxis=yaxis\n",
    "        )\n",
    "    \n",
    "    scatters = [\n",
    "        (\n",
    "            create_scatter(\n",
    "                m, \n",
    "                f, \n",
    "                c,\n",
    "                \"y\"+str(axis_map[m[1]][\"index\"])\n",
    "            )\n",
    "        ) \n",
    "        for m, mode in measures.items() \n",
    "        for c in [\"control\", \"pressure\"] \n",
    "        for f in [\"CO\", \"CO2-H2\"]\n",
    "    ]\n",
    "    \n",
    "    return dict(\n",
    "        data=scatters,\n",
    "        layout=gen_plotly_layout(axis_map, measures)\n",
    "    )"
   ]
  },
  {
   "cell_type": "markdown",
   "metadata": {},
   "source": [
    "## Pressure scatter"
   ]
  },
  {
   "cell_type": "code",
   "execution_count": 36,
   "metadata": {},
   "outputs": [
    {
     "data": {
      "application/vnd.jupyter.widget-view+json": {
       "model_id": "1718461736b9470fab2107c52f41a549",
       "version_major": 2,
       "version_minor": 0
      },
      "text/plain": [
       "FigureWidget({\n",
       "    'data': [{'error_y': {'array': array([0.01732051,        nan, 0.01258306, 0.02217356, 0.022…"
      ]
     },
     "metadata": {},
     "output_type": "display_data"
    }
   ],
   "source": [
    "axis_map = {\n",
    "    \"Absolute Pressure\": {\n",
    "        \"index\": 1,\n",
    "        \"position\": \"left\"\n",
    "    }\n",
    "}\n",
    "\n",
    "fig = go.FigureWidget(plot_measurements(\n",
    "    mean_data,\n",
    "    {\n",
    "        (\"Pressure after\", \"Absolute Pressure\"): \"mean\"\n",
    "    },\n",
    "    axis_map\n",
    "))\n",
    "\n",
    "pio.write_image(fig, str(results_path / 'pressure.svg'))\n",
    "fig"
   ]
  },
  {
   "cell_type": "markdown",
   "metadata": {},
   "source": [
    "## OD_600 scatter"
   ]
  },
  {
   "cell_type": "code",
   "execution_count": 35,
   "metadata": {},
   "outputs": [
    {
     "data": {
      "application/vnd.jupyter.widget-view+json": {
       "model_id": "a418c1e47f3a472fa77681f7c4e08d68",
       "version_major": 2,
       "version_minor": 0
      },
      "text/plain": [
       "FigureWidget({\n",
       "    'data': [{'error_y': {'array': array([0.04844241, 0.05042486, 0.02533114, 0.11100863, 0.016…"
      ]
     },
     "metadata": {},
     "output_type": "display_data"
    }
   ],
   "source": [
    "axis_map = {\n",
    "    \"Optical Extinction\": {\n",
    "        \"index\": 1,\n",
    "        \"position\": \"left\"\n",
    "    }\n",
    "}\n",
    "\n",
    "fig = go.FigureWidget(\n",
    "    plot_measurements(\n",
    "        mean_data, \n",
    "        {\n",
    "            (\"OD 600\", \"Optical Extinction\"): \"mean\"\n",
    "        }, \n",
    "        axis_map\n",
    "    )\n",
    ")\n",
    "\n",
    "pio.write_image(fig, str(results_path / 'od-600.svg'))\n",
    "fig"
   ]
  },
  {
   "cell_type": "markdown",
   "metadata": {},
   "source": [
    "## Acetate scatter"
   ]
  },
  {
   "cell_type": "code",
   "execution_count": 37,
   "metadata": {},
   "outputs": [
    {
     "data": {
      "application/vnd.jupyter.widget-view+json": {
       "model_id": "46cca01f3b4d487f9ad4e584a154740d",
       "version_major": 2,
       "version_minor": 0
      },
      "text/plain": [
       "FigureWidget({\n",
       "    'data': [{'error_y': {'array': array([0.05749706, 0.00079877, 0.17557194, 0.13070085, 0.140…"
      ]
     },
     "metadata": {},
     "output_type": "display_data"
    }
   ],
   "source": [
    "axis_map = {\n",
    "    \"Concentration\": {\n",
    "        \"index\": 1,\n",
    "        \"position\": \"left\"\n",
    "    }\n",
    "}\n",
    "\n",
    "fig = go.FigureWidget(\n",
    "    plot_measurements(\n",
    "        mean_data, \n",
    "        {\n",
    "            (\"Acetate\", \"Concentration\"): \"mean\"\n",
    "        }, \n",
    "        axis_map\n",
    "    )\n",
    ")\n",
    "\n",
    "pio.write_image(fig, str(results_path / 'acetate.svg'))\n",
    "fig"
   ]
  },
  {
   "cell_type": "markdown",
   "metadata": {},
   "source": [
    "## Ethanol scatter"
   ]
  },
  {
   "cell_type": "code",
   "execution_count": 38,
   "metadata": {},
   "outputs": [
    {
     "data": {
      "application/vnd.jupyter.widget-view+json": {
       "model_id": "7f314875c5994c349317bc92432c901b",
       "version_major": 2,
       "version_minor": 0
      },
      "text/plain": [
       "FigureWidget({\n",
       "    'data': [{'error_y': {'array': array([       nan,        nan, 0.29096017, 0.05587874, 0.073…"
      ]
     },
     "metadata": {},
     "output_type": "display_data"
    }
   ],
   "source": [
    "axis_map = {\n",
    "    \"Concentration\": {\n",
    "        \"index\": 1,\n",
    "        \"position\": \"left\"\n",
    "    }\n",
    "}\n",
    "\n",
    "fig = go.FigureWidget(\n",
    "    plot_measurements(\n",
    "        mean_data, \n",
    "        {\n",
    "            (\"EtOH\", \"Concentration\"): \"mean\"\n",
    "        }, \n",
    "        axis_map\n",
    "    )\n",
    ")\n",
    "\n",
    "pio.write_image(fig, str(results_path / 'ethanol.svg'))\n",
    "fig"
   ]
  },
  {
   "cell_type": "markdown",
   "metadata": {},
   "source": [
    "## Fructose"
   ]
  },
  {
   "cell_type": "code",
   "execution_count": 39,
   "metadata": {},
   "outputs": [
    {
     "data": {
      "application/vnd.jupyter.widget-view+json": {
       "model_id": "2e5b6234afcd42378ebe942d8cb71b0f",
       "version_major": 2,
       "version_minor": 0
      },
      "text/plain": [
       "FigureWidget({\n",
       "    'data': [{'error_y': {'array': array([0.01100814, 0.01243729, 0.00296945, 0.00255934]),\n",
       "   …"
      ]
     },
     "metadata": {},
     "output_type": "display_data"
    }
   ],
   "source": [
    "axis_map = {\n",
    "    \"Concentration\": {\n",
    "        \"index\": 1,\n",
    "        \"position\": \"left\"\n",
    "    }\n",
    "}\n",
    "\n",
    "fig = go.FigureWidget(\n",
    "    plot_measurements(\n",
    "        mean_data, \n",
    "        {\n",
    "            (\"Fructose\", \"Concentration\"): \"mean\"\n",
    "        }, \n",
    "        axis_map\n",
    "    )\n",
    ")\n",
    "\n",
    "pio.write_image(fig, str(results_path / 'fructose.svg'))\n",
    "fig"
   ]
  }
 ],
 "metadata": {
  "kernelspec": {
   "display_name": "Python 3",
   "language": "python",
   "name": "python3"
  },
  "language_info": {
   "codemirror_mode": {
    "name": "ipython",
    "version": 3
   },
   "file_extension": ".py",
   "mimetype": "text/x-python",
   "name": "python",
   "nbconvert_exporter": "python",
   "pygments_lexer": "ipython3",
   "version": "3.6.8"
  }
 },
 "nbformat": 4,
 "nbformat_minor": 2
}
