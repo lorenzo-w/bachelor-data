{
 "cells": [
  {
   "cell_type": "markdown",
   "metadata": {},
   "source": [
    "# Combine product concentrations from GC with enzymatic assays and OD-pH-pressure"
   ]
  },
  {
   "cell_type": "markdown",
   "metadata": {},
   "source": [
    "## Imports and setup"
   ]
  },
  {
   "cell_type": "code",
   "execution_count": 52,
   "metadata": {},
   "outputs": [
    {
     "data": {
      "text/html": [
       "<script type=\"text/javascript\">window.PlotlyConfig = {MathJaxConfig: 'local'};</script><script type=\"text/javascript\">if (window.MathJax) {MathJax.Hub.Config({SVG: {font: \"STIX-Web\"}});}</script><script>requirejs.config({paths: { 'plotly': ['https://cdn.plot.ly/plotly-latest.min']},});if(!window._Plotly) {require(['plotly'],function(plotly) {window._Plotly=plotly;});}</script>"
      ],
      "text/vnd.plotly.v1+html": [
       "<script type=\"text/javascript\">window.PlotlyConfig = {MathJaxConfig: 'local'};</script><script type=\"text/javascript\">if (window.MathJax) {MathJax.Hub.Config({SVG: {font: \"STIX-Web\"}});}</script><script>requirejs.config({paths: { 'plotly': ['https://cdn.plot.ly/plotly-latest.min']},});if(!window._Plotly) {require(['plotly'],function(plotly) {window._Plotly=plotly;});}</script>"
      ]
     },
     "metadata": {},
     "output_type": "display_data"
    }
   ],
   "source": [
    "import os\n",
    "from pathlib import Path\n",
    "import webbrowser\n",
    "from functools import reduce\n",
    "import random\n",
    "import operator\n",
    "import pandas as pd\n",
    "from ipywidgets import interact, interactive, fixed\n",
    "import ipywidgets as widgets\n",
    "import plotly.offline as py\n",
    "import plotly.graph_objs as go\n",
    "import plotly_express as px\n",
    "import numpy as np\n",
    "import sympy as sp\n",
    "import qgrid as qg\n",
    "import plotly.io as pio\n",
    "\n",
    "from utils.plot_utils import scatterplot_from_df, boxplot_from_df \n",
    "\n",
    "idx = pd.IndexSlice\n",
    "\n",
    "sp.init_printing()\n",
    "py.init_notebook_mode(connected=True)\n",
    "qg.set_defaults(show_toolbar=True)\n",
    "qg.enable()"
   ]
  },
  {
   "cell_type": "markdown",
   "metadata": {},
   "source": [
    "## Input files and definitions"
   ]
  },
  {
   "cell_type": "code",
   "execution_count": 2,
   "metadata": {},
   "outputs": [
    {
     "data": {
      "application/vnd.jupyter.widget-view+json": {
       "model_id": "26fb3b436b8a45fe8d31b3942c4d5658",
       "version_major": 2,
       "version_minor": 0
      },
      "text/plain": [
       "QgridWidget(grid_options={'fullWidthRows': True, 'syncColumnCellResize': True, 'forceFitColumns': True, 'defau…"
      ]
     },
     "metadata": {},
     "output_type": "display_data"
    }
   ],
   "source": [
    "sample_template = pd.DataFrame(\n",
    "    [\n",
    "        (sample, bottle) \n",
    "        for sample in range(1, 12, 1) \n",
    "        for bottle in [\"A\", \"B\", \"C\", \"D\", \"E\", \"F\", \"G\", \"H\"]\n",
    "    ],\n",
    "    columns=(\"Sample\", \"Bottle\")\n",
    ").set_index([\"Sample\", \"Bottle\"])\n",
    "\n",
    "sample_template"
   ]
  },
  {
   "cell_type": "code",
   "execution_count": 55,
   "metadata": {},
   "outputs": [],
   "source": [
    "sample_times_path = Path(\"./data/sample-times_CO.csv\")\n",
    "gc_conc_path = Path(\"./intermediate/GC/CO/concentrations.csv\")\n",
    "od_ph_path = Path(\"./data/growth_CO.csv\")\n",
    "eth_ac_assay_path = Path(\"./data/Enzymatic_Assays/ethanol_acetate_assay_results_CO.csv\")\n",
    "fru_assay_path = Path(\"./data/Enzymatic_Assays/fructose_assay_results_CO.csv\")\n",
    "form_assay_path = Path(\"./data/Enzymatic_Assays/formate_assay_results_CO.csv\")\n",
    "\n",
    "intermediate_path = Path(\"./intermediate\")\n",
    "results_path = Path(\"./results/CO\")"
   ]
  },
  {
   "cell_type": "code",
   "execution_count": 26,
   "metadata": {},
   "outputs": [
    {
     "data": {
      "application/vnd.jupyter.widget-view+json": {
       "model_id": "198a7d7622454a7a9ca517333485de3c",
       "version_major": 2,
       "version_minor": 0
      },
      "text/plain": [
       "QgridWidget(grid_options={'fullWidthRows': True, 'syncColumnCellResize': True, 'forceFitColumns': True, 'defau…"
      ]
     },
     "metadata": {},
     "output_type": "display_data"
    }
   ],
   "source": [
    "def query_group(g):\n",
    "    return (\n",
    "        ((g.index.get_level_values(\"Bottle_Set\") == \"A-D\") & \n",
    "         g.index.get_level_values(\"Bottle\").isin([\"A\", \"B\", \"C\", \"D\"])) | \n",
    "        ((g.index.get_level_values(\"Bottle_Set\") == \"E-H\") & \n",
    "         g.index.get_level_values(\"Bottle\").isin([\"E\", \"F\", \"G\", \"H\"]))\n",
    "    ) \n",
    "\n",
    "exp_from_bottle_col = lambda bottle: (\n",
    "    np.where(\n",
    "        bottle.isin([\"A\", \"B\", \"C\", \"D\"]), \n",
    "        \"control\", \n",
    "        np.where(\n",
    "            bottle.isin([\"E\", \"F\", \"G\", \"H\"]), \n",
    "            \"pressure\", \n",
    "            float(\"NaN\")\n",
    "        )\n",
    "    )\n",
    ")\n",
    "\n",
    "sample_times = sample_template.join(\n",
    "    pd.read_csv(\n",
    "        sample_times_path\n",
    "    ).rename(\n",
    "        {\n",
    "            \"Bottle Set\": \"Bottle_Set\"\n",
    "        },\n",
    "        axis=\"columns\"\n",
    "    ).set_index(\n",
    "        [\"Sample\", \"Bottle_Set\"]\n",
    "    )\n",
    ").groupby(\n",
    "    level=[\"Sample\", \"Bottle\"]\n",
    ").agg({\n",
    "    \"Time\": lambda group: group.loc[query_group(group)].iloc[0]\n",
    "}).assign(\n",
    "    Condition=lambda df: exp_from_bottle_col(df.index.get_level_values(\"Bottle\"))\n",
    ")\n",
    "\n",
    "sample_times"
   ]
  },
  {
   "cell_type": "code",
   "execution_count": 53,
   "metadata": {},
   "outputs": [
    {
     "data": {
      "application/vnd.jupyter.widget-view+json": {
       "model_id": "df20b969bce6406c9c1b0b7e888d7403",
       "version_major": 2,
       "version_minor": 0
      },
      "text/plain": [
       "QgridWidget(grid_options={'fullWidthRows': True, 'syncColumnCellResize': True, 'forceFitColumns': True, 'defau…"
      ]
     },
     "metadata": {},
     "output_type": "display_data"
    }
   ],
   "source": [
    "psi_to_bar = 0.0689476\n",
    "\n",
    "qualities = {\n",
    "    \"OD 600\": {\n",
    "        \"Quantity\": \"Optical Extinction\",\n",
    "        \"Unit\": \"1\"\n",
    "    },\n",
    "    \"pH\": {\n",
    "        \"Quantity\": \"pH\",\n",
    "        \"Unit\": \"1\"\n",
    "    },\n",
    "    \"Pressure after\": {\n",
    "        \"Quantity\": \"Absolute Pressure\",\n",
    "        \"Unit\": \"bar\"\n",
    "    }\n",
    "}\n",
    "\n",
    "def convert_psi_to_bar(df):\n",
    "    mask_all = (df.Quality == \"pressure_after\")\n",
    "    mask_high = (df.Value > 10) \n",
    "    new_df = df.copy()\n",
    "    new_df.loc[mask_all & mask_high, \"Value\"] *= psi_to_bar\n",
    "    new_df.loc[mask_all, \"Value\"] += 1.01325\n",
    "    return new_df\n",
    "\n",
    "growth_data = sample_times.join(\n",
    "    pd.read_csv(od_ph_path, index_col=[\"Sample\", \"Bottle\"]).loc[:,[\"OD_600\", \"pH\", \"pressure_after\"]]\n",
    ").rename(\n",
    "    {\n",
    "        \"pressure_after\": \"Pressure after\",\n",
    "        \"OD_600\": \"OD 600\"\n",
    "    },\n",
    "    axis=\"columns\"\n",
    ").assign(\n",
    "    Method=\"Manual\"\n",
    ").reset_index().melt(\n",
    "    id_vars=[\"Sample\", \"Bottle\", \"Time\", \"Method\", \"Condition\"],\n",
    "    value_vars=[\"OD 600\", \"pH\", \"Pressure after\"],\n",
    "    var_name=\"Quality\",\n",
    "    value_name=\"Value\"\n",
    ").pipe(\n",
    "    convert_psi_to_bar\n",
    ").assign(\n",
    "    Quantity=lambda df: df.Quality.map(lambda q: qualities[q][\"Quantity\"]),\n",
    "    Unit=lambda df: df.Quality.map(lambda q: qualities[q][\"Unit\"]),\n",
    "    StDev=0,\n",
    "    Points=1\n",
    ").set_index(\n",
    "    [\"Sample\", \"Bottle\", \"Quality\"]\n",
    ")\n",
    "\n",
    "growth_data"
   ]
  },
  {
   "cell_type": "code",
   "execution_count": 28,
   "metadata": {
    "scrolled": false
   },
   "outputs": [
    {
     "data": {
      "application/vnd.jupyter.widget-view+json": {
       "model_id": "0be9500315004325add2c88b322b7412",
       "version_major": 2,
       "version_minor": 0
      },
      "text/plain": [
       "QgridWidget(grid_options={'fullWidthRows': True, 'syncColumnCellResize': True, 'forceFitColumns': True, 'defau…"
      ]
     },
     "metadata": {},
     "output_type": "display_data"
    }
   ],
   "source": [
    "qualities = {\n",
    "    \"Acetate\": {\n",
    "        \"Quantity\": \"Concentration\",\n",
    "        \"Unit\": \"g/L\"\n",
    "    },\n",
    "    \"EtOH\": {\n",
    "        \"Quantity\": \"Concentration\",\n",
    "        \"Unit\": \"g/L\"\n",
    "    }\n",
    "}\n",
    "\n",
    "gc_conc = sample_times.join(\n",
    "    pd.read_csv(gc_conc_path, index_col=[\"Sample\", \"Bottle\"])\n",
    ").assign(\n",
    "    Method=\"GC\"\n",
    ").reset_index().melt(\n",
    "    id_vars=[\"Sample\", \"Bottle\", \"Time\", \"Method\", \"Condition\"],\n",
    "    value_vars=[\"Acetate\", \"EtOH\"],\n",
    "    var_name=\"Quality\",\n",
    "    value_name=\"Value\"\n",
    ").assign(\n",
    "    Quantity=lambda df: df.Quality.map(lambda q: qualities[q][\"Quantity\"]),\n",
    "    Unit=lambda df: df.Quality.map(lambda q: qualities[q][\"Unit\"]),\n",
    "    StDev=0,\n",
    "    Points=1\n",
    ").set_index([\"Sample\", \"Bottle\", \"Quality\"])\n",
    "\n",
    "gc_conc"
   ]
  },
  {
   "cell_type": "code",
   "execution_count": 30,
   "metadata": {},
   "outputs": [
    {
     "data": {
      "application/vnd.jupyter.widget-view+json": {
       "model_id": "d8babd9f34df4d1ea621b16a5f1adc48",
       "version_major": 2,
       "version_minor": 0
      },
      "text/plain": [
       "QgridWidget(grid_options={'fullWidthRows': True, 'syncColumnCellResize': True, 'forceFitColumns': True, 'defau…"
      ]
     },
     "metadata": {},
     "output_type": "display_data"
    }
   ],
   "source": [
    "assay_data = sample_times.join(\n",
    "    [\n",
    "        pd.read_csv(eth_ac_assay_path, index_col=[\"Sample\", \"Bottle\"]),\n",
    "        pd.read_csv(fru_assay_path, index_col=[\"Sample\", \"Bottle\"]),\n",
    "        pd.read_csv(form_assay_path, index_col=[\"Sample\", \"Bottle\"]).rename(\n",
    "            {\n",
    "                \"Formate\": \"Formic Acid\"\n",
    "            },\n",
    "            axis=\"columns\"\n",
    "        ).reindex(\n",
    "            [\"Formic Acid\"],\n",
    "            axis=\"columns\"\n",
    "        )\n",
    "    ]\n",
    ")\n",
    "\n",
    "assay_data"
   ]
  },
  {
   "cell_type": "code",
   "execution_count": 31,
   "metadata": {},
   "outputs": [
    {
     "data": {
      "application/vnd.jupyter.widget-view+json": {
       "model_id": "0264391924f3403a93938e6c3932d3d1",
       "version_major": 2,
       "version_minor": 0
      },
      "text/plain": [
       "QgridWidget(grid_options={'fullWidthRows': True, 'syncColumnCellResize': True, 'forceFitColumns': True, 'defau…"
      ]
     },
     "metadata": {},
     "output_type": "display_data"
    }
   ],
   "source": [
    "qualities = {\n",
    "    \"Acetate\": {\n",
    "        \"Quantity\": \"Concentration\",\n",
    "        \"Unit\": \"g/L\"\n",
    "    },\n",
    "    \"EtOH\": {\n",
    "        \"Quantity\": \"Concentration\",\n",
    "        \"Unit\": \"g/L\"\n",
    "    },\n",
    "    \"Fructose\": {\n",
    "        \"Quantity\": \"Concentration\",\n",
    "        \"Unit\": \"g/L\"\n",
    "    },\n",
    "    \"Formic Acid\": {\n",
    "        \"Quantity\": \"Concentration\",\n",
    "        \"Unit\": \"g/L\"\n",
    "    }\n",
    "}\n",
    "\n",
    "assay_conc = assay_data.loc[\n",
    "    :, \n",
    "    [\"Time\", \"Condition\", \"Acetate\", \"Ethanol\", \"Fructose\", \"Formic Acid\"]\n",
    "].rename(\n",
    "    {\n",
    "        \"Ethanol\": \"EtOH\"\n",
    "    },\n",
    "    axis=\"columns\"\n",
    ").assign(\n",
    "    Method=\"Enzymatic_Assay\"\n",
    ").reset_index().melt(\n",
    "    id_vars=[\"Sample\", \"Bottle\", \"Time\", \"Method\", \"Condition\"],\n",
    "    value_vars=[\"Acetate\", \"EtOH\", \"Fructose\", \"Formic Acid\"],\n",
    "    var_name=\"Quality\",\n",
    "    value_name=\"Value\"\n",
    ").assign(\n",
    "    Quantity=lambda df: df.Quality.map(lambda q: qualities[q][\"Quantity\"]),\n",
    "    Unit=lambda df: df.Quality.map(lambda q: qualities[q][\"Unit\"]),\n",
    "    StDev=0,\n",
    "    Points=1\n",
    ").dropna(\n",
    ").set_index([\"Sample\", \"Bottle\", \"Quality\"])\n",
    "\n",
    "assay_conc"
   ]
  },
  {
   "cell_type": "code",
   "execution_count": 32,
   "metadata": {},
   "outputs": [
    {
     "data": {
      "application/vnd.jupyter.widget-view+json": {
       "model_id": "ca6bcffd29b04452af20ec9016e7c1ad",
       "version_major": 2,
       "version_minor": 0
      },
      "text/plain": [
       "QgridWidget(grid_options={'fullWidthRows': True, 'syncColumnCellResize': True, 'forceFitColumns': True, 'defau…"
      ]
     },
     "metadata": {},
     "output_type": "display_data"
    }
   ],
   "source": [
    "gc_vs_assays = pd.concat(\n",
    "    [\n",
    "        assay_conc[assay_conc.index.isin(gc_conc.index)],\n",
    "        gc_conc.loc[gc_conc.index.isin(assay_conc.index)]\n",
    "    ]\n",
    ")\n",
    "\n",
    "gc_vs_assays"
   ]
  },
  {
   "cell_type": "markdown",
   "metadata": {},
   "source": [
    "## Some Defs for plotting"
   ]
  },
  {
   "cell_type": "code",
   "execution_count": 54,
   "metadata": {},
   "outputs": [],
   "source": [
    "units_of_choice = {\n",
    "    \"Time\": \"h\",\n",
    "    \"Concentration\": \"g/L\",\n",
    "    \"Optical Extinction\": \"1\",\n",
    "    \"pH\": \"1\",\n",
    "    \"Absolute Pressure\": \"bar\",\n",
    "    \"Relative Expression\": \"1\",\n",
    "    \"Comparative Expression\": \"1\"\n",
    "}\n",
    "\n",
    "quality_color_map = {\n",
    "    \"Acetate\": \"rgb(150,0,0)\",\n",
    "    \"EtOH\": \"rgb(0,50,150)\",\n",
    "    \"Fructose\": \"rgb(0,150,250)\",\n",
    "    \"Formic Acid\": \"rgb(30,200,0)\",\n",
    "    \"OD 600\": \"rgb(0,100,50)\",\n",
    "    \"pH\": \"rgb(150,0,150)\",\n",
    "    \"Pressure after\": \"rgb(0,0,50)\",\n",
    "    \"aor\": \"rgb(250, 0, 150)\",\n",
    "    \"pta\": \"rgb(200, 110, 0)\",\n",
    "    \"fdh\": \"rgb(0, 150, 30)\",\n",
    "    \"codh\": \"rgb(0, 30, 150)\"\n",
    "}\n",
    "\n",
    "bottle_color_map = {\n",
    "    \"A\": \"rgb(200,0,0)\",\n",
    "    \"B\": \"rgb(0,75,200)\",\n",
    "    \"C\": \"rgb(0,200,255)\",\n",
    "    \"D\": \"rgb(0,150,90)\",\n",
    "    \"E\": \"rgb(240,50,240)\",\n",
    "    \"F\": \"rgb(255, 200, 0)\",\n",
    "    \"G\": \"rgb(255, 135, 0)\",\n",
    "    \"H\": \"rgb(0, 200, 20)\",\n",
    "}"
   ]
  },
  {
   "cell_type": "markdown",
   "metadata": {},
   "source": [
    "## Correlation between GC and Assays for Acetate (multi-scatter)"
   ]
  },
  {
   "cell_type": "code",
   "execution_count": 56,
   "metadata": {},
   "outputs": [
    {
     "data": {
      "application/vnd.plotly.v1+json": {
       "config": {
        "linkText": "Export to plot.ly",
        "plotlyServerURL": "https://plot.ly",
        "showLink": false
       },
       "data": [
        {
         "hovertemplate": "Bottle=H<br>Method=Enzymatic_Assay<br>Time [h]=%{x}<br>Concentration [g/L]=%{y}<extra></extra>",
         "legendgroup": "Method=Enzymatic_Assay",
         "marker": {
          "color": "#636efa",
          "symbol": "circle"
         },
         "mode": "markers",
         "name": "Method=Enzymatic_Assay",
         "showlegend": true,
         "type": "scatter",
         "uid": "449b1f3c-1898-47c6-8b13-2b9aa35ffec1",
         "x": [
          0.5,
          23,
          47,
          70.75,
          96.25,
          143,
          168.25
         ],
         "xaxis": "x",
         "y": [
          0.432061801,
          0.9024900109999999,
          1.150265382,
          1.9397907230000002,
          1.7186873980000001,
          2.2213108669999997,
          1.9120729019999998
         ],
         "yaxis": "y"
        },
        {
         "hovertemplate": "Bottle=H<br>Method=GC<br>Time [h]=%{x}<br>Concentration [g/L]=%{y}<extra></extra>",
         "legendgroup": "Method=GC",
         "marker": {
          "color": "#EF553B",
          "symbol": "circle"
         },
         "mode": "markers",
         "name": "Method=GC",
         "showlegend": true,
         "type": "scatter",
         "uid": "7328e136-6541-4918-9b3e-d386844a9686",
         "x": [
          0.5,
          23,
          47,
          70.75,
          96.25,
          143,
          168.25
         ],
         "xaxis": "x",
         "y": [
          null,
          1.160255952,
          1.0709559290000001,
          1.5024576669999998,
          1.6798794069999998,
          2.423495097,
          2.5352586219999997
         ],
         "yaxis": "y"
        }
       ],
       "layout": {
        "annotations": [
         {
          "showarrow": false,
          "text": "Bottle=H",
          "textangle": 0,
          "x": 0.5,
          "xanchor": "center",
          "xref": "paper",
          "y": 1.02,
          "yanchor": "middle",
          "yref": "paper"
         }
        ],
        "grid": {
         "xaxes": [
          "x"
         ],
         "xgap": 0.1,
         "xside": "bottom",
         "yaxes": [
          "y"
         ],
         "ygap": 0.1,
         "yside": "left"
        },
        "height": 600,
        "legend": {
         "tracegroupgap": 0
        },
        "margin": {
         "t": 60
        },
        "template": {
         "data": {
          "bar": [
           {
            "marker": {
             "line": {
              "color": "white",
              "width": 0.5
             }
            },
            "type": "bar"
           }
          ],
          "barpolar": [
           {
            "marker": {
             "line": {
              "color": "white",
              "width": 0.5
             }
            },
            "type": "barpolar"
           }
          ],
          "carpet": [
           {
            "aaxis": {
             "endlinecolor": "#2a3f5f",
             "gridcolor": "#C8D4E3",
             "linecolor": "#C8D4E3",
             "minorgridcolor": "#C8D4E3",
             "startlinecolor": "#2a3f5f"
            },
            "baxis": {
             "endlinecolor": "#2a3f5f",
             "gridcolor": "#C8D4E3",
             "linecolor": "#C8D4E3",
             "minorgridcolor": "#C8D4E3",
             "startlinecolor": "#2a3f5f"
            },
            "type": "carpet"
           }
          ],
          "choropleth": [
           {
            "colorbar": {
             "outlinewidth": 0,
             "ticks": ""
            },
            "type": "choropleth"
           }
          ],
          "contour": [
           {
            "autocolorscale": true,
            "colorbar": {
             "outlinewidth": 0,
             "ticks": ""
            },
            "type": "contour"
           }
          ],
          "contourcarpet": [
           {
            "colorbar": {
             "outlinewidth": 0,
             "ticks": ""
            },
            "type": "contourcarpet"
           }
          ],
          "heatmap": [
           {
            "autocolorscale": true,
            "colorbar": {
             "outlinewidth": 0,
             "ticks": ""
            },
            "type": "heatmap"
           }
          ],
          "heatmapgl": [
           {
            "colorbar": {
             "outlinewidth": 0,
             "ticks": ""
            },
            "type": "heatmapgl"
           }
          ],
          "histogram": [
           {
            "marker": {
             "colorbar": {
              "outlinewidth": 0,
              "ticks": ""
             }
            },
            "type": "histogram"
           }
          ],
          "histogram2d": [
           {
            "autocolorscale": true,
            "colorbar": {
             "outlinewidth": 0,
             "ticks": ""
            },
            "type": "histogram2d"
           }
          ],
          "histogram2dcontour": [
           {
            "autocolorscale": true,
            "colorbar": {
             "outlinewidth": 0,
             "ticks": ""
            },
            "type": "histogram2dcontour"
           }
          ],
          "mesh3d": [
           {
            "colorbar": {
             "outlinewidth": 0,
             "ticks": ""
            },
            "type": "mesh3d"
           }
          ],
          "parcoords": [
           {
            "line": {
             "colorbar": {
              "outlinewidth": 0,
              "ticks": ""
             }
            },
            "type": "parcoords"
           }
          ],
          "scatter": [
           {
            "marker": {
             "colorbar": {
              "outlinewidth": 0,
              "ticks": ""
             }
            },
            "type": "scatter"
           }
          ],
          "scatter3d": [
           {
            "marker": {
             "colorbar": {
              "outlinewidth": 0,
              "ticks": ""
             }
            },
            "type": "scatter3d"
           }
          ],
          "scattercarpet": [
           {
            "marker": {
             "colorbar": {
              "outlinewidth": 0,
              "ticks": ""
             }
            },
            "type": "scattercarpet"
           }
          ],
          "scattergeo": [
           {
            "marker": {
             "colorbar": {
              "outlinewidth": 0,
              "ticks": ""
             }
            },
            "type": "scattergeo"
           }
          ],
          "scattergl": [
           {
            "marker": {
             "colorbar": {
              "outlinewidth": 0,
              "ticks": ""
             }
            },
            "type": "scattergl"
           }
          ],
          "scattermapbox": [
           {
            "marker": {
             "colorbar": {
              "outlinewidth": 0,
              "ticks": ""
             }
            },
            "type": "scattermapbox"
           }
          ],
          "scatterpolar": [
           {
            "marker": {
             "colorbar": {
              "outlinewidth": 0,
              "ticks": ""
             }
            },
            "type": "scatterpolar"
           }
          ],
          "scatterpolargl": [
           {
            "marker": {
             "colorbar": {
              "outlinewidth": 0,
              "ticks": ""
             }
            },
            "type": "scatterpolargl"
           }
          ],
          "scatterternary": [
           {
            "marker": {
             "colorbar": {
              "outlinewidth": 0,
              "ticks": ""
             }
            },
            "type": "scatterternary"
           }
          ],
          "surface": [
           {
            "colorbar": {
             "outlinewidth": 0,
             "ticks": ""
            },
            "type": "surface"
           }
          ],
          "table": [
           {
            "cells": {
             "fill": {
              "color": "#EBF0F8"
             },
             "line": {
              "color": "white"
             }
            },
            "header": {
             "fill": {
              "color": "#C8D4E3"
             },
             "line": {
              "color": "white"
             }
            },
            "type": "table"
           }
          ]
         },
         "layout": {
          "annotationdefaults": {
           "arrowcolor": "#506784",
           "arrowhead": 0,
           "arrowwidth": 1
          },
          "colorscale": {
           "diverging": [
            [
             0,
             "#8e0152"
            ],
            [
             0.1,
             "#c51b7d"
            ],
            [
             0.2,
             "#de77ae"
            ],
            [
             0.3,
             "#f1b6da"
            ],
            [
             0.4,
             "#fde0ef"
            ],
            [
             0.5,
             "#f7f7f7"
            ],
            [
             0.6,
             "#e6f5d0"
            ],
            [
             0.7,
             "#b8e186"
            ],
            [
             0.8,
             "#7fbc41"
            ],
            [
             0.9,
             "#4d9221"
            ],
            [
             1,
             "#276419"
            ]
           ],
           "sequential": [
            [
             0,
             "#0508b8"
            ],
            [
             0.0893854748603352,
             "#1910d8"
            ],
            [
             0.1787709497206704,
             "#3c19f0"
            ],
            [
             0.2681564245810056,
             "#6b1cfb"
            ],
            [
             0.3575418994413408,
             "#981cfd"
            ],
            [
             0.44692737430167595,
             "#bf1cfd"
            ],
            [
             0.5363128491620112,
             "#dd2bfd"
            ],
            [
             0.6256983240223464,
             "#f246fe"
            ],
            [
             0.7150837988826816,
             "#fc67fd"
            ],
            [
             0.8044692737430168,
             "#fe88fc"
            ],
            [
             0.8938547486033519,
             "#fea5fd"
            ],
            [
             0.9832402234636871,
             "#febefe"
            ],
            [
             1,
             "#fec3fe"
            ]
           ],
           "sequentialminus": [
            [
             0,
             "#0508b8"
            ],
            [
             0.0893854748603352,
             "#1910d8"
            ],
            [
             0.1787709497206704,
             "#3c19f0"
            ],
            [
             0.2681564245810056,
             "#6b1cfb"
            ],
            [
             0.3575418994413408,
             "#981cfd"
            ],
            [
             0.44692737430167595,
             "#bf1cfd"
            ],
            [
             0.5363128491620112,
             "#dd2bfd"
            ],
            [
             0.6256983240223464,
             "#f246fe"
            ],
            [
             0.7150837988826816,
             "#fc67fd"
            ],
            [
             0.8044692737430168,
             "#fe88fc"
            ],
            [
             0.8938547486033519,
             "#fea5fd"
            ],
            [
             0.9832402234636871,
             "#febefe"
            ],
            [
             1,
             "#fec3fe"
            ]
           ]
          },
          "colorway": [
           "#636efa",
           "#EF553B",
           "#00cc96",
           "#ab63fa",
           "#19d3f3",
           "#e763fa",
           "#FECB52",
           "#FFA15A",
           "#FF6692",
           "#B6E880"
          ],
          "font": {
           "color": "#2a3f5f"
          },
          "geo": {
           "bgcolor": "white",
           "lakecolor": "white",
           "landcolor": "white",
           "showlakes": true,
           "showland": true,
           "subunitcolor": "#C8D4E3"
          },
          "hovermode": "closest",
          "mapbox": {
           "style": "light"
          },
          "paper_bgcolor": "white",
          "plot_bgcolor": "white",
          "polar": {
           "angularaxis": {
            "gridcolor": "#EBF0F8",
            "linecolor": "#EBF0F8",
            "ticks": ""
           },
           "bgcolor": "white",
           "radialaxis": {
            "gridcolor": "#EBF0F8",
            "linecolor": "#EBF0F8",
            "ticks": ""
           }
          },
          "scene": {
           "xaxis": {
            "backgroundcolor": "white",
            "gridcolor": "#DFE8F3",
            "gridwidth": 2,
            "linecolor": "#EBF0F8",
            "showbackground": true,
            "ticks": "",
            "zerolinecolor": "#EBF0F8"
           },
           "yaxis": {
            "backgroundcolor": "white",
            "gridcolor": "#DFE8F3",
            "gridwidth": 2,
            "linecolor": "#EBF0F8",
            "showbackground": true,
            "ticks": "",
            "zerolinecolor": "#EBF0F8"
           },
           "zaxis": {
            "backgroundcolor": "white",
            "gridcolor": "#DFE8F3",
            "gridwidth": 2,
            "linecolor": "#EBF0F8",
            "showbackground": true,
            "ticks": "",
            "zerolinecolor": "#EBF0F8"
           }
          },
          "shapedefaults": {
           "fillcolor": "#506784",
           "line": {
            "width": 0
           },
           "opacity": 0.4
          },
          "ternary": {
           "aaxis": {
            "gridcolor": "#DFE8F3",
            "linecolor": "#A2B1C6",
            "ticks": ""
           },
           "baxis": {
            "gridcolor": "#DFE8F3",
            "linecolor": "#A2B1C6",
            "ticks": ""
           },
           "bgcolor": "white",
           "caxis": {
            "gridcolor": "#DFE8F3",
            "linecolor": "#A2B1C6",
            "ticks": ""
           }
          },
          "title": {
           "x": 0.05
          },
          "xaxis": {
           "automargin": true,
           "gridcolor": "#EBF0F8",
           "linecolor": "#EBF0F8",
           "ticks": "",
           "zerolinecolor": "#EBF0F8",
           "zerolinewidth": 2
          },
          "yaxis": {
           "automargin": true,
           "gridcolor": "#EBF0F8",
           "linecolor": "#EBF0F8",
           "ticks": "",
           "zerolinecolor": "#EBF0F8",
           "zerolinewidth": 2
          }
         }
        },
        "xaxis": {
         "title": {
          "text": "Time [h]"
         }
        },
        "yaxis": {
         "title": {
          "text": "Concentration [g/L]"
         }
        }
       }
      },
      "text/html": [
       "<div id=\"e28d3fb8-8aed-4436-901a-1f925fbbb2ca\" style=\"height: 600px; width: 100%;\" class=\"plotly-graph-div\"></div><script type=\"text/javascript\">require([\"plotly\"], function(Plotly) { window.PLOTLYENV=window.PLOTLYENV || {};window.PLOTLYENV.BASE_URL=\"https://plot.ly\";\n",
       "if (document.getElementById(\"e28d3fb8-8aed-4436-901a-1f925fbbb2ca\")) {\n",
       "    Plotly.newPlot(\"e28d3fb8-8aed-4436-901a-1f925fbbb2ca\", [{\"hovertemplate\": \"Bottle=H<br>Method=Enzymatic_Assay<br>Time [h]=%{x}<br>Concentration [g/L]=%{y}<extra></extra>\", \"legendgroup\": \"Method=Enzymatic_Assay\", \"marker\": {\"color\": \"#636efa\", \"symbol\": \"circle\"}, \"mode\": \"markers\", \"name\": \"Method=Enzymatic_Assay\", \"showlegend\": true, \"x\": [0.5, 23.0, 47.0, 70.75, 96.25, 143.0, 168.25], \"xaxis\": \"x\", \"y\": [0.432061801, 0.9024900109999999, 1.150265382, 1.9397907230000002, 1.7186873980000001, 2.2213108669999997, 1.9120729019999998], \"yaxis\": \"y\", \"type\": \"scatter\", \"uid\": \"449b1f3c-1898-47c6-8b13-2b9aa35ffec1\"}, {\"hovertemplate\": \"Bottle=H<br>Method=GC<br>Time [h]=%{x}<br>Concentration [g/L]=%{y}<extra></extra>\", \"legendgroup\": \"Method=GC\", \"marker\": {\"color\": \"#EF553B\", \"symbol\": \"circle\"}, \"mode\": \"markers\", \"name\": \"Method=GC\", \"showlegend\": true, \"x\": [0.5, 23.0, 47.0, 70.75, 96.25, 143.0, 168.25], \"xaxis\": \"x\", \"y\": [null, 1.160255952, 1.0709559290000001, 1.5024576669999998, 1.6798794069999998, 2.423495097, 2.5352586219999997], \"yaxis\": \"y\", \"type\": \"scatter\", \"uid\": \"7328e136-6541-4918-9b3e-d386844a9686\"}], {\"height\": 600, \"legend\": {\"tracegroupgap\": 0}, \"margin\": {\"t\": 60}, \"template\": {\"data\": {\"barpolar\": [{\"marker\": {\"line\": {\"color\": \"white\", \"width\": 0.5}}, \"type\": \"barpolar\"}], \"bar\": [{\"marker\": {\"line\": {\"color\": \"white\", \"width\": 0.5}}, \"type\": \"bar\"}], \"carpet\": [{\"aaxis\": {\"endlinecolor\": \"#2a3f5f\", \"gridcolor\": \"#C8D4E3\", \"linecolor\": \"#C8D4E3\", \"minorgridcolor\": \"#C8D4E3\", \"startlinecolor\": \"#2a3f5f\"}, \"baxis\": {\"endlinecolor\": \"#2a3f5f\", \"gridcolor\": \"#C8D4E3\", \"linecolor\": \"#C8D4E3\", \"minorgridcolor\": \"#C8D4E3\", \"startlinecolor\": \"#2a3f5f\"}, \"type\": \"carpet\"}], \"choropleth\": [{\"colorbar\": {\"outlinewidth\": 0, \"ticks\": \"\"}, \"type\": \"choropleth\"}], \"contourcarpet\": [{\"colorbar\": {\"outlinewidth\": 0, \"ticks\": \"\"}, \"type\": \"contourcarpet\"}], \"contour\": [{\"autocolorscale\": true, \"colorbar\": {\"outlinewidth\": 0, \"ticks\": \"\"}, \"type\": \"contour\"}], \"heatmapgl\": [{\"colorbar\": {\"outlinewidth\": 0, \"ticks\": \"\"}, \"type\": \"heatmapgl\"}], \"heatmap\": [{\"autocolorscale\": true, \"colorbar\": {\"outlinewidth\": 0, \"ticks\": \"\"}, \"type\": \"heatmap\"}], \"histogram2dcontour\": [{\"autocolorscale\": true, \"colorbar\": {\"outlinewidth\": 0, \"ticks\": \"\"}, \"type\": \"histogram2dcontour\"}], \"histogram2d\": [{\"autocolorscale\": true, \"colorbar\": {\"outlinewidth\": 0, \"ticks\": \"\"}, \"type\": \"histogram2d\"}], \"histogram\": [{\"marker\": {\"colorbar\": {\"outlinewidth\": 0, \"ticks\": \"\"}}, \"type\": \"histogram\"}], \"mesh3d\": [{\"colorbar\": {\"outlinewidth\": 0, \"ticks\": \"\"}, \"type\": \"mesh3d\"}], \"parcoords\": [{\"line\": {\"colorbar\": {\"outlinewidth\": 0, \"ticks\": \"\"}}, \"type\": \"parcoords\"}], \"scatter3d\": [{\"marker\": {\"colorbar\": {\"outlinewidth\": 0, \"ticks\": \"\"}}, \"type\": \"scatter3d\"}], \"scattercarpet\": [{\"marker\": {\"colorbar\": {\"outlinewidth\": 0, \"ticks\": \"\"}}, \"type\": \"scattercarpet\"}], \"scattergeo\": [{\"marker\": {\"colorbar\": {\"outlinewidth\": 0, \"ticks\": \"\"}}, \"type\": \"scattergeo\"}], \"scattergl\": [{\"marker\": {\"colorbar\": {\"outlinewidth\": 0, \"ticks\": \"\"}}, \"type\": \"scattergl\"}], \"scattermapbox\": [{\"marker\": {\"colorbar\": {\"outlinewidth\": 0, \"ticks\": \"\"}}, \"type\": \"scattermapbox\"}], \"scatterpolargl\": [{\"marker\": {\"colorbar\": {\"outlinewidth\": 0, \"ticks\": \"\"}}, \"type\": \"scatterpolargl\"}], \"scatterpolar\": [{\"marker\": {\"colorbar\": {\"outlinewidth\": 0, \"ticks\": \"\"}}, \"type\": \"scatterpolar\"}], \"scatter\": [{\"marker\": {\"colorbar\": {\"outlinewidth\": 0, \"ticks\": \"\"}}, \"type\": \"scatter\"}], \"scatterternary\": [{\"marker\": {\"colorbar\": {\"outlinewidth\": 0, \"ticks\": \"\"}}, \"type\": \"scatterternary\"}], \"surface\": [{\"colorbar\": {\"outlinewidth\": 0, \"ticks\": \"\"}, \"type\": \"surface\"}], \"table\": [{\"cells\": {\"fill\": {\"color\": \"#EBF0F8\"}, \"line\": {\"color\": \"white\"}}, \"header\": {\"fill\": {\"color\": \"#C8D4E3\"}, \"line\": {\"color\": \"white\"}}, \"type\": \"table\"}]}, \"layout\": {\"annotationdefaults\": {\"arrowcolor\": \"#506784\", \"arrowhead\": 0, \"arrowwidth\": 1}, \"colorscale\": {\"diverging\": [[0, \"#8e0152\"], [0.1, \"#c51b7d\"], [0.2, \"#de77ae\"], [0.3, \"#f1b6da\"], [0.4, \"#fde0ef\"], [0.5, \"#f7f7f7\"], [0.6, \"#e6f5d0\"], [0.7, \"#b8e186\"], [0.8, \"#7fbc41\"], [0.9, \"#4d9221\"], [1, \"#276419\"]], \"sequential\": [[0.0, \"#0508b8\"], [0.0893854748603352, \"#1910d8\"], [0.1787709497206704, \"#3c19f0\"], [0.2681564245810056, \"#6b1cfb\"], [0.3575418994413408, \"#981cfd\"], [0.44692737430167595, \"#bf1cfd\"], [0.5363128491620112, \"#dd2bfd\"], [0.6256983240223464, \"#f246fe\"], [0.7150837988826816, \"#fc67fd\"], [0.8044692737430168, \"#fe88fc\"], [0.8938547486033519, \"#fea5fd\"], [0.9832402234636871, \"#febefe\"], [1.0, \"#fec3fe\"]], \"sequentialminus\": [[0.0, \"#0508b8\"], [0.0893854748603352, \"#1910d8\"], [0.1787709497206704, \"#3c19f0\"], [0.2681564245810056, \"#6b1cfb\"], [0.3575418994413408, \"#981cfd\"], [0.44692737430167595, \"#bf1cfd\"], [0.5363128491620112, \"#dd2bfd\"], [0.6256983240223464, \"#f246fe\"], [0.7150837988826816, \"#fc67fd\"], [0.8044692737430168, \"#fe88fc\"], [0.8938547486033519, \"#fea5fd\"], [0.9832402234636871, \"#febefe\"], [1.0, \"#fec3fe\"]]}, \"colorway\": [\"#636efa\", \"#EF553B\", \"#00cc96\", \"#ab63fa\", \"#19d3f3\", \"#e763fa\", \"#FECB52\", \"#FFA15A\", \"#FF6692\", \"#B6E880\"], \"font\": {\"color\": \"#2a3f5f\"}, \"geo\": {\"bgcolor\": \"white\", \"lakecolor\": \"white\", \"landcolor\": \"white\", \"showlakes\": true, \"showland\": true, \"subunitcolor\": \"#C8D4E3\"}, \"hovermode\": \"closest\", \"mapbox\": {\"style\": \"light\"}, \"paper_bgcolor\": \"white\", \"plot_bgcolor\": \"white\", \"polar\": {\"angularaxis\": {\"gridcolor\": \"#EBF0F8\", \"linecolor\": \"#EBF0F8\", \"ticks\": \"\"}, \"bgcolor\": \"white\", \"radialaxis\": {\"gridcolor\": \"#EBF0F8\", \"linecolor\": \"#EBF0F8\", \"ticks\": \"\"}}, \"scene\": {\"xaxis\": {\"backgroundcolor\": \"white\", \"gridcolor\": \"#DFE8F3\", \"gridwidth\": 2, \"linecolor\": \"#EBF0F8\", \"showbackground\": true, \"ticks\": \"\", \"zerolinecolor\": \"#EBF0F8\"}, \"yaxis\": {\"backgroundcolor\": \"white\", \"gridcolor\": \"#DFE8F3\", \"gridwidth\": 2, \"linecolor\": \"#EBF0F8\", \"showbackground\": true, \"ticks\": \"\", \"zerolinecolor\": \"#EBF0F8\"}, \"zaxis\": {\"backgroundcolor\": \"white\", \"gridcolor\": \"#DFE8F3\", \"gridwidth\": 2, \"linecolor\": \"#EBF0F8\", \"showbackground\": true, \"ticks\": \"\", \"zerolinecolor\": \"#EBF0F8\"}}, \"shapedefaults\": {\"fillcolor\": \"#506784\", \"line\": {\"width\": 0}, \"opacity\": 0.4}, \"ternary\": {\"aaxis\": {\"gridcolor\": \"#DFE8F3\", \"linecolor\": \"#A2B1C6\", \"ticks\": \"\"}, \"baxis\": {\"gridcolor\": \"#DFE8F3\", \"linecolor\": \"#A2B1C6\", \"ticks\": \"\"}, \"bgcolor\": \"white\", \"caxis\": {\"gridcolor\": \"#DFE8F3\", \"linecolor\": \"#A2B1C6\", \"ticks\": \"\"}}, \"title\": {\"x\": 0.05}, \"xaxis\": {\"automargin\": true, \"gridcolor\": \"#EBF0F8\", \"linecolor\": \"#EBF0F8\", \"ticks\": \"\", \"zerolinecolor\": \"#EBF0F8\", \"zerolinewidth\": 2}, \"yaxis\": {\"automargin\": true, \"gridcolor\": \"#EBF0F8\", \"linecolor\": \"#EBF0F8\", \"ticks\": \"\", \"zerolinecolor\": \"#EBF0F8\", \"zerolinewidth\": 2}}}, \"grid\": {\"xaxes\": [\"x\"], \"yaxes\": [\"y\"], \"xgap\": 0.1, \"ygap\": 0.1, \"xside\": \"bottom\", \"yside\": \"left\"}, \"annotations\": [{\"showarrow\": false, \"text\": \"Bottle=H\", \"textangle\": 0, \"x\": 0.5, \"xanchor\": \"center\", \"xref\": \"paper\", \"y\": 1.02, \"yanchor\": \"middle\", \"yref\": \"paper\"}], \"xaxis\": {\"title\": {\"text\": \"Time [h]\"}}, \"yaxis\": {\"title\": {\"text\": \"Concentration [g/L]\"}}}, {\"showLink\": false, \"linkText\": \"Export to plot.ly\", \"plotlyServerURL\": \"https://plot.ly\"}); \n",
       "}\n",
       "});</script><script type=\"text/javascript\">window.addEventListener(\"resize\", function(){if (document.getElementById(\"e28d3fb8-8aed-4436-901a-1f925fbbb2ca\")) {window._Plotly.Plots.resize(document.getElementById(\"e28d3fb8-8aed-4436-901a-1f925fbbb2ca\"));};})</script>"
      ],
      "text/vnd.plotly.v1+html": [
       "<div id=\"e28d3fb8-8aed-4436-901a-1f925fbbb2ca\" style=\"height: 600px; width: 100%;\" class=\"plotly-graph-div\"></div><script type=\"text/javascript\">require([\"plotly\"], function(Plotly) { window.PLOTLYENV=window.PLOTLYENV || {};window.PLOTLYENV.BASE_URL=\"https://plot.ly\";\n",
       "if (document.getElementById(\"e28d3fb8-8aed-4436-901a-1f925fbbb2ca\")) {\n",
       "    Plotly.newPlot(\"e28d3fb8-8aed-4436-901a-1f925fbbb2ca\", [{\"hovertemplate\": \"Bottle=H<br>Method=Enzymatic_Assay<br>Time [h]=%{x}<br>Concentration [g/L]=%{y}<extra></extra>\", \"legendgroup\": \"Method=Enzymatic_Assay\", \"marker\": {\"color\": \"#636efa\", \"symbol\": \"circle\"}, \"mode\": \"markers\", \"name\": \"Method=Enzymatic_Assay\", \"showlegend\": true, \"x\": [0.5, 23.0, 47.0, 70.75, 96.25, 143.0, 168.25], \"xaxis\": \"x\", \"y\": [0.432061801, 0.9024900109999999, 1.150265382, 1.9397907230000002, 1.7186873980000001, 2.2213108669999997, 1.9120729019999998], \"yaxis\": \"y\", \"type\": \"scatter\", \"uid\": \"449b1f3c-1898-47c6-8b13-2b9aa35ffec1\"}, {\"hovertemplate\": \"Bottle=H<br>Method=GC<br>Time [h]=%{x}<br>Concentration [g/L]=%{y}<extra></extra>\", \"legendgroup\": \"Method=GC\", \"marker\": {\"color\": \"#EF553B\", \"symbol\": \"circle\"}, \"mode\": \"markers\", \"name\": \"Method=GC\", \"showlegend\": true, \"x\": [0.5, 23.0, 47.0, 70.75, 96.25, 143.0, 168.25], \"xaxis\": \"x\", \"y\": [null, 1.160255952, 1.0709559290000001, 1.5024576669999998, 1.6798794069999998, 2.423495097, 2.5352586219999997], \"yaxis\": \"y\", \"type\": \"scatter\", \"uid\": \"7328e136-6541-4918-9b3e-d386844a9686\"}], {\"height\": 600, \"legend\": {\"tracegroupgap\": 0}, \"margin\": {\"t\": 60}, \"template\": {\"data\": {\"barpolar\": [{\"marker\": {\"line\": {\"color\": \"white\", \"width\": 0.5}}, \"type\": \"barpolar\"}], \"bar\": [{\"marker\": {\"line\": {\"color\": \"white\", \"width\": 0.5}}, \"type\": \"bar\"}], \"carpet\": [{\"aaxis\": {\"endlinecolor\": \"#2a3f5f\", \"gridcolor\": \"#C8D4E3\", \"linecolor\": \"#C8D4E3\", \"minorgridcolor\": \"#C8D4E3\", \"startlinecolor\": \"#2a3f5f\"}, \"baxis\": {\"endlinecolor\": \"#2a3f5f\", \"gridcolor\": \"#C8D4E3\", \"linecolor\": \"#C8D4E3\", \"minorgridcolor\": \"#C8D4E3\", \"startlinecolor\": \"#2a3f5f\"}, \"type\": \"carpet\"}], \"choropleth\": [{\"colorbar\": {\"outlinewidth\": 0, \"ticks\": \"\"}, \"type\": \"choropleth\"}], \"contourcarpet\": [{\"colorbar\": {\"outlinewidth\": 0, \"ticks\": \"\"}, \"type\": \"contourcarpet\"}], \"contour\": [{\"autocolorscale\": true, \"colorbar\": {\"outlinewidth\": 0, \"ticks\": \"\"}, \"type\": \"contour\"}], \"heatmapgl\": [{\"colorbar\": {\"outlinewidth\": 0, \"ticks\": \"\"}, \"type\": \"heatmapgl\"}], \"heatmap\": [{\"autocolorscale\": true, \"colorbar\": {\"outlinewidth\": 0, \"ticks\": \"\"}, \"type\": \"heatmap\"}], \"histogram2dcontour\": [{\"autocolorscale\": true, \"colorbar\": {\"outlinewidth\": 0, \"ticks\": \"\"}, \"type\": \"histogram2dcontour\"}], \"histogram2d\": [{\"autocolorscale\": true, \"colorbar\": {\"outlinewidth\": 0, \"ticks\": \"\"}, \"type\": \"histogram2d\"}], \"histogram\": [{\"marker\": {\"colorbar\": {\"outlinewidth\": 0, \"ticks\": \"\"}}, \"type\": \"histogram\"}], \"mesh3d\": [{\"colorbar\": {\"outlinewidth\": 0, \"ticks\": \"\"}, \"type\": \"mesh3d\"}], \"parcoords\": [{\"line\": {\"colorbar\": {\"outlinewidth\": 0, \"ticks\": \"\"}}, \"type\": \"parcoords\"}], \"scatter3d\": [{\"marker\": {\"colorbar\": {\"outlinewidth\": 0, \"ticks\": \"\"}}, \"type\": \"scatter3d\"}], \"scattercarpet\": [{\"marker\": {\"colorbar\": {\"outlinewidth\": 0, \"ticks\": \"\"}}, \"type\": \"scattercarpet\"}], \"scattergeo\": [{\"marker\": {\"colorbar\": {\"outlinewidth\": 0, \"ticks\": \"\"}}, \"type\": \"scattergeo\"}], \"scattergl\": [{\"marker\": {\"colorbar\": {\"outlinewidth\": 0, \"ticks\": \"\"}}, \"type\": \"scattergl\"}], \"scattermapbox\": [{\"marker\": {\"colorbar\": {\"outlinewidth\": 0, \"ticks\": \"\"}}, \"type\": \"scattermapbox\"}], \"scatterpolargl\": [{\"marker\": {\"colorbar\": {\"outlinewidth\": 0, \"ticks\": \"\"}}, \"type\": \"scatterpolargl\"}], \"scatterpolar\": [{\"marker\": {\"colorbar\": {\"outlinewidth\": 0, \"ticks\": \"\"}}, \"type\": \"scatterpolar\"}], \"scatter\": [{\"marker\": {\"colorbar\": {\"outlinewidth\": 0, \"ticks\": \"\"}}, \"type\": \"scatter\"}], \"scatterternary\": [{\"marker\": {\"colorbar\": {\"outlinewidth\": 0, \"ticks\": \"\"}}, \"type\": \"scatterternary\"}], \"surface\": [{\"colorbar\": {\"outlinewidth\": 0, \"ticks\": \"\"}, \"type\": \"surface\"}], \"table\": [{\"cells\": {\"fill\": {\"color\": \"#EBF0F8\"}, \"line\": {\"color\": \"white\"}}, \"header\": {\"fill\": {\"color\": \"#C8D4E3\"}, \"line\": {\"color\": \"white\"}}, \"type\": \"table\"}]}, \"layout\": {\"annotationdefaults\": {\"arrowcolor\": \"#506784\", \"arrowhead\": 0, \"arrowwidth\": 1}, \"colorscale\": {\"diverging\": [[0, \"#8e0152\"], [0.1, \"#c51b7d\"], [0.2, \"#de77ae\"], [0.3, \"#f1b6da\"], [0.4, \"#fde0ef\"], [0.5, \"#f7f7f7\"], [0.6, \"#e6f5d0\"], [0.7, \"#b8e186\"], [0.8, \"#7fbc41\"], [0.9, \"#4d9221\"], [1, \"#276419\"]], \"sequential\": [[0.0, \"#0508b8\"], [0.0893854748603352, \"#1910d8\"], [0.1787709497206704, \"#3c19f0\"], [0.2681564245810056, \"#6b1cfb\"], [0.3575418994413408, \"#981cfd\"], [0.44692737430167595, \"#bf1cfd\"], [0.5363128491620112, \"#dd2bfd\"], [0.6256983240223464, \"#f246fe\"], [0.7150837988826816, \"#fc67fd\"], [0.8044692737430168, \"#fe88fc\"], [0.8938547486033519, \"#fea5fd\"], [0.9832402234636871, \"#febefe\"], [1.0, \"#fec3fe\"]], \"sequentialminus\": [[0.0, \"#0508b8\"], [0.0893854748603352, \"#1910d8\"], [0.1787709497206704, \"#3c19f0\"], [0.2681564245810056, \"#6b1cfb\"], [0.3575418994413408, \"#981cfd\"], [0.44692737430167595, \"#bf1cfd\"], [0.5363128491620112, \"#dd2bfd\"], [0.6256983240223464, \"#f246fe\"], [0.7150837988826816, \"#fc67fd\"], [0.8044692737430168, \"#fe88fc\"], [0.8938547486033519, \"#fea5fd\"], [0.9832402234636871, \"#febefe\"], [1.0, \"#fec3fe\"]]}, \"colorway\": [\"#636efa\", \"#EF553B\", \"#00cc96\", \"#ab63fa\", \"#19d3f3\", \"#e763fa\", \"#FECB52\", \"#FFA15A\", \"#FF6692\", \"#B6E880\"], \"font\": {\"color\": \"#2a3f5f\"}, \"geo\": {\"bgcolor\": \"white\", \"lakecolor\": \"white\", \"landcolor\": \"white\", \"showlakes\": true, \"showland\": true, \"subunitcolor\": \"#C8D4E3\"}, \"hovermode\": \"closest\", \"mapbox\": {\"style\": \"light\"}, \"paper_bgcolor\": \"white\", \"plot_bgcolor\": \"white\", \"polar\": {\"angularaxis\": {\"gridcolor\": \"#EBF0F8\", \"linecolor\": \"#EBF0F8\", \"ticks\": \"\"}, \"bgcolor\": \"white\", \"radialaxis\": {\"gridcolor\": \"#EBF0F8\", \"linecolor\": \"#EBF0F8\", \"ticks\": \"\"}}, \"scene\": {\"xaxis\": {\"backgroundcolor\": \"white\", \"gridcolor\": \"#DFE8F3\", \"gridwidth\": 2, \"linecolor\": \"#EBF0F8\", \"showbackground\": true, \"ticks\": \"\", \"zerolinecolor\": \"#EBF0F8\"}, \"yaxis\": {\"backgroundcolor\": \"white\", \"gridcolor\": \"#DFE8F3\", \"gridwidth\": 2, \"linecolor\": \"#EBF0F8\", \"showbackground\": true, \"ticks\": \"\", \"zerolinecolor\": \"#EBF0F8\"}, \"zaxis\": {\"backgroundcolor\": \"white\", \"gridcolor\": \"#DFE8F3\", \"gridwidth\": 2, \"linecolor\": \"#EBF0F8\", \"showbackground\": true, \"ticks\": \"\", \"zerolinecolor\": \"#EBF0F8\"}}, \"shapedefaults\": {\"fillcolor\": \"#506784\", \"line\": {\"width\": 0}, \"opacity\": 0.4}, \"ternary\": {\"aaxis\": {\"gridcolor\": \"#DFE8F3\", \"linecolor\": \"#A2B1C6\", \"ticks\": \"\"}, \"baxis\": {\"gridcolor\": \"#DFE8F3\", \"linecolor\": \"#A2B1C6\", \"ticks\": \"\"}, \"bgcolor\": \"white\", \"caxis\": {\"gridcolor\": \"#DFE8F3\", \"linecolor\": \"#A2B1C6\", \"ticks\": \"\"}}, \"title\": {\"x\": 0.05}, \"xaxis\": {\"automargin\": true, \"gridcolor\": \"#EBF0F8\", \"linecolor\": \"#EBF0F8\", \"ticks\": \"\", \"zerolinecolor\": \"#EBF0F8\", \"zerolinewidth\": 2}, \"yaxis\": {\"automargin\": true, \"gridcolor\": \"#EBF0F8\", \"linecolor\": \"#EBF0F8\", \"ticks\": \"\", \"zerolinecolor\": \"#EBF0F8\", \"zerolinewidth\": 2}}}, \"grid\": {\"xaxes\": [\"x\"], \"yaxes\": [\"y\"], \"xgap\": 0.1, \"ygap\": 0.1, \"xside\": \"bottom\", \"yside\": \"left\"}, \"annotations\": [{\"showarrow\": false, \"text\": \"Bottle=H\", \"textangle\": 0, \"x\": 0.5, \"xanchor\": \"center\", \"xref\": \"paper\", \"y\": 1.02, \"yanchor\": \"middle\", \"yref\": \"paper\"}], \"xaxis\": {\"title\": {\"text\": \"Time [h]\"}}, \"yaxis\": {\"title\": {\"text\": \"Concentration [g/L]\"}}}, {\"showLink\": false, \"linkText\": \"Export to plot.ly\", \"plotlyServerURL\": \"https://plot.ly\"}); \n",
       "}\n",
       "});</script><script type=\"text/javascript\">window.addEventListener(\"resize\", function(){if (document.getElementById(\"e28d3fb8-8aed-4436-901a-1f925fbbb2ca\")) {window._Plotly.Plots.resize(document.getElementById(\"e28d3fb8-8aed-4436-901a-1f925fbbb2ca\"));};})</script>"
      ]
     },
     "metadata": {},
     "output_type": "display_data"
    }
   ],
   "source": [
    "fig = px.scatter(\n",
    "    gc_vs_assays.reset_index(\n",
    "    ).pipe(\n",
    "        lambda df: df[(df.Quality == \"Acetate\") & (df.Unit == \"g/L\")]\n",
    "    ), \n",
    "    x=\"Time\",\n",
    "    y=\"Value\",\n",
    "    color=\"Method\",\n",
    "    facet_col=\"Bottle\",\n",
    "    template=\"plotly_white\",\n",
    "    labels={\n",
    "        \"Time\": \"Time [h]\",\n",
    "        \"Value\": \"Concentration [g/L]\",\n",
    "        \"Quality\": \"Compound\"\n",
    "    }\n",
    ")\n",
    "\n",
    "pio.write_image(fig, str(results_path / 'assay-gc-correlation_ac.svg'))\n",
    "fig"
   ]
  },
  {
   "cell_type": "markdown",
   "metadata": {},
   "source": [
    "## Correlation between GC and Assays for Ethanol (multi-scatter)"
   ]
  },
  {
   "cell_type": "code",
   "execution_count": 57,
   "metadata": {},
   "outputs": [
    {
     "data": {
      "application/vnd.plotly.v1+json": {
       "config": {
        "linkText": "Export to plot.ly",
        "plotlyServerURL": "https://plot.ly",
        "showLink": false
       },
       "data": [
        {
         "hovertemplate": "Bottle=H<br>Method=Enzymatic_Assay<br>Time [h]=%{x}<br>Concentration [g/L]=%{y}<extra></extra>",
         "legendgroup": "Method=Enzymatic_Assay",
         "marker": {
          "color": "#636efa",
          "symbol": "circle"
         },
         "mode": "markers",
         "name": "Method=Enzymatic_Assay",
         "showlegend": true,
         "type": "scatter",
         "uid": "f81209f9-f227-49c3-ac32-0c754c22bfdc",
         "x": [
          0.5,
          23,
          47,
          70.75,
          96.25,
          143,
          168.25
         ],
         "xaxis": "x",
         "y": [
          0.248431619,
          0.49916673,
          0.47498006299999995,
          0.41290095200000004,
          0.260294603,
          0.10711238099999999,
          0.105960635
         ],
         "yaxis": "y"
        },
        {
         "hovertemplate": "Bottle=H<br>Method=GC<br>Time [h]=%{x}<br>Concentration [g/L]=%{y}<extra></extra>",
         "legendgroup": "Method=GC",
         "marker": {
          "color": "#EF553B",
          "symbol": "circle"
         },
         "mode": "markers",
         "name": "Method=GC",
         "showlegend": true,
         "type": "scatter",
         "uid": "dea0fcf2-1300-45a7-b757-cee210eb72e2",
         "x": [
          0.5,
          23,
          47,
          70.75,
          96.25,
          143,
          168.25
         ],
         "xaxis": "x",
         "y": [
          null,
          0.5757914120000001,
          0.384424444,
          0.40969085200000005,
          0.241965868,
          0.130353773,
          0.11532721800000001
         ],
         "yaxis": "y"
        }
       ],
       "layout": {
        "annotations": [
         {
          "showarrow": false,
          "text": "Bottle=H",
          "textangle": 0,
          "x": 0.5,
          "xanchor": "center",
          "xref": "paper",
          "y": 1.02,
          "yanchor": "middle",
          "yref": "paper"
         }
        ],
        "grid": {
         "xaxes": [
          "x"
         ],
         "xgap": 0.1,
         "xside": "bottom",
         "yaxes": [
          "y"
         ],
         "ygap": 0.1,
         "yside": "left"
        },
        "height": 600,
        "legend": {
         "tracegroupgap": 0
        },
        "margin": {
         "t": 60
        },
        "template": {
         "data": {
          "bar": [
           {
            "marker": {
             "line": {
              "color": "white",
              "width": 0.5
             }
            },
            "type": "bar"
           }
          ],
          "barpolar": [
           {
            "marker": {
             "line": {
              "color": "white",
              "width": 0.5
             }
            },
            "type": "barpolar"
           }
          ],
          "carpet": [
           {
            "aaxis": {
             "endlinecolor": "#2a3f5f",
             "gridcolor": "#C8D4E3",
             "linecolor": "#C8D4E3",
             "minorgridcolor": "#C8D4E3",
             "startlinecolor": "#2a3f5f"
            },
            "baxis": {
             "endlinecolor": "#2a3f5f",
             "gridcolor": "#C8D4E3",
             "linecolor": "#C8D4E3",
             "minorgridcolor": "#C8D4E3",
             "startlinecolor": "#2a3f5f"
            },
            "type": "carpet"
           }
          ],
          "choropleth": [
           {
            "colorbar": {
             "outlinewidth": 0,
             "ticks": ""
            },
            "type": "choropleth"
           }
          ],
          "contour": [
           {
            "autocolorscale": true,
            "colorbar": {
             "outlinewidth": 0,
             "ticks": ""
            },
            "type": "contour"
           }
          ],
          "contourcarpet": [
           {
            "colorbar": {
             "outlinewidth": 0,
             "ticks": ""
            },
            "type": "contourcarpet"
           }
          ],
          "heatmap": [
           {
            "autocolorscale": true,
            "colorbar": {
             "outlinewidth": 0,
             "ticks": ""
            },
            "type": "heatmap"
           }
          ],
          "heatmapgl": [
           {
            "colorbar": {
             "outlinewidth": 0,
             "ticks": ""
            },
            "type": "heatmapgl"
           }
          ],
          "histogram": [
           {
            "marker": {
             "colorbar": {
              "outlinewidth": 0,
              "ticks": ""
             }
            },
            "type": "histogram"
           }
          ],
          "histogram2d": [
           {
            "autocolorscale": true,
            "colorbar": {
             "outlinewidth": 0,
             "ticks": ""
            },
            "type": "histogram2d"
           }
          ],
          "histogram2dcontour": [
           {
            "autocolorscale": true,
            "colorbar": {
             "outlinewidth": 0,
             "ticks": ""
            },
            "type": "histogram2dcontour"
           }
          ],
          "mesh3d": [
           {
            "colorbar": {
             "outlinewidth": 0,
             "ticks": ""
            },
            "type": "mesh3d"
           }
          ],
          "parcoords": [
           {
            "line": {
             "colorbar": {
              "outlinewidth": 0,
              "ticks": ""
             }
            },
            "type": "parcoords"
           }
          ],
          "scatter": [
           {
            "marker": {
             "colorbar": {
              "outlinewidth": 0,
              "ticks": ""
             }
            },
            "type": "scatter"
           }
          ],
          "scatter3d": [
           {
            "marker": {
             "colorbar": {
              "outlinewidth": 0,
              "ticks": ""
             }
            },
            "type": "scatter3d"
           }
          ],
          "scattercarpet": [
           {
            "marker": {
             "colorbar": {
              "outlinewidth": 0,
              "ticks": ""
             }
            },
            "type": "scattercarpet"
           }
          ],
          "scattergeo": [
           {
            "marker": {
             "colorbar": {
              "outlinewidth": 0,
              "ticks": ""
             }
            },
            "type": "scattergeo"
           }
          ],
          "scattergl": [
           {
            "marker": {
             "colorbar": {
              "outlinewidth": 0,
              "ticks": ""
             }
            },
            "type": "scattergl"
           }
          ],
          "scattermapbox": [
           {
            "marker": {
             "colorbar": {
              "outlinewidth": 0,
              "ticks": ""
             }
            },
            "type": "scattermapbox"
           }
          ],
          "scatterpolar": [
           {
            "marker": {
             "colorbar": {
              "outlinewidth": 0,
              "ticks": ""
             }
            },
            "type": "scatterpolar"
           }
          ],
          "scatterpolargl": [
           {
            "marker": {
             "colorbar": {
              "outlinewidth": 0,
              "ticks": ""
             }
            },
            "type": "scatterpolargl"
           }
          ],
          "scatterternary": [
           {
            "marker": {
             "colorbar": {
              "outlinewidth": 0,
              "ticks": ""
             }
            },
            "type": "scatterternary"
           }
          ],
          "surface": [
           {
            "colorbar": {
             "outlinewidth": 0,
             "ticks": ""
            },
            "type": "surface"
           }
          ],
          "table": [
           {
            "cells": {
             "fill": {
              "color": "#EBF0F8"
             },
             "line": {
              "color": "white"
             }
            },
            "header": {
             "fill": {
              "color": "#C8D4E3"
             },
             "line": {
              "color": "white"
             }
            },
            "type": "table"
           }
          ]
         },
         "layout": {
          "annotationdefaults": {
           "arrowcolor": "#506784",
           "arrowhead": 0,
           "arrowwidth": 1
          },
          "colorscale": {
           "diverging": [
            [
             0,
             "#8e0152"
            ],
            [
             0.1,
             "#c51b7d"
            ],
            [
             0.2,
             "#de77ae"
            ],
            [
             0.3,
             "#f1b6da"
            ],
            [
             0.4,
             "#fde0ef"
            ],
            [
             0.5,
             "#f7f7f7"
            ],
            [
             0.6,
             "#e6f5d0"
            ],
            [
             0.7,
             "#b8e186"
            ],
            [
             0.8,
             "#7fbc41"
            ],
            [
             0.9,
             "#4d9221"
            ],
            [
             1,
             "#276419"
            ]
           ],
           "sequential": [
            [
             0,
             "#0508b8"
            ],
            [
             0.0893854748603352,
             "#1910d8"
            ],
            [
             0.1787709497206704,
             "#3c19f0"
            ],
            [
             0.2681564245810056,
             "#6b1cfb"
            ],
            [
             0.3575418994413408,
             "#981cfd"
            ],
            [
             0.44692737430167595,
             "#bf1cfd"
            ],
            [
             0.5363128491620112,
             "#dd2bfd"
            ],
            [
             0.6256983240223464,
             "#f246fe"
            ],
            [
             0.7150837988826816,
             "#fc67fd"
            ],
            [
             0.8044692737430168,
             "#fe88fc"
            ],
            [
             0.8938547486033519,
             "#fea5fd"
            ],
            [
             0.9832402234636871,
             "#febefe"
            ],
            [
             1,
             "#fec3fe"
            ]
           ],
           "sequentialminus": [
            [
             0,
             "#0508b8"
            ],
            [
             0.0893854748603352,
             "#1910d8"
            ],
            [
             0.1787709497206704,
             "#3c19f0"
            ],
            [
             0.2681564245810056,
             "#6b1cfb"
            ],
            [
             0.3575418994413408,
             "#981cfd"
            ],
            [
             0.44692737430167595,
             "#bf1cfd"
            ],
            [
             0.5363128491620112,
             "#dd2bfd"
            ],
            [
             0.6256983240223464,
             "#f246fe"
            ],
            [
             0.7150837988826816,
             "#fc67fd"
            ],
            [
             0.8044692737430168,
             "#fe88fc"
            ],
            [
             0.8938547486033519,
             "#fea5fd"
            ],
            [
             0.9832402234636871,
             "#febefe"
            ],
            [
             1,
             "#fec3fe"
            ]
           ]
          },
          "colorway": [
           "#636efa",
           "#EF553B",
           "#00cc96",
           "#ab63fa",
           "#19d3f3",
           "#e763fa",
           "#FECB52",
           "#FFA15A",
           "#FF6692",
           "#B6E880"
          ],
          "font": {
           "color": "#2a3f5f"
          },
          "geo": {
           "bgcolor": "white",
           "lakecolor": "white",
           "landcolor": "white",
           "showlakes": true,
           "showland": true,
           "subunitcolor": "#C8D4E3"
          },
          "hovermode": "closest",
          "mapbox": {
           "style": "light"
          },
          "paper_bgcolor": "white",
          "plot_bgcolor": "white",
          "polar": {
           "angularaxis": {
            "gridcolor": "#EBF0F8",
            "linecolor": "#EBF0F8",
            "ticks": ""
           },
           "bgcolor": "white",
           "radialaxis": {
            "gridcolor": "#EBF0F8",
            "linecolor": "#EBF0F8",
            "ticks": ""
           }
          },
          "scene": {
           "xaxis": {
            "backgroundcolor": "white",
            "gridcolor": "#DFE8F3",
            "gridwidth": 2,
            "linecolor": "#EBF0F8",
            "showbackground": true,
            "ticks": "",
            "zerolinecolor": "#EBF0F8"
           },
           "yaxis": {
            "backgroundcolor": "white",
            "gridcolor": "#DFE8F3",
            "gridwidth": 2,
            "linecolor": "#EBF0F8",
            "showbackground": true,
            "ticks": "",
            "zerolinecolor": "#EBF0F8"
           },
           "zaxis": {
            "backgroundcolor": "white",
            "gridcolor": "#DFE8F3",
            "gridwidth": 2,
            "linecolor": "#EBF0F8",
            "showbackground": true,
            "ticks": "",
            "zerolinecolor": "#EBF0F8"
           }
          },
          "shapedefaults": {
           "fillcolor": "#506784",
           "line": {
            "width": 0
           },
           "opacity": 0.4
          },
          "ternary": {
           "aaxis": {
            "gridcolor": "#DFE8F3",
            "linecolor": "#A2B1C6",
            "ticks": ""
           },
           "baxis": {
            "gridcolor": "#DFE8F3",
            "linecolor": "#A2B1C6",
            "ticks": ""
           },
           "bgcolor": "white",
           "caxis": {
            "gridcolor": "#DFE8F3",
            "linecolor": "#A2B1C6",
            "ticks": ""
           }
          },
          "title": {
           "x": 0.05
          },
          "xaxis": {
           "automargin": true,
           "gridcolor": "#EBF0F8",
           "linecolor": "#EBF0F8",
           "ticks": "",
           "zerolinecolor": "#EBF0F8",
           "zerolinewidth": 2
          },
          "yaxis": {
           "automargin": true,
           "gridcolor": "#EBF0F8",
           "linecolor": "#EBF0F8",
           "ticks": "",
           "zerolinecolor": "#EBF0F8",
           "zerolinewidth": 2
          }
         }
        },
        "xaxis": {
         "title": {
          "text": "Time [h]"
         }
        },
        "yaxis": {
         "title": {
          "text": "Concentration [g/L]"
         }
        }
       }
      },
      "text/html": [
       "<div id=\"22f4b9af-e36e-4d9f-b19b-13185a46c282\" style=\"height: 600px; width: 100%;\" class=\"plotly-graph-div\"></div><script type=\"text/javascript\">require([\"plotly\"], function(Plotly) { window.PLOTLYENV=window.PLOTLYENV || {};window.PLOTLYENV.BASE_URL=\"https://plot.ly\";\n",
       "if (document.getElementById(\"22f4b9af-e36e-4d9f-b19b-13185a46c282\")) {\n",
       "    Plotly.newPlot(\"22f4b9af-e36e-4d9f-b19b-13185a46c282\", [{\"hovertemplate\": \"Bottle=H<br>Method=Enzymatic_Assay<br>Time [h]=%{x}<br>Concentration [g/L]=%{y}<extra></extra>\", \"legendgroup\": \"Method=Enzymatic_Assay\", \"marker\": {\"color\": \"#636efa\", \"symbol\": \"circle\"}, \"mode\": \"markers\", \"name\": \"Method=Enzymatic_Assay\", \"showlegend\": true, \"x\": [0.5, 23.0, 47.0, 70.75, 96.25, 143.0, 168.25], \"xaxis\": \"x\", \"y\": [0.248431619, 0.49916673, 0.47498006299999995, 0.41290095200000004, 0.260294603, 0.10711238099999999, 0.105960635], \"yaxis\": \"y\", \"type\": \"scatter\", \"uid\": \"f81209f9-f227-49c3-ac32-0c754c22bfdc\"}, {\"hovertemplate\": \"Bottle=H<br>Method=GC<br>Time [h]=%{x}<br>Concentration [g/L]=%{y}<extra></extra>\", \"legendgroup\": \"Method=GC\", \"marker\": {\"color\": \"#EF553B\", \"symbol\": \"circle\"}, \"mode\": \"markers\", \"name\": \"Method=GC\", \"showlegend\": true, \"x\": [0.5, 23.0, 47.0, 70.75, 96.25, 143.0, 168.25], \"xaxis\": \"x\", \"y\": [null, 0.5757914120000001, 0.384424444, 0.40969085200000005, 0.241965868, 0.130353773, 0.11532721800000001], \"yaxis\": \"y\", \"type\": \"scatter\", \"uid\": \"dea0fcf2-1300-45a7-b757-cee210eb72e2\"}], {\"height\": 600, \"legend\": {\"tracegroupgap\": 0}, \"margin\": {\"t\": 60}, \"template\": {\"data\": {\"barpolar\": [{\"marker\": {\"line\": {\"color\": \"white\", \"width\": 0.5}}, \"type\": \"barpolar\"}], \"bar\": [{\"marker\": {\"line\": {\"color\": \"white\", \"width\": 0.5}}, \"type\": \"bar\"}], \"carpet\": [{\"aaxis\": {\"endlinecolor\": \"#2a3f5f\", \"gridcolor\": \"#C8D4E3\", \"linecolor\": \"#C8D4E3\", \"minorgridcolor\": \"#C8D4E3\", \"startlinecolor\": \"#2a3f5f\"}, \"baxis\": {\"endlinecolor\": \"#2a3f5f\", \"gridcolor\": \"#C8D4E3\", \"linecolor\": \"#C8D4E3\", \"minorgridcolor\": \"#C8D4E3\", \"startlinecolor\": \"#2a3f5f\"}, \"type\": \"carpet\"}], \"choropleth\": [{\"colorbar\": {\"outlinewidth\": 0, \"ticks\": \"\"}, \"type\": \"choropleth\"}], \"contourcarpet\": [{\"colorbar\": {\"outlinewidth\": 0, \"ticks\": \"\"}, \"type\": \"contourcarpet\"}], \"contour\": [{\"autocolorscale\": true, \"colorbar\": {\"outlinewidth\": 0, \"ticks\": \"\"}, \"type\": \"contour\"}], \"heatmapgl\": [{\"colorbar\": {\"outlinewidth\": 0, \"ticks\": \"\"}, \"type\": \"heatmapgl\"}], \"heatmap\": [{\"autocolorscale\": true, \"colorbar\": {\"outlinewidth\": 0, \"ticks\": \"\"}, \"type\": \"heatmap\"}], \"histogram2dcontour\": [{\"autocolorscale\": true, \"colorbar\": {\"outlinewidth\": 0, \"ticks\": \"\"}, \"type\": \"histogram2dcontour\"}], \"histogram2d\": [{\"autocolorscale\": true, \"colorbar\": {\"outlinewidth\": 0, \"ticks\": \"\"}, \"type\": \"histogram2d\"}], \"histogram\": [{\"marker\": {\"colorbar\": {\"outlinewidth\": 0, \"ticks\": \"\"}}, \"type\": \"histogram\"}], \"mesh3d\": [{\"colorbar\": {\"outlinewidth\": 0, \"ticks\": \"\"}, \"type\": \"mesh3d\"}], \"parcoords\": [{\"line\": {\"colorbar\": {\"outlinewidth\": 0, \"ticks\": \"\"}}, \"type\": \"parcoords\"}], \"scatter3d\": [{\"marker\": {\"colorbar\": {\"outlinewidth\": 0, \"ticks\": \"\"}}, \"type\": \"scatter3d\"}], \"scattercarpet\": [{\"marker\": {\"colorbar\": {\"outlinewidth\": 0, \"ticks\": \"\"}}, \"type\": \"scattercarpet\"}], \"scattergeo\": [{\"marker\": {\"colorbar\": {\"outlinewidth\": 0, \"ticks\": \"\"}}, \"type\": \"scattergeo\"}], \"scattergl\": [{\"marker\": {\"colorbar\": {\"outlinewidth\": 0, \"ticks\": \"\"}}, \"type\": \"scattergl\"}], \"scattermapbox\": [{\"marker\": {\"colorbar\": {\"outlinewidth\": 0, \"ticks\": \"\"}}, \"type\": \"scattermapbox\"}], \"scatterpolargl\": [{\"marker\": {\"colorbar\": {\"outlinewidth\": 0, \"ticks\": \"\"}}, \"type\": \"scatterpolargl\"}], \"scatterpolar\": [{\"marker\": {\"colorbar\": {\"outlinewidth\": 0, \"ticks\": \"\"}}, \"type\": \"scatterpolar\"}], \"scatter\": [{\"marker\": {\"colorbar\": {\"outlinewidth\": 0, \"ticks\": \"\"}}, \"type\": \"scatter\"}], \"scatterternary\": [{\"marker\": {\"colorbar\": {\"outlinewidth\": 0, \"ticks\": \"\"}}, \"type\": \"scatterternary\"}], \"surface\": [{\"colorbar\": {\"outlinewidth\": 0, \"ticks\": \"\"}, \"type\": \"surface\"}], \"table\": [{\"cells\": {\"fill\": {\"color\": \"#EBF0F8\"}, \"line\": {\"color\": \"white\"}}, \"header\": {\"fill\": {\"color\": \"#C8D4E3\"}, \"line\": {\"color\": \"white\"}}, \"type\": \"table\"}]}, \"layout\": {\"annotationdefaults\": {\"arrowcolor\": \"#506784\", \"arrowhead\": 0, \"arrowwidth\": 1}, \"colorscale\": {\"diverging\": [[0, \"#8e0152\"], [0.1, \"#c51b7d\"], [0.2, \"#de77ae\"], [0.3, \"#f1b6da\"], [0.4, \"#fde0ef\"], [0.5, \"#f7f7f7\"], [0.6, \"#e6f5d0\"], [0.7, \"#b8e186\"], [0.8, \"#7fbc41\"], [0.9, \"#4d9221\"], [1, \"#276419\"]], \"sequential\": [[0.0, \"#0508b8\"], [0.0893854748603352, \"#1910d8\"], [0.1787709497206704, \"#3c19f0\"], [0.2681564245810056, \"#6b1cfb\"], [0.3575418994413408, \"#981cfd\"], [0.44692737430167595, \"#bf1cfd\"], [0.5363128491620112, \"#dd2bfd\"], [0.6256983240223464, \"#f246fe\"], [0.7150837988826816, \"#fc67fd\"], [0.8044692737430168, \"#fe88fc\"], [0.8938547486033519, \"#fea5fd\"], [0.9832402234636871, \"#febefe\"], [1.0, \"#fec3fe\"]], \"sequentialminus\": [[0.0, \"#0508b8\"], [0.0893854748603352, \"#1910d8\"], [0.1787709497206704, \"#3c19f0\"], [0.2681564245810056, \"#6b1cfb\"], [0.3575418994413408, \"#981cfd\"], [0.44692737430167595, \"#bf1cfd\"], [0.5363128491620112, \"#dd2bfd\"], [0.6256983240223464, \"#f246fe\"], [0.7150837988826816, \"#fc67fd\"], [0.8044692737430168, \"#fe88fc\"], [0.8938547486033519, \"#fea5fd\"], [0.9832402234636871, \"#febefe\"], [1.0, \"#fec3fe\"]]}, \"colorway\": [\"#636efa\", \"#EF553B\", \"#00cc96\", \"#ab63fa\", \"#19d3f3\", \"#e763fa\", \"#FECB52\", \"#FFA15A\", \"#FF6692\", \"#B6E880\"], \"font\": {\"color\": \"#2a3f5f\"}, \"geo\": {\"bgcolor\": \"white\", \"lakecolor\": \"white\", \"landcolor\": \"white\", \"showlakes\": true, \"showland\": true, \"subunitcolor\": \"#C8D4E3\"}, \"hovermode\": \"closest\", \"mapbox\": {\"style\": \"light\"}, \"paper_bgcolor\": \"white\", \"plot_bgcolor\": \"white\", \"polar\": {\"angularaxis\": {\"gridcolor\": \"#EBF0F8\", \"linecolor\": \"#EBF0F8\", \"ticks\": \"\"}, \"bgcolor\": \"white\", \"radialaxis\": {\"gridcolor\": \"#EBF0F8\", \"linecolor\": \"#EBF0F8\", \"ticks\": \"\"}}, \"scene\": {\"xaxis\": {\"backgroundcolor\": \"white\", \"gridcolor\": \"#DFE8F3\", \"gridwidth\": 2, \"linecolor\": \"#EBF0F8\", \"showbackground\": true, \"ticks\": \"\", \"zerolinecolor\": \"#EBF0F8\"}, \"yaxis\": {\"backgroundcolor\": \"white\", \"gridcolor\": \"#DFE8F3\", \"gridwidth\": 2, \"linecolor\": \"#EBF0F8\", \"showbackground\": true, \"ticks\": \"\", \"zerolinecolor\": \"#EBF0F8\"}, \"zaxis\": {\"backgroundcolor\": \"white\", \"gridcolor\": \"#DFE8F3\", \"gridwidth\": 2, \"linecolor\": \"#EBF0F8\", \"showbackground\": true, \"ticks\": \"\", \"zerolinecolor\": \"#EBF0F8\"}}, \"shapedefaults\": {\"fillcolor\": \"#506784\", \"line\": {\"width\": 0}, \"opacity\": 0.4}, \"ternary\": {\"aaxis\": {\"gridcolor\": \"#DFE8F3\", \"linecolor\": \"#A2B1C6\", \"ticks\": \"\"}, \"baxis\": {\"gridcolor\": \"#DFE8F3\", \"linecolor\": \"#A2B1C6\", \"ticks\": \"\"}, \"bgcolor\": \"white\", \"caxis\": {\"gridcolor\": \"#DFE8F3\", \"linecolor\": \"#A2B1C6\", \"ticks\": \"\"}}, \"title\": {\"x\": 0.05}, \"xaxis\": {\"automargin\": true, \"gridcolor\": \"#EBF0F8\", \"linecolor\": \"#EBF0F8\", \"ticks\": \"\", \"zerolinecolor\": \"#EBF0F8\", \"zerolinewidth\": 2}, \"yaxis\": {\"automargin\": true, \"gridcolor\": \"#EBF0F8\", \"linecolor\": \"#EBF0F8\", \"ticks\": \"\", \"zerolinecolor\": \"#EBF0F8\", \"zerolinewidth\": 2}}}, \"grid\": {\"xaxes\": [\"x\"], \"yaxes\": [\"y\"], \"xgap\": 0.1, \"ygap\": 0.1, \"xside\": \"bottom\", \"yside\": \"left\"}, \"annotations\": [{\"showarrow\": false, \"text\": \"Bottle=H\", \"textangle\": 0, \"x\": 0.5, \"xanchor\": \"center\", \"xref\": \"paper\", \"y\": 1.02, \"yanchor\": \"middle\", \"yref\": \"paper\"}], \"xaxis\": {\"title\": {\"text\": \"Time [h]\"}}, \"yaxis\": {\"title\": {\"text\": \"Concentration [g/L]\"}}}, {\"showLink\": false, \"linkText\": \"Export to plot.ly\", \"plotlyServerURL\": \"https://plot.ly\"}); \n",
       "}\n",
       "});</script><script type=\"text/javascript\">window.addEventListener(\"resize\", function(){if (document.getElementById(\"22f4b9af-e36e-4d9f-b19b-13185a46c282\")) {window._Plotly.Plots.resize(document.getElementById(\"22f4b9af-e36e-4d9f-b19b-13185a46c282\"));};})</script>"
      ],
      "text/vnd.plotly.v1+html": [
       "<div id=\"22f4b9af-e36e-4d9f-b19b-13185a46c282\" style=\"height: 600px; width: 100%;\" class=\"plotly-graph-div\"></div><script type=\"text/javascript\">require([\"plotly\"], function(Plotly) { window.PLOTLYENV=window.PLOTLYENV || {};window.PLOTLYENV.BASE_URL=\"https://plot.ly\";\n",
       "if (document.getElementById(\"22f4b9af-e36e-4d9f-b19b-13185a46c282\")) {\n",
       "    Plotly.newPlot(\"22f4b9af-e36e-4d9f-b19b-13185a46c282\", [{\"hovertemplate\": \"Bottle=H<br>Method=Enzymatic_Assay<br>Time [h]=%{x}<br>Concentration [g/L]=%{y}<extra></extra>\", \"legendgroup\": \"Method=Enzymatic_Assay\", \"marker\": {\"color\": \"#636efa\", \"symbol\": \"circle\"}, \"mode\": \"markers\", \"name\": \"Method=Enzymatic_Assay\", \"showlegend\": true, \"x\": [0.5, 23.0, 47.0, 70.75, 96.25, 143.0, 168.25], \"xaxis\": \"x\", \"y\": [0.248431619, 0.49916673, 0.47498006299999995, 0.41290095200000004, 0.260294603, 0.10711238099999999, 0.105960635], \"yaxis\": \"y\", \"type\": \"scatter\", \"uid\": \"f81209f9-f227-49c3-ac32-0c754c22bfdc\"}, {\"hovertemplate\": \"Bottle=H<br>Method=GC<br>Time [h]=%{x}<br>Concentration [g/L]=%{y}<extra></extra>\", \"legendgroup\": \"Method=GC\", \"marker\": {\"color\": \"#EF553B\", \"symbol\": \"circle\"}, \"mode\": \"markers\", \"name\": \"Method=GC\", \"showlegend\": true, \"x\": [0.5, 23.0, 47.0, 70.75, 96.25, 143.0, 168.25], \"xaxis\": \"x\", \"y\": [null, 0.5757914120000001, 0.384424444, 0.40969085200000005, 0.241965868, 0.130353773, 0.11532721800000001], \"yaxis\": \"y\", \"type\": \"scatter\", \"uid\": \"dea0fcf2-1300-45a7-b757-cee210eb72e2\"}], {\"height\": 600, \"legend\": {\"tracegroupgap\": 0}, \"margin\": {\"t\": 60}, \"template\": {\"data\": {\"barpolar\": [{\"marker\": {\"line\": {\"color\": \"white\", \"width\": 0.5}}, \"type\": \"barpolar\"}], \"bar\": [{\"marker\": {\"line\": {\"color\": \"white\", \"width\": 0.5}}, \"type\": \"bar\"}], \"carpet\": [{\"aaxis\": {\"endlinecolor\": \"#2a3f5f\", \"gridcolor\": \"#C8D4E3\", \"linecolor\": \"#C8D4E3\", \"minorgridcolor\": \"#C8D4E3\", \"startlinecolor\": \"#2a3f5f\"}, \"baxis\": {\"endlinecolor\": \"#2a3f5f\", \"gridcolor\": \"#C8D4E3\", \"linecolor\": \"#C8D4E3\", \"minorgridcolor\": \"#C8D4E3\", \"startlinecolor\": \"#2a3f5f\"}, \"type\": \"carpet\"}], \"choropleth\": [{\"colorbar\": {\"outlinewidth\": 0, \"ticks\": \"\"}, \"type\": \"choropleth\"}], \"contourcarpet\": [{\"colorbar\": {\"outlinewidth\": 0, \"ticks\": \"\"}, \"type\": \"contourcarpet\"}], \"contour\": [{\"autocolorscale\": true, \"colorbar\": {\"outlinewidth\": 0, \"ticks\": \"\"}, \"type\": \"contour\"}], \"heatmapgl\": [{\"colorbar\": {\"outlinewidth\": 0, \"ticks\": \"\"}, \"type\": \"heatmapgl\"}], \"heatmap\": [{\"autocolorscale\": true, \"colorbar\": {\"outlinewidth\": 0, \"ticks\": \"\"}, \"type\": \"heatmap\"}], \"histogram2dcontour\": [{\"autocolorscale\": true, \"colorbar\": {\"outlinewidth\": 0, \"ticks\": \"\"}, \"type\": \"histogram2dcontour\"}], \"histogram2d\": [{\"autocolorscale\": true, \"colorbar\": {\"outlinewidth\": 0, \"ticks\": \"\"}, \"type\": \"histogram2d\"}], \"histogram\": [{\"marker\": {\"colorbar\": {\"outlinewidth\": 0, \"ticks\": \"\"}}, \"type\": \"histogram\"}], \"mesh3d\": [{\"colorbar\": {\"outlinewidth\": 0, \"ticks\": \"\"}, \"type\": \"mesh3d\"}], \"parcoords\": [{\"line\": {\"colorbar\": {\"outlinewidth\": 0, \"ticks\": \"\"}}, \"type\": \"parcoords\"}], \"scatter3d\": [{\"marker\": {\"colorbar\": {\"outlinewidth\": 0, \"ticks\": \"\"}}, \"type\": \"scatter3d\"}], \"scattercarpet\": [{\"marker\": {\"colorbar\": {\"outlinewidth\": 0, \"ticks\": \"\"}}, \"type\": \"scattercarpet\"}], \"scattergeo\": [{\"marker\": {\"colorbar\": {\"outlinewidth\": 0, \"ticks\": \"\"}}, \"type\": \"scattergeo\"}], \"scattergl\": [{\"marker\": {\"colorbar\": {\"outlinewidth\": 0, \"ticks\": \"\"}}, \"type\": \"scattergl\"}], \"scattermapbox\": [{\"marker\": {\"colorbar\": {\"outlinewidth\": 0, \"ticks\": \"\"}}, \"type\": \"scattermapbox\"}], \"scatterpolargl\": [{\"marker\": {\"colorbar\": {\"outlinewidth\": 0, \"ticks\": \"\"}}, \"type\": \"scatterpolargl\"}], \"scatterpolar\": [{\"marker\": {\"colorbar\": {\"outlinewidth\": 0, \"ticks\": \"\"}}, \"type\": \"scatterpolar\"}], \"scatter\": [{\"marker\": {\"colorbar\": {\"outlinewidth\": 0, \"ticks\": \"\"}}, \"type\": \"scatter\"}], \"scatterternary\": [{\"marker\": {\"colorbar\": {\"outlinewidth\": 0, \"ticks\": \"\"}}, \"type\": \"scatterternary\"}], \"surface\": [{\"colorbar\": {\"outlinewidth\": 0, \"ticks\": \"\"}, \"type\": \"surface\"}], \"table\": [{\"cells\": {\"fill\": {\"color\": \"#EBF0F8\"}, \"line\": {\"color\": \"white\"}}, \"header\": {\"fill\": {\"color\": \"#C8D4E3\"}, \"line\": {\"color\": \"white\"}}, \"type\": \"table\"}]}, \"layout\": {\"annotationdefaults\": {\"arrowcolor\": \"#506784\", \"arrowhead\": 0, \"arrowwidth\": 1}, \"colorscale\": {\"diverging\": [[0, \"#8e0152\"], [0.1, \"#c51b7d\"], [0.2, \"#de77ae\"], [0.3, \"#f1b6da\"], [0.4, \"#fde0ef\"], [0.5, \"#f7f7f7\"], [0.6, \"#e6f5d0\"], [0.7, \"#b8e186\"], [0.8, \"#7fbc41\"], [0.9, \"#4d9221\"], [1, \"#276419\"]], \"sequential\": [[0.0, \"#0508b8\"], [0.0893854748603352, \"#1910d8\"], [0.1787709497206704, \"#3c19f0\"], [0.2681564245810056, \"#6b1cfb\"], [0.3575418994413408, \"#981cfd\"], [0.44692737430167595, \"#bf1cfd\"], [0.5363128491620112, \"#dd2bfd\"], [0.6256983240223464, \"#f246fe\"], [0.7150837988826816, \"#fc67fd\"], [0.8044692737430168, \"#fe88fc\"], [0.8938547486033519, \"#fea5fd\"], [0.9832402234636871, \"#febefe\"], [1.0, \"#fec3fe\"]], \"sequentialminus\": [[0.0, \"#0508b8\"], [0.0893854748603352, \"#1910d8\"], [0.1787709497206704, \"#3c19f0\"], [0.2681564245810056, \"#6b1cfb\"], [0.3575418994413408, \"#981cfd\"], [0.44692737430167595, \"#bf1cfd\"], [0.5363128491620112, \"#dd2bfd\"], [0.6256983240223464, \"#f246fe\"], [0.7150837988826816, \"#fc67fd\"], [0.8044692737430168, \"#fe88fc\"], [0.8938547486033519, \"#fea5fd\"], [0.9832402234636871, \"#febefe\"], [1.0, \"#fec3fe\"]]}, \"colorway\": [\"#636efa\", \"#EF553B\", \"#00cc96\", \"#ab63fa\", \"#19d3f3\", \"#e763fa\", \"#FECB52\", \"#FFA15A\", \"#FF6692\", \"#B6E880\"], \"font\": {\"color\": \"#2a3f5f\"}, \"geo\": {\"bgcolor\": \"white\", \"lakecolor\": \"white\", \"landcolor\": \"white\", \"showlakes\": true, \"showland\": true, \"subunitcolor\": \"#C8D4E3\"}, \"hovermode\": \"closest\", \"mapbox\": {\"style\": \"light\"}, \"paper_bgcolor\": \"white\", \"plot_bgcolor\": \"white\", \"polar\": {\"angularaxis\": {\"gridcolor\": \"#EBF0F8\", \"linecolor\": \"#EBF0F8\", \"ticks\": \"\"}, \"bgcolor\": \"white\", \"radialaxis\": {\"gridcolor\": \"#EBF0F8\", \"linecolor\": \"#EBF0F8\", \"ticks\": \"\"}}, \"scene\": {\"xaxis\": {\"backgroundcolor\": \"white\", \"gridcolor\": \"#DFE8F3\", \"gridwidth\": 2, \"linecolor\": \"#EBF0F8\", \"showbackground\": true, \"ticks\": \"\", \"zerolinecolor\": \"#EBF0F8\"}, \"yaxis\": {\"backgroundcolor\": \"white\", \"gridcolor\": \"#DFE8F3\", \"gridwidth\": 2, \"linecolor\": \"#EBF0F8\", \"showbackground\": true, \"ticks\": \"\", \"zerolinecolor\": \"#EBF0F8\"}, \"zaxis\": {\"backgroundcolor\": \"white\", \"gridcolor\": \"#DFE8F3\", \"gridwidth\": 2, \"linecolor\": \"#EBF0F8\", \"showbackground\": true, \"ticks\": \"\", \"zerolinecolor\": \"#EBF0F8\"}}, \"shapedefaults\": {\"fillcolor\": \"#506784\", \"line\": {\"width\": 0}, \"opacity\": 0.4}, \"ternary\": {\"aaxis\": {\"gridcolor\": \"#DFE8F3\", \"linecolor\": \"#A2B1C6\", \"ticks\": \"\"}, \"baxis\": {\"gridcolor\": \"#DFE8F3\", \"linecolor\": \"#A2B1C6\", \"ticks\": \"\"}, \"bgcolor\": \"white\", \"caxis\": {\"gridcolor\": \"#DFE8F3\", \"linecolor\": \"#A2B1C6\", \"ticks\": \"\"}}, \"title\": {\"x\": 0.05}, \"xaxis\": {\"automargin\": true, \"gridcolor\": \"#EBF0F8\", \"linecolor\": \"#EBF0F8\", \"ticks\": \"\", \"zerolinecolor\": \"#EBF0F8\", \"zerolinewidth\": 2}, \"yaxis\": {\"automargin\": true, \"gridcolor\": \"#EBF0F8\", \"linecolor\": \"#EBF0F8\", \"ticks\": \"\", \"zerolinecolor\": \"#EBF0F8\", \"zerolinewidth\": 2}}}, \"grid\": {\"xaxes\": [\"x\"], \"yaxes\": [\"y\"], \"xgap\": 0.1, \"ygap\": 0.1, \"xside\": \"bottom\", \"yside\": \"left\"}, \"annotations\": [{\"showarrow\": false, \"text\": \"Bottle=H\", \"textangle\": 0, \"x\": 0.5, \"xanchor\": \"center\", \"xref\": \"paper\", \"y\": 1.02, \"yanchor\": \"middle\", \"yref\": \"paper\"}], \"xaxis\": {\"title\": {\"text\": \"Time [h]\"}}, \"yaxis\": {\"title\": {\"text\": \"Concentration [g/L]\"}}}, {\"showLink\": false, \"linkText\": \"Export to plot.ly\", \"plotlyServerURL\": \"https://plot.ly\"}); \n",
       "}\n",
       "});</script><script type=\"text/javascript\">window.addEventListener(\"resize\", function(){if (document.getElementById(\"22f4b9af-e36e-4d9f-b19b-13185a46c282\")) {window._Plotly.Plots.resize(document.getElementById(\"22f4b9af-e36e-4d9f-b19b-13185a46c282\"));};})</script>"
      ]
     },
     "metadata": {},
     "output_type": "display_data"
    }
   ],
   "source": [
    "fig = px.scatter(\n",
    "    gc_vs_assays.reset_index(\n",
    "    ).pipe(\n",
    "        lambda df: df[(df.Quality == \"EtOH\") & (df.Unit == \"g/L\")]\n",
    "    ), \n",
    "    x=\"Time\",\n",
    "    y=\"Value\",\n",
    "    color=\"Method\",\n",
    "    facet_col=\"Bottle\",\n",
    "    template=\"plotly_white\",\n",
    "    labels={\n",
    "        \"Time\": \"Time [h]\",\n",
    "        \"Value\": \"Concentration [g/L]\",\n",
    "        \"Quality\": \"Compound\"\n",
    "    }\n",
    ")\n",
    "\n",
    "pio.write_image(fig, str(results_path / 'assay-gc-correlation_eth.svg'))\n",
    "fig"
   ]
  },
  {
   "cell_type": "code",
   "execution_count": 62,
   "metadata": {},
   "outputs": [
    {
     "data": {
      "application/vnd.jupyter.widget-view+json": {
       "model_id": "bc0aa846f8f94e199a3b94c6b33304a7",
       "version_major": 2,
       "version_minor": 0
      },
      "text/plain": [
       "QgridWidget(grid_options={'fullWidthRows': True, 'syncColumnCellResize': True, 'forceFitColumns': True, 'defau…"
      ]
     },
     "metadata": {},
     "output_type": "display_data"
    }
   ],
   "source": [
    "main_data = pd.concat(\n",
    "    [\n",
    "        gc_conc,\n",
    "        growth_data,\n",
    "        assay_conc.loc[idx[:, :, [\"Fructose\", \"Formic Acid\"]], :]\n",
    "    ],\n",
    "    sort=False\n",
    ")\n",
    "\n",
    "main_data"
   ]
  },
  {
   "cell_type": "code",
   "execution_count": 63,
   "metadata": {},
   "outputs": [
    {
     "data": {
      "application/vnd.jupyter.widget-view+json": {
       "model_id": "ee17361cff0b4dbf8c5b1d97f446e271",
       "version_major": 2,
       "version_minor": 0
      },
      "text/plain": [
       "QgridWidget(grid_options={'fullWidthRows': True, 'syncColumnCellResize': True, 'forceFitColumns': True, 'defau…"
      ]
     },
     "metadata": {},
     "output_type": "display_data"
    }
   ],
   "source": [
    "mean_data = main_data.reset_index().groupby(\n",
    "    by=[\"Sample\", \"Method\", \"Quality\", \"Condition\", \"Quantity\", \"Unit\"]\n",
    ").agg(\n",
    "    dict(\n",
    "        Value=[\"mean\", \"std\", \"count\"],\n",
    "        Time=\"first\"\n",
    "    )\n",
    ")\n",
    "\n",
    "mean_data.columns = mean_data.columns.droplevel()\n",
    "mean_data = mean_data.rename(\n",
    "    {\n",
    "        \"mean\": \"Value\",\n",
    "        \"std\": \"StDev\",\n",
    "        \"count\": \"Points\",\n",
    "        \"first\": \"Time\"\n",
    "    }, \n",
    "    axis=\"columns\"\n",
    ").reset_index().set_index([\"Sample\", \"Quality\"])\n",
    "\n",
    "mean_data"
   ]
  },
  {
   "cell_type": "code",
   "execution_count": 60,
   "metadata": {},
   "outputs": [],
   "source": [
    "def gen_plotly_layout(axis_map, measures):\n",
    "    return {\n",
    "        \"xaxis\": dict(\n",
    "            domain=[0, (0.92 if len(measures) > 1 else 1)],\n",
    "            title=\"Time\"+\" [%s]\"%(units_of_choice[\"Time\"]),\n",
    "        ),\n",
    "        **{\n",
    "            \"yaxis\"+(str(ops[\"index\"]) if ops[\"index\"] != 1 else \"\"): dict(\n",
    "                title=quant+\" [%s]\"%(units_of_choice[(quant)]),\n",
    "                anchor=\"x\",\n",
    "                side=ops[\"position\"],\n",
    "                overlaying=(\"y\" if ops[\"index\"] != 1 else None)\n",
    "            ) for quant, ops in axis_map.items()\n",
    "        }\n",
    "    }\n",
    "\n",
    "def plot_measurements(df, measures, axis_map):\n",
    "    def create_scatter(m, c, yaxis, bottle=None):\n",
    "        data = df.reset_index(\n",
    "        ).pipe(\n",
    "            lambda df: df.loc[\n",
    "                (df.Condition == c) &\n",
    "                (df.Quality == m[0]) &\n",
    "                (df.Quantity == m[1])\n",
    "            ]\n",
    "        ).pipe(\n",
    "            lambda df: df.loc[df.Bottle == bottle] if bottle else df\n",
    "        )\n",
    "        \n",
    "        return go.Scatter(\n",
    "            x=data.Time,\n",
    "            y=data.Value,\n",
    "            error_y=dict(\n",
    "                type='data',\n",
    "                array=data.StDev,\n",
    "                visible=(True if data.StDev.sum() > 0 else False)\n",
    "            ),\n",
    "            mode=\"lines+markers\",\n",
    "            name=\"%s%s%s\"%(\n",
    "                \"%s: \"%(m[0]) if not bottle else \"\", \n",
    "                \"5 atm\" if c == \"pressure\" else \"1 atm\", \n",
    "                \" (%s)\"%(bottle) if bottle else \"\"\n",
    "            ),\n",
    "            marker=dict(\n",
    "                color=(bottle_color_map[bottle] if bottle else quality_color_map[m[0]])\n",
    "            ),\n",
    "            line=dict(\n",
    "                dash=(\"dash\" if c == \"control\" else None)\n",
    "            ),\n",
    "            opacity=0.8,\n",
    "            yaxis=yaxis\n",
    "        )\n",
    "    \n",
    "    nested_data = [\n",
    "        (\n",
    "            [\n",
    "                create_scatter(\n",
    "                    m, \n",
    "                    c,\n",
    "                    \"y\"+str(axis_map[m[1]][\"index\"])\n",
    "                )\n",
    "            ]  \n",
    "                if mode == \"mean\" else\n",
    "            [\n",
    "                create_scatter(\n",
    "                    m, \n",
    "                    c, \n",
    "                    \"y\"+str(axis_map[m[1]][\"index\"]),\n",
    "                    bottle=b\n",
    "                ) \n",
    "                for b, inner_df in df.reset_index().groupby(by=\"Bottle\") \n",
    "            ]\n",
    "        ) \n",
    "        for m, mode in measures.items() \n",
    "        for c in [\"control\", \"pressure\"]\n",
    "    ]\n",
    "    \n",
    "    return dict(\n",
    "        data=[d for sub in nested_data for d in sub],\n",
    "        layout=gen_plotly_layout(axis_map, measures)\n",
    "    )"
   ]
  },
  {
   "cell_type": "markdown",
   "metadata": {},
   "source": [
    "## Pressure scatter"
   ]
  },
  {
   "cell_type": "code",
   "execution_count": 61,
   "metadata": {},
   "outputs": [
    {
     "data": {
      "application/vnd.jupyter.widget-view+json": {
       "model_id": "55af5bc2e74b479abcb6db8593672836",
       "version_major": 2,
       "version_minor": 0
      },
      "text/plain": [
       "FigureWidget({\n",
       "    'data': [{'error_y': {'array': array([0, 0, 0, 0, 0, 0, 0, 0, 0, 0, 0], dtype=int64),\n",
       "     …"
      ]
     },
     "metadata": {},
     "output_type": "display_data"
    }
   ],
   "source": [
    "axis_map = {\n",
    "    \"Absolute Pressure\": {\n",
    "        \"index\": 1,\n",
    "        \"position\": \"left\"\n",
    "    }\n",
    "}\n",
    "\n",
    "fig1 = go.FigureWidget(plot_measurements(\n",
    "    main_data.loc[main_data.Condition == \"control\"],\n",
    "    {\n",
    "        (\"pressure_after\", \"Absolute Pressure\"): \"all\"\n",
    "    },\n",
    "    axis_map\n",
    "))\n",
    "\n",
    "fig2 = go.FigureWidget(plot_measurements(\n",
    "    main_data.loc[main_data.Condition == \"pressure\"],\n",
    "    {\n",
    "        (\"pressure_after\", \"Absolute Pressure\"): \"all\"\n",
    "    },\n",
    "    axis_map\n",
    "))\n",
    "\n",
    "pio.write_image(fig1, str(results_path / 'pressure_control.svg'))\n",
    "fig1"
   ]
  },
  {
   "cell_type": "code",
   "execution_count": 64,
   "metadata": {},
   "outputs": [
    {
     "data": {
      "application/vnd.jupyter.widget-view+json": {
       "model_id": "a6011ca1a50b486eab1a5fe4ba7df1ed",
       "version_major": 2,
       "version_minor": 0
      },
      "text/plain": [
       "FigureWidget({\n",
       "    'data': [{'error_y': {'array': array([], dtype=int64), 'type': 'data', 'visible': False},\n",
       " …"
      ]
     },
     "metadata": {},
     "output_type": "display_data"
    }
   ],
   "source": [
    "pio.write_image(fig2, str(results_path / 'pressure_pressure.svg'))\n",
    "fig2"
   ]
  },
  {
   "cell_type": "markdown",
   "metadata": {},
   "source": [
    "## Fructose scatter"
   ]
  },
  {
   "cell_type": "code",
   "execution_count": 65,
   "metadata": {},
   "outputs": [
    {
     "data": {
      "application/vnd.jupyter.widget-view+json": {
       "model_id": "38c98249ba174140985b217df8fe498d",
       "version_major": 2,
       "version_minor": 0
      },
      "text/plain": [
       "FigureWidget({\n",
       "    'data': [{'error_y': {'array': array([0, 0, 0, 0], dtype=int64), 'type': 'data', 'visible':…"
      ]
     },
     "metadata": {},
     "output_type": "display_data"
    }
   ],
   "source": [
    "axis_map = {\n",
    "    \"Concentration\": {\n",
    "        \"index\": 1,\n",
    "        \"position\": \"left\"\n",
    "    }\n",
    "}\n",
    "\n",
    "fig = go.FigureWidget(\n",
    "    plot_measurements(\n",
    "        main_data, \n",
    "        {\n",
    "            (\"Fructose\", \"Concentration\"): \"all\"\n",
    "        }, \n",
    "        axis_map\n",
    "    )\n",
    ")\n",
    "\n",
    "pio.write_image(fig, str(results_path / 'fructose.svg'))\n",
    "fig"
   ]
  },
  {
   "cell_type": "markdown",
   "metadata": {},
   "source": [
    "## OD_600 scatter"
   ]
  },
  {
   "cell_type": "code",
   "execution_count": 67,
   "metadata": {},
   "outputs": [
    {
     "data": {
      "application/vnd.jupyter.widget-view+json": {
       "model_id": "c8f82930c3184130a0a4f117330d7cff",
       "version_major": 2,
       "version_minor": 0
      },
      "text/plain": [
       "FigureWidget({\n",
       "    'data': [{'error_y': {'array': array([0, 0, 0, 0, 0, 0, 0, 0, 0, 0, 0], dtype=int64),\n",
       "     …"
      ]
     },
     "metadata": {},
     "output_type": "display_data"
    }
   ],
   "source": [
    "axis_map = {\n",
    "    \"Optical Extinction\": {\n",
    "        \"index\": 1,\n",
    "        \"position\": \"left\"\n",
    "    }\n",
    "}\n",
    "\n",
    "fig = go.FigureWidget(\n",
    "    plot_measurements(\n",
    "        main_data, \n",
    "        {\n",
    "            (\"OD 600\", \"Optical Extinction\"): \"all\"\n",
    "        }, \n",
    "        axis_map\n",
    "    )\n",
    ")\n",
    "\n",
    "pio.write_image(fig, str(results_path / 'od-600.svg'))\n",
    "fig"
   ]
  },
  {
   "cell_type": "markdown",
   "metadata": {},
   "source": [
    "## pH scatter"
   ]
  },
  {
   "cell_type": "code",
   "execution_count": 68,
   "metadata": {},
   "outputs": [
    {
     "data": {
      "application/vnd.jupyter.widget-view+json": {
       "model_id": "4dece937fef94a2a8b5cd42e9358b456",
       "version_major": 2,
       "version_minor": 0
      },
      "text/plain": [
       "FigureWidget({\n",
       "    'data': [{'error_y': {'array': array([0, 0, 0, 0, 0, 0, 0, 0, 0, 0, 0], dtype=int64),\n",
       "     …"
      ]
     },
     "metadata": {},
     "output_type": "display_data"
    }
   ],
   "source": [
    "axis_map = {\n",
    "    \"pH\": {\n",
    "        \"index\": 1,\n",
    "        \"position\": \"left\"\n",
    "    }\n",
    "}\n",
    "\n",
    "fig = go.FigureWidget(\n",
    "    plot_measurements(\n",
    "        main_data, \n",
    "        {\n",
    "            (\"pH\", \"pH\"): \"all\"\n",
    "        }, \n",
    "        axis_map\n",
    "    )\n",
    ")\n",
    "\n",
    "pio.write_image(fig, str(results_path / 'pH.svg'))\n",
    "fig"
   ]
  },
  {
   "cell_type": "markdown",
   "metadata": {},
   "source": [
    "## Acetate scatter"
   ]
  },
  {
   "cell_type": "code",
   "execution_count": 69,
   "metadata": {},
   "outputs": [
    {
     "data": {
      "application/vnd.jupyter.widget-view+json": {
       "model_id": "097cce7dbdde4d62bd7b1c24cf34f5dd",
       "version_major": 2,
       "version_minor": 0
      },
      "text/plain": [
       "FigureWidget({\n",
       "    'data': [{'error_y': {'array': array([0, 0, 0, 0, 0, 0, 0, 0, 0, 0, 0], dtype=int64),\n",
       "     …"
      ]
     },
     "metadata": {},
     "output_type": "display_data"
    }
   ],
   "source": [
    "axis_map = {\n",
    "    \"Concentration\": {\n",
    "        \"index\": 1,\n",
    "        \"position\": \"left\"\n",
    "    }\n",
    "}\n",
    "\n",
    "fig = go.FigureWidget(\n",
    "    plot_measurements(\n",
    "        main_data, \n",
    "        {\n",
    "            (\"Acetate\", \"Concentration\"): \"all\"\n",
    "        }, \n",
    "        axis_map\n",
    "    )\n",
    ")\n",
    "\n",
    "pio.write_image(fig, str(results_path / 'acetate.svg'))\n",
    "fig"
   ]
  },
  {
   "cell_type": "markdown",
   "metadata": {},
   "source": [
    "## Ethanol scatter"
   ]
  },
  {
   "cell_type": "code",
   "execution_count": 70,
   "metadata": {},
   "outputs": [
    {
     "data": {
      "application/vnd.jupyter.widget-view+json": {
       "model_id": "47d5f1a284ff4b05998f7359c4f49eb0",
       "version_major": 2,
       "version_minor": 0
      },
      "text/plain": [
       "FigureWidget({\n",
       "    'data': [{'error_y': {'array': array([0, 0, 0, 0, 0, 0, 0, 0, 0, 0, 0], dtype=int64),\n",
       "     …"
      ]
     },
     "metadata": {},
     "output_type": "display_data"
    }
   ],
   "source": [
    "axis_map = {\n",
    "    \"Concentration\": {\n",
    "        \"index\": 1,\n",
    "        \"position\": \"left\"\n",
    "    }\n",
    "}\n",
    "\n",
    "fig = go.FigureWidget(\n",
    "    plot_measurements(\n",
    "        main_data, \n",
    "        {\n",
    "            (\"EtOH\", \"Concentration\"): \"all\"\n",
    "        }, \n",
    "        axis_map\n",
    "    )\n",
    ")\n",
    "\n",
    "pio.write_image(fig, str(results_path / 'ethanol.svg'))\n",
    "fig"
   ]
  },
  {
   "cell_type": "markdown",
   "metadata": {},
   "source": [
    "## Formic Acid scatter"
   ]
  },
  {
   "cell_type": "code",
   "execution_count": 71,
   "metadata": {},
   "outputs": [
    {
     "data": {
      "application/vnd.jupyter.widget-view+json": {
       "model_id": "dcc4228bdfb24702b214098f7c560a34",
       "version_major": 2,
       "version_minor": 0
      },
      "text/plain": [
       "FigureWidget({\n",
       "    'data': [{'error_y': {'array': array([0, 0, 0, 0], dtype=int64), 'type': 'data', 'visible':…"
      ]
     },
     "metadata": {},
     "output_type": "display_data"
    }
   ],
   "source": [
    "axis_map = {\n",
    "    \"Concentration\": {\n",
    "        \"index\": 1,\n",
    "        \"position\": \"left\"\n",
    "    }\n",
    "}\n",
    "\n",
    "figure = plot_measurements(\n",
    "    main_data, \n",
    "    {\n",
    "        (\"Formic Acid\", \"Concentration\"): \"all\"\n",
    "    }, \n",
    "    axis_map\n",
    ")\n",
    "\n",
    "figure['data'] = [\n",
    "    *figure['data'], \n",
    "    go.Scatter({\n",
    "        'mode': 'lines',\n",
    "        'x': [0, 145],\n",
    "        'y': [0.02, 0.02],\n",
    "        'name': \"Lower detection limit of assay\",\n",
    "        'line': {\n",
    "            'color': 'rgb(100,100,100)',\n",
    "            'dash': 'dashdot',\n",
    "        },\n",
    "    })\n",
    "]\n",
    "\n",
    "fig = go.FigureWidget(figure)\n",
    "\n",
    "pio.write_image(fig, str(results_path / 'formate.svg'))\n",
    "fig"
   ]
  },
  {
   "cell_type": "markdown",
   "metadata": {},
   "source": [
    "## Scatter with most important means"
   ]
  },
  {
   "cell_type": "code",
   "execution_count": 72,
   "metadata": {
    "scrolled": false
   },
   "outputs": [
    {
     "data": {
      "application/vnd.jupyter.widget-view+json": {
       "model_id": "0a50c8a88d2a421abefad47ea1d22dfd",
       "version_major": 2,
       "version_minor": 0
      },
      "text/plain": [
       "FigureWidget({\n",
       "    'data': [{'error_y': {'array': array([       nan,        nan, 0.29096017, 0.05587874, 0.073…"
      ]
     },
     "metadata": {},
     "output_type": "display_data"
    }
   ],
   "source": [
    "axis_map = {\n",
    "    \"Concentration\": {\n",
    "        \"index\": 1,\n",
    "        \"position\": \"left\"\n",
    "    },\n",
    "    \"Optical Extinction\": {\n",
    "        \"index\": 2,\n",
    "        \"position\": \"right\"\n",
    "    }\n",
    "}\n",
    "\n",
    "fig = go.FigureWidget(\n",
    "    plot_measurements(\n",
    "        mean_data, \n",
    "        {\n",
    "            (\"EtOH\", \"Concentration\"): \"mean\",\n",
    "            (\"Acetate\", \"Concentration\"): \"mean\",\n",
    "            (\"OD 600\", \"Optical Extinction\"): \"mean\"\n",
    "        }, \n",
    "        axis_map\n",
    "    )\n",
    ")\n",
    "\n",
    "pio.write_image(fig, str(results_path / 'growth-and-production.svg'))\n",
    "fig"
   ]
  },
  {
   "cell_type": "markdown",
   "metadata": {},
   "source": [
    "## Correlation of Fructose and OD_600"
   ]
  },
  {
   "cell_type": "code",
   "execution_count": 75,
   "metadata": {},
   "outputs": [
    {
     "data": {
      "application/vnd.jupyter.widget-view+json": {
       "model_id": "61e3eff6ea144e639c825c36d8d1f406",
       "version_major": 2,
       "version_minor": 0
      },
      "text/plain": [
       "FigureWidget({\n",
       "    'data': [{'error_y': {'array': array([0.01100814, 0.01243729, 0.00296945, 0.00255934]),\n",
       "   …"
      ]
     },
     "metadata": {},
     "output_type": "display_data"
    }
   ],
   "source": [
    "axis_map = {\n",
    "    \"Concentration\": {\n",
    "        \"index\": 1,\n",
    "        \"position\": \"left\"\n",
    "    },\n",
    "    \"Optical Extinction\": {\n",
    "        \"index\": 2,\n",
    "        \"position\": \"right\"\n",
    "    }\n",
    "}\n",
    "\n",
    "fig = go.FigureWidget(\n",
    "    plot_measurements(\n",
    "        mean_data, \n",
    "        {\n",
    "            (\"Fructose\", \"Concentration\"): \"mean\",\n",
    "            (\"OD 600\", \"Optical Extinction\"): \"mean\"\n",
    "        }, \n",
    "        axis_map\n",
    "    )\n",
    ")\n",
    "\n",
    "pio.write_image(fig, str(results_path / 'od-and-fructose.svg'))\n",
    "fig"
   ]
  },
  {
   "cell_type": "code",
   "execution_count": 76,
   "metadata": {},
   "outputs": [],
   "source": [
    "mean_data.to_csv(intermediate_path / \"mean_data_CO.csv\")"
   ]
  }
 ],
 "metadata": {
  "kernelspec": {
   "display_name": "Python 3",
   "language": "python",
   "name": "python3"
  },
  "language_info": {
   "codemirror_mode": {
    "name": "ipython",
    "version": 3
   },
   "file_extension": ".py",
   "mimetype": "text/x-python",
   "name": "python",
   "nbconvert_exporter": "python",
   "pygments_lexer": "ipython3",
   "version": "3.6.8"
  }
 },
 "nbformat": 4,
 "nbformat_minor": 2
}
