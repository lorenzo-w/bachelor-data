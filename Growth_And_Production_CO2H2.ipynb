{
 "cells": [
  {
   "cell_type": "markdown",
   "metadata": {},
   "source": [
    "# Combine product concentrations from GC with enzymatic assays and OD-pH-pressure"
   ]
  },
  {
   "cell_type": "markdown",
   "metadata": {},
   "source": [
    "## Imports and setup"
   ]
  },
  {
   "cell_type": "code",
   "execution_count": 120,
   "metadata": {},
   "outputs": [
    {
     "data": {
      "text/html": [
       "<script type=\"text/javascript\">window.PlotlyConfig = {MathJaxConfig: 'local'};</script><script type=\"text/javascript\">if (window.MathJax) {MathJax.Hub.Config({SVG: {font: \"STIX-Web\"}});}</script><script>requirejs.config({paths: { 'plotly': ['https://cdn.plot.ly/plotly-latest.min']},});if(!window._Plotly) {require(['plotly'],function(plotly) {window._Plotly=plotly;});}</script>"
      ],
      "text/vnd.plotly.v1+html": [
       "<script type=\"text/javascript\">window.PlotlyConfig = {MathJaxConfig: 'local'};</script><script type=\"text/javascript\">if (window.MathJax) {MathJax.Hub.Config({SVG: {font: \"STIX-Web\"}});}</script><script>requirejs.config({paths: { 'plotly': ['https://cdn.plot.ly/plotly-latest.min']},});if(!window._Plotly) {require(['plotly'],function(plotly) {window._Plotly=plotly;});}</script>"
      ]
     },
     "metadata": {},
     "output_type": "display_data"
    }
   ],
   "source": [
    "import os\n",
    "from pathlib import Path\n",
    "import webbrowser\n",
    "from functools import reduce\n",
    "import random\n",
    "import operator\n",
    "import pandas as pd\n",
    "from ipywidgets import interact, interactive, fixed\n",
    "import ipywidgets as widgets\n",
    "import plotly.offline as py\n",
    "import plotly.graph_objs as go\n",
    "import plotly_express as px\n",
    "import numpy as np\n",
    "import sympy as sp\n",
    "import qgrid as qg\n",
    "import plotly.io as pio\n",
    "\n",
    "from utils.plot_utils import scatterplot_from_df, boxplot_from_df \n",
    "\n",
    "idx = pd.IndexSlice\n",
    "\n",
    "sp.init_printing()\n",
    "py.init_notebook_mode(connected=True)\n",
    "qg.set_defaults(show_toolbar=True)\n",
    "qg.enable()"
   ]
  },
  {
   "cell_type": "markdown",
   "metadata": {},
   "source": [
    "## Input files and definitions"
   ]
  },
  {
   "cell_type": "code",
   "execution_count": 2,
   "metadata": {},
   "outputs": [
    {
     "data": {
      "application/vnd.jupyter.widget-view+json": {
       "model_id": "bbd8ed8444b4427db24b513314a23921",
       "version_major": 2,
       "version_minor": 0
      },
      "text/plain": [
       "QgridWidget(grid_options={'fullWidthRows': True, 'syncColumnCellResize': True, 'forceFitColumns': True, 'defau…"
      ]
     },
     "metadata": {},
     "output_type": "display_data"
    }
   ],
   "source": [
    "sample_template = pd.DataFrame(\n",
    "    [\n",
    "        (sample, bottle) \n",
    "        for sample in range(1, 13, 1) \n",
    "        for bottle in [\"A\", \"B\", \"C\", \"D\", \"E\", \"F\", \"G\", \"H\"]\n",
    "    ],\n",
    "    columns=(\"Sample\", \"Bottle\")\n",
    ").set_index([\"Sample\", \"Bottle\"])\n",
    "\n",
    "sample_template"
   ]
  },
  {
   "cell_type": "code",
   "execution_count": 121,
   "metadata": {},
   "outputs": [],
   "source": [
    "sample_times_path = Path(\"./data/sample-times_CO2H2.csv\")\n",
    "gc_conc_path = Path(\"./intermediate/GC/CO2H2/concentrations.csv\")\n",
    "od_ph_path = Path(\"./data/growth_CO2H2.csv\")\n",
    "eth_ac_assay_path = Path(\"./data/Enzymatic_Assays/ethanol_acetate_assay_results_CO2H2.csv\")\n",
    "fru_assay_path = Path(\"./data/Enzymatic_Assays/fructose_assay_results_CO2H2.csv\")\n",
    "form_assay_path = Path(\"./data/Enzymatic_Assays/formate_assay_results_CO2H2.csv\")\n",
    "rel_exp_path = Path(\"./intermediate/Comparative_Expression/rel-exps_CO2H2.csv\")\n",
    "comp_exp_path = Path(\"./intermediate/Comparative_Expression/comp-exps_CO2H2.csv\")\n",
    "\n",
    "intermediate_path = Path(\"./intermediate\")\n",
    "results_path = Path(\"./results/CO2-H2\")"
   ]
  },
  {
   "cell_type": "code",
   "execution_count": 11,
   "metadata": {},
   "outputs": [
    {
     "data": {
      "application/vnd.jupyter.widget-view+json": {
       "model_id": "27fd3621ac554413b998ee46ed23a559",
       "version_major": 2,
       "version_minor": 0
      },
      "text/plain": [
       "QgridWidget(grid_options={'fullWidthRows': True, 'syncColumnCellResize': True, 'forceFitColumns': True, 'defau…"
      ]
     },
     "metadata": {},
     "output_type": "display_data"
    }
   ],
   "source": [
    "def query_group(g):\n",
    "    return (\n",
    "        ((g.index.get_level_values(\"Bottle_Set\") == \"A-D\") & \n",
    "         g.index.get_level_values(\"Bottle\").isin([\"A\", \"B\", \"C\", \"D\"])) | \n",
    "        ((g.index.get_level_values(\"Bottle_Set\") == \"E-H\") & \n",
    "         g.index.get_level_values(\"Bottle\").isin([\"E\", \"F\", \"G\", \"H\"]))\n",
    "    ) \n",
    "\n",
    "exp_from_bottle_col = lambda bottle: (\n",
    "    np.where(\n",
    "        bottle.isin([\"A\", \"B\", \"C\", \"D\"]), \n",
    "        \"control\", \n",
    "        np.where(\n",
    "            bottle.isin([\"E\", \"F\", \"G\", \"H\"]), \n",
    "            \"pressure\", \n",
    "            float(\"NaN\")\n",
    "        )\n",
    "    )\n",
    ")\n",
    "\n",
    "sample_times = sample_template.join(\n",
    "    pd.read_csv(\n",
    "        sample_times_path\n",
    "    ).rename(\n",
    "        {\n",
    "            \"Bottle Set\": \"Bottle_Set\"\n",
    "        },\n",
    "        axis=\"columns\"\n",
    "    ).set_index(\n",
    "        [\"Sample\", \"Bottle_Set\"]\n",
    "    )\n",
    ").groupby(\n",
    "    level=[\"Sample\", \"Bottle\"]\n",
    ").agg({\n",
    "    \"Time\": lambda group: group.loc[query_group(group)].iloc[0]\n",
    "}).assign(\n",
    "    Condition=lambda df: exp_from_bottle_col(df.index.get_level_values(\"Bottle\"))\n",
    ")\n",
    "\n",
    "sample_times"
   ]
  },
  {
   "cell_type": "code",
   "execution_count": 168,
   "metadata": {},
   "outputs": [
    {
     "data": {
      "application/vnd.jupyter.widget-view+json": {
       "model_id": "9457157df61f4c37a8aa68fa7915d310",
       "version_major": 2,
       "version_minor": 0
      },
      "text/plain": [
       "QgridWidget(grid_options={'fullWidthRows': True, 'syncColumnCellResize': True, 'forceFitColumns': True, 'defau…"
      ]
     },
     "metadata": {},
     "output_type": "display_data"
    }
   ],
   "source": [
    "psi_to_bar = 0.0689476\n",
    "\n",
    "qualities = {\n",
    "    \"OD 600\": {\n",
    "        \"Quantity\": \"Optical Extinction\",\n",
    "        \"Unit\": \"1\"\n",
    "    },\n",
    "    \"pH\": {\n",
    "        \"Quantity\": \"pH\",\n",
    "        \"Unit\": \"1\"\n",
    "    },\n",
    "    \"Pressure after\": {\n",
    "        \"Quantity\": \"Absolute Pressure\",\n",
    "        \"Unit\": \"bar\"\n",
    "    }\n",
    "}\n",
    "\n",
    "def convert_psi_to_bar(df):\n",
    "    mask_all = (df.Quality == \"Pressure after\")\n",
    "    mask_high = (df.Value > 10) \n",
    "    new_df = df.copy()\n",
    "    new_df.loc[mask_all & mask_high, \"Value\"] *= psi_to_bar\n",
    "    new_df.loc[mask_all, \"Value\"] += 1.01325\n",
    "    return new_df\n",
    "\n",
    "growth_data = sample_times.join(\n",
    "    pd.read_csv(od_ph_path, index_col=[\"Sample\", \"Bottle\"]).loc[:,[\"OD_600\", \"pH\", \"pressure_after\"]]\n",
    ").rename(\n",
    "    {\n",
    "        \"pressure_after\": \"Pressure after\",\n",
    "        \"OD_600\": \"OD 600\"\n",
    "    },\n",
    "    axis=\"columns\"\n",
    ").assign(\n",
    "    Method=\"Manual\"\n",
    ").reset_index().melt(\n",
    "    id_vars=[\"Sample\", \"Bottle\", \"Time\", \"Method\", \"Condition\"],\n",
    "    value_vars=[\"OD 600\", \"pH\", \"Pressure after\"],\n",
    "    var_name=\"Quality\",\n",
    "    value_name=\"Value\"\n",
    ").pipe(\n",
    "    convert_psi_to_bar\n",
    ").assign(\n",
    "    Quantity=lambda df: df.Quality.map(lambda q: qualities[q][\"Quantity\"]),\n",
    "    Unit=lambda df: df.Quality.map(lambda q: qualities[q][\"Unit\"]),\n",
    "    StDev=0,\n",
    "    Points=1\n",
    ").set_index(\n",
    "    [\"Sample\", \"Bottle\", \"Quality\"]\n",
    ")\n",
    "\n",
    "growth_data"
   ]
  },
  {
   "cell_type": "code",
   "execution_count": 20,
   "metadata": {
    "scrolled": false
   },
   "outputs": [
    {
     "data": {
      "application/vnd.jupyter.widget-view+json": {
       "model_id": "0d82fc9143c7491f9aa90df6cbdcd43e",
       "version_major": 2,
       "version_minor": 0
      },
      "text/plain": [
       "QgridWidget(grid_options={'fullWidthRows': True, 'syncColumnCellResize': True, 'forceFitColumns': True, 'defau…"
      ]
     },
     "metadata": {},
     "output_type": "display_data"
    }
   ],
   "source": [
    "qualities = {\n",
    "    \"Acetate\": {\n",
    "        \"Quantity\": \"Concentration\",\n",
    "        \"Unit\": \"g/L\"\n",
    "    },\n",
    "    \"EtOH\": {\n",
    "        \"Quantity\": \"Concentration\",\n",
    "        \"Unit\": \"g/L\"\n",
    "    }\n",
    "}\n",
    "\n",
    "gc_conc = sample_times.join(\n",
    "    pd.read_csv(gc_conc_path, index_col=[\"Sample\", \"Bottle\"])\n",
    ").assign(\n",
    "    Method=\"GC\"\n",
    ").reset_index().melt(\n",
    "    id_vars=[\"Sample\", \"Bottle\", \"Time\", \"Method\", \"Condition\"],\n",
    "    value_vars=[\"Acetate\", \"EtOH\"],\n",
    "    var_name=\"Quality\",\n",
    "    value_name=\"Value\"\n",
    ").assign(\n",
    "    Quantity=lambda df: df.Quality.map(lambda q: qualities[q][\"Quantity\"]),\n",
    "    Unit=lambda df: df.Quality.map(lambda q: qualities[q][\"Unit\"]),\n",
    "    StDev=0,\n",
    "    Points=1\n",
    ").set_index([\"Sample\", \"Bottle\", \"Quality\"])\n",
    "\n",
    "gc_conc"
   ]
  },
  {
   "cell_type": "code",
   "execution_count": 21,
   "metadata": {},
   "outputs": [
    {
     "data": {
      "application/vnd.jupyter.widget-view+json": {
       "model_id": "00be577a8eff4f73a1324f641f077282",
       "version_major": 2,
       "version_minor": 0
      },
      "text/plain": [
       "QgridWidget(grid_options={'fullWidthRows': True, 'syncColumnCellResize': True, 'forceFitColumns': True, 'defau…"
      ]
     },
     "metadata": {},
     "output_type": "display_data"
    }
   ],
   "source": [
    "assay_data = sample_times.join(\n",
    "    [\n",
    "        pd.read_csv(eth_ac_assay_path, index_col=[\"Sample\", \"Bottle\"]),\n",
    "        pd.read_csv(fru_assay_path, index_col=[\"Sample\", \"Bottle\"]),\n",
    "        pd.read_csv(form_assay_path, index_col=[\"Sample\", \"Bottle\"]).rename(\n",
    "            {\n",
    "                \"Formate\": \"Formic Acid\"\n",
    "            },\n",
    "            axis=\"columns\"\n",
    "        ).reindex(\n",
    "            [\"Formic Acid\"],\n",
    "            axis=\"columns\"\n",
    "        )\n",
    "    ]\n",
    ")\n",
    "\n",
    "assay_data"
   ]
  },
  {
   "cell_type": "code",
   "execution_count": 124,
   "metadata": {},
   "outputs": [
    {
     "data": {
      "application/vnd.jupyter.widget-view+json": {
       "model_id": "2979cf0d4445439f8294c02b7f082363",
       "version_major": 2,
       "version_minor": 0
      },
      "text/plain": [
       "QgridWidget(grid_options={'fullWidthRows': True, 'syncColumnCellResize': True, 'forceFitColumns': True, 'defau…"
      ]
     },
     "metadata": {},
     "output_type": "display_data"
    }
   ],
   "source": [
    "qualities = {\n",
    "    \"Acetate\": {\n",
    "        \"Quantity\": \"Concentration\",\n",
    "        \"Unit\": \"g/L\"\n",
    "    },\n",
    "    \"EtOH\": {\n",
    "        \"Quantity\": \"Concentration\",\n",
    "        \"Unit\": \"g/L\"\n",
    "    },\n",
    "    \"Fructose\": {\n",
    "        \"Quantity\": \"Concentration\",\n",
    "        \"Unit\": \"g/L\"\n",
    "    },\n",
    "    \"Formic Acid\": {\n",
    "        \"Quantity\": \"Concentration\",\n",
    "        \"Unit\": \"g/L\"\n",
    "    }\n",
    "}\n",
    "\n",
    "assay_conc = assay_data.loc[\n",
    "    :, \n",
    "    [\"Time\", \"Condition\", \"Acetate\", \"Ethanol\", \"Fructose\", \"Formic Acid\"]\n",
    "].rename(\n",
    "    {\n",
    "        \"Ethanol\": \"EtOH\"\n",
    "    },\n",
    "    axis=\"columns\"\n",
    ").assign(\n",
    "    Method=\"Enzymatic Assay\"\n",
    ").reset_index().melt(\n",
    "    id_vars=[\"Sample\", \"Bottle\", \"Time\", \"Method\", \"Condition\"],\n",
    "    value_vars=[\"Acetate\", \"EtOH\", \"Fructose\", \"Formic Acid\"],\n",
    "    var_name=\"Quality\",\n",
    "    value_name=\"Value\"\n",
    ").assign(\n",
    "    Quantity=lambda df: df.Quality.map(lambda q: qualities[q][\"Quantity\"]),\n",
    "    Unit=lambda df: df.Quality.map(lambda q: qualities[q][\"Unit\"]),\n",
    "    StDev=0,\n",
    "    Points=1\n",
    ").dropna(\n",
    ").set_index([\"Sample\", \"Bottle\", \"Quality\"])\n",
    "\n",
    "assay_conc"
   ]
  },
  {
   "cell_type": "code",
   "execution_count": 35,
   "metadata": {},
   "outputs": [
    {
     "data": {
      "application/vnd.jupyter.widget-view+json": {
       "model_id": "15402535e1fd4d51b84baf4d5780d456",
       "version_major": 2,
       "version_minor": 0
      },
      "text/plain": [
       "QgridWidget(grid_options={'fullWidthRows': True, 'syncColumnCellResize': True, 'forceFitColumns': True, 'defau…"
      ]
     },
     "metadata": {},
     "output_type": "display_data"
    }
   ],
   "source": [
    "rel_exp = sample_times.join(\n",
    "    pd.read_csv(rel_exp_path, index_col=[\"Sample\", \"Bottle\"])\n",
    ").assign(\n",
    "    Quality=lambda df: df.GOI,\n",
    "    Quantity=\"Relative Expression\",\n",
    "    Method=\"RT-qPCR\",\n",
    "    Unit=1,\n",
    "    StDev=0,\n",
    "    Points=1\n",
    ").drop(\n",
    "    columns=[\"GOI\", \"Replica\", \"Exp_Type\"]\n",
    ").reset_index(\n",
    ").rename(\n",
    "    {\n",
    "        \"RelExp\": \"Value\"\n",
    "    },\n",
    "    axis=\"columns\"\n",
    ").set_index(\n",
    "    [\"Sample\", \"Bottle\", \"Quality\"]\n",
    ").dropna()\n",
    "\n",
    "rel_exp"
   ]
  },
  {
   "cell_type": "code",
   "execution_count": 48,
   "metadata": {},
   "outputs": [
    {
     "data": {
      "application/vnd.jupyter.widget-view+json": {
       "model_id": "ded4f829da1b45f5941f54a0096fc779",
       "version_major": 2,
       "version_minor": 0
      },
      "text/plain": [
       "QgridWidget(grid_options={'fullWidthRows': True, 'syncColumnCellResize': True, 'forceFitColumns': True, 'defau…"
      ]
     },
     "metadata": {},
     "output_type": "display_data"
    }
   ],
   "source": [
    "comp_exp = sample_times.join(\n",
    "    pd.read_csv(comp_exp_path, index_col=[\"Sample\", \"Bottle\"])\n",
    ").assign(\n",
    "    Quality=lambda df: df.GOI,\n",
    "    Quantity=\"Comparative Expression\",\n",
    "    Method=\"RT-qPCR\",\n",
    "    Unit=1,\n",
    "    StDev=0,\n",
    "    Points=1\n",
    ").drop(\n",
    "    columns=[\"GOI\", \"Replica_sample\", \"Replica_calib\"]\n",
    ").reset_index(\n",
    ").rename(\n",
    "    {\n",
    "        \"CompExp\": \"Value\"\n",
    "    },\n",
    "    axis=\"columns\"\n",
    ").dropna(\n",
    ").groupby(\n",
    "        by=[\"Sample\", \"Bottle\", \"Method\", \"Quality\", \"Condition\", \"Quantity\", \"Unit\"]\n",
    ").agg(\n",
    "    dict(\n",
    "        Value=[\"mean\", \"std\", \"count\"],\n",
    "        Time=\"first\"\n",
    "    )\n",
    ")\n",
    "\n",
    "comp_exp.columns = comp_exp.columns.droplevel()\n",
    "comp_exp = comp_exp.rename(\n",
    "    {\n",
    "        \"mean\": \"Value\",\n",
    "        \"std\": \"StDev\",\n",
    "        \"count\": \"Points\",\n",
    "        \"first\": \"Time\"\n",
    "    }, \n",
    "    axis=\"columns\"\n",
    ").reset_index().set_index(\n",
    "    [\"Sample\", \"Bottle\", \"Quality\"]\n",
    ")\n",
    "\n",
    "comp_exp"
   ]
  },
  {
   "cell_type": "code",
   "execution_count": 125,
   "metadata": {},
   "outputs": [
    {
     "data": {
      "application/vnd.jupyter.widget-view+json": {
       "model_id": "b5c692db904a43fcaa2cb2c67c9853a9",
       "version_major": 2,
       "version_minor": 0
      },
      "text/plain": [
       "QgridWidget(grid_options={'fullWidthRows': True, 'syncColumnCellResize': True, 'forceFitColumns': True, 'defau…"
      ]
     },
     "metadata": {},
     "output_type": "display_data"
    }
   ],
   "source": [
    "gc_vs_assays = pd.concat(\n",
    "    [\n",
    "        assay_conc[assay_conc.index.isin(gc_conc.index)],\n",
    "        gc_conc.loc[gc_conc.index.isin(assay_conc.index)]\n",
    "    ]\n",
    ")\n",
    "\n",
    "gc_vs_assays"
   ]
  },
  {
   "cell_type": "markdown",
   "metadata": {},
   "source": [
    "## Some Defs for plotting"
   ]
  },
  {
   "cell_type": "code",
   "execution_count": 175,
   "metadata": {},
   "outputs": [],
   "source": [
    "units_of_choice = {\n",
    "    \"Time\": \"h\",\n",
    "    \"Concentration\": \"g/L\",\n",
    "    \"Optical Extinction\": \"1\",\n",
    "    \"pH\": \"1\",\n",
    "    \"Absolute Pressure\": \"bar\",\n",
    "    \"Relative Expression\": \"1\",\n",
    "    \"Comparative Expression\": \"1\"\n",
    "}\n",
    "\n",
    "quality_color_map = {\n",
    "    \"Acetate\": \"rgb(150,0,0)\",\n",
    "    \"EtOH\": \"rgb(0,50,150)\",\n",
    "    \"Fructose\": \"rgb(0,150,250)\",\n",
    "    \"Formic Acid\": \"rgb(30,200,0)\",\n",
    "    \"OD 600\": \"rgb(0,100,50)\",\n",
    "    \"pH\": \"rgb(150,0,150)\",\n",
    "    \"pressure_after\": \"rgb(0,0,50)\",\n",
    "    \"aor\": \"rgb(250, 0, 150)\",\n",
    "    \"pta\": \"rgb(200, 110, 0)\",\n",
    "    \"fdh\": \"rgb(0, 150, 30)\",\n",
    "    \"codh\": \"rgb(0, 30, 150)\"\n",
    "}\n",
    "\n",
    "bottle_color_map = {\n",
    "    \"A\": \"rgb(200,0,0)\",\n",
    "    \"B\": \"rgb(0,75,200)\",\n",
    "    \"C\": \"rgb(0,200,255)\",\n",
    "    \"D\": \"rgb(0,150,90)\",\n",
    "    \"E\": \"rgb(240,50,240)\",\n",
    "    \"F\": \"rgb(255, 200, 0)\",\n",
    "    \"G\": \"rgb(255, 135, 0)\",\n",
    "    \"H\": \"rgb(0, 200, 20)\",\n",
    "}"
   ]
  },
  {
   "cell_type": "markdown",
   "metadata": {},
   "source": [
    "## Correlation between GC and Assays for Acetate (multi-scatter)"
   ]
  },
  {
   "cell_type": "code",
   "execution_count": 131,
   "metadata": {},
   "outputs": [
    {
     "data": {
      "application/vnd.plotly.v1+json": {
       "config": {
        "linkText": "Export to plot.ly",
        "plotlyServerURL": "https://plot.ly",
        "showLink": false
       },
       "data": [
        {
         "hovertemplate": "Bottle=B<br>Method=Enzymatic Assay<br>Time [h]=%{x}<br>Concentration [g/L]=%{y}<extra></extra>",
         "legendgroup": "Method=Enzymatic Assay",
         "marker": {
          "color": "#636efa",
          "symbol": "circle"
         },
         "mode": "markers",
         "name": "Method=Enzymatic Assay",
         "showlegend": true,
         "type": "scatter",
         "uid": "b2390dc2-5261-4b3f-9921-1ca1396e5566",
         "x": [
          0,
          23.5,
          47.25,
          70.5,
          94.5,
          166.5
         ],
         "xaxis": "x",
         "y": [
          0.680067723,
          1.334015739,
          3.370632029,
          2.848682117,
          2.9290093539999997,
          7.475061938
         ],
         "yaxis": "y"
        },
        {
         "hovertemplate": "Bottle=B<br>Method=GC<br>Time [h]=%{x}<br>Concentration [g/L]=%{y}<extra></extra>",
         "legendgroup": "Method=GC",
         "marker": {
          "color": "#EF553B",
          "symbol": "circle"
         },
         "mode": "markers",
         "name": "Method=GC",
         "showlegend": true,
         "type": "scatter",
         "uid": "2d2f9ad5-a2ad-44c0-bf36-e1d5178344d6",
         "x": [
          0,
          23.5,
          47.25,
          70.5,
          94.5,
          166.5
         ],
         "xaxis": "x",
         "y": [
          0.6839399569573987,
          1.2613197056349652,
          2.403237002093098,
          2.630116063430448,
          4.058157023436955,
          8.443626143505682
         ],
         "yaxis": "y"
        },
        {
         "hovertemplate": "Bottle=F<br>Method=Enzymatic Assay<br>Time [h]=%{x}<br>Concentration [g/L]=%{y}<extra></extra>",
         "legendgroup": "Method=Enzymatic Assay",
         "marker": {
          "color": "#636efa",
          "symbol": "circle"
         },
         "mode": "markers",
         "name": "Method=Enzymatic Assay",
         "showlegend": false,
         "type": "scatter",
         "uid": "df362d67-dda5-420a-934b-3c854fea7e8f",
         "x": [
          0,
          23.75,
          47.5,
          70.5,
          94.5,
          166.5
         ],
         "xaxis": "x2",
         "y": [
          0.5988054110000001,
          1.941463339,
          2.237714847,
          2.507447274,
          2.821094131,
          3.4559195639999998
         ],
         "yaxis": "y"
        },
        {
         "hovertemplate": "Bottle=F<br>Method=GC<br>Time [h]=%{x}<br>Concentration [g/L]=%{y}<extra></extra>",
         "legendgroup": "Method=GC",
         "marker": {
          "color": "#EF553B",
          "symbol": "circle"
         },
         "mode": "markers",
         "name": "Method=GC",
         "showlegend": false,
         "type": "scatter",
         "uid": "97644f73-7c29-4e93-919f-f4862b9662f3",
         "x": [
          0,
          23.75,
          47.5,
          70.5,
          94.5,
          166.5
         ],
         "xaxis": "x2",
         "y": [
          0.5824646633551039,
          1.6742996598715651,
          2.4956028837506725,
          2.866167690027828,
          3.0192693031289277,
          3.451220031983397
         ],
         "yaxis": "y"
        }
       ],
       "layout": {
        "annotations": [
         {
          "showarrow": false,
          "text": "Bottle=B",
          "textangle": 0,
          "x": 0.23684210526315788,
          "xanchor": "center",
          "xref": "paper",
          "y": 1.02,
          "yanchor": "middle",
          "yref": "paper"
         },
         {
          "showarrow": false,
          "text": "Bottle=F",
          "textangle": 0,
          "x": 0.763157894736842,
          "xanchor": "center",
          "xref": "paper",
          "y": 1.02,
          "yanchor": "middle",
          "yref": "paper"
         }
        ],
        "grid": {
         "xaxes": [
          "x",
          "x2"
         ],
         "xgap": 0.1,
         "xside": "bottom",
         "yaxes": [
          "y"
         ],
         "ygap": 0.1,
         "yside": "left"
        },
        "height": 600,
        "legend": {
         "tracegroupgap": 0
        },
        "margin": {
         "t": 60
        },
        "template": {
         "data": {
          "bar": [
           {
            "marker": {
             "line": {
              "color": "white",
              "width": 0.5
             }
            },
            "type": "bar"
           }
          ],
          "barpolar": [
           {
            "marker": {
             "line": {
              "color": "white",
              "width": 0.5
             }
            },
            "type": "barpolar"
           }
          ],
          "carpet": [
           {
            "aaxis": {
             "endlinecolor": "#2a3f5f",
             "gridcolor": "#C8D4E3",
             "linecolor": "#C8D4E3",
             "minorgridcolor": "#C8D4E3",
             "startlinecolor": "#2a3f5f"
            },
            "baxis": {
             "endlinecolor": "#2a3f5f",
             "gridcolor": "#C8D4E3",
             "linecolor": "#C8D4E3",
             "minorgridcolor": "#C8D4E3",
             "startlinecolor": "#2a3f5f"
            },
            "type": "carpet"
           }
          ],
          "choropleth": [
           {
            "colorbar": {
             "outlinewidth": 0,
             "ticks": ""
            },
            "type": "choropleth"
           }
          ],
          "contour": [
           {
            "autocolorscale": true,
            "colorbar": {
             "outlinewidth": 0,
             "ticks": ""
            },
            "type": "contour"
           }
          ],
          "contourcarpet": [
           {
            "colorbar": {
             "outlinewidth": 0,
             "ticks": ""
            },
            "type": "contourcarpet"
           }
          ],
          "heatmap": [
           {
            "autocolorscale": true,
            "colorbar": {
             "outlinewidth": 0,
             "ticks": ""
            },
            "type": "heatmap"
           }
          ],
          "heatmapgl": [
           {
            "colorbar": {
             "outlinewidth": 0,
             "ticks": ""
            },
            "type": "heatmapgl"
           }
          ],
          "histogram": [
           {
            "marker": {
             "colorbar": {
              "outlinewidth": 0,
              "ticks": ""
             }
            },
            "type": "histogram"
           }
          ],
          "histogram2d": [
           {
            "autocolorscale": true,
            "colorbar": {
             "outlinewidth": 0,
             "ticks": ""
            },
            "type": "histogram2d"
           }
          ],
          "histogram2dcontour": [
           {
            "autocolorscale": true,
            "colorbar": {
             "outlinewidth": 0,
             "ticks": ""
            },
            "type": "histogram2dcontour"
           }
          ],
          "mesh3d": [
           {
            "colorbar": {
             "outlinewidth": 0,
             "ticks": ""
            },
            "type": "mesh3d"
           }
          ],
          "parcoords": [
           {
            "line": {
             "colorbar": {
              "outlinewidth": 0,
              "ticks": ""
             }
            },
            "type": "parcoords"
           }
          ],
          "scatter": [
           {
            "marker": {
             "colorbar": {
              "outlinewidth": 0,
              "ticks": ""
             }
            },
            "type": "scatter"
           }
          ],
          "scatter3d": [
           {
            "marker": {
             "colorbar": {
              "outlinewidth": 0,
              "ticks": ""
             }
            },
            "type": "scatter3d"
           }
          ],
          "scattercarpet": [
           {
            "marker": {
             "colorbar": {
              "outlinewidth": 0,
              "ticks": ""
             }
            },
            "type": "scattercarpet"
           }
          ],
          "scattergeo": [
           {
            "marker": {
             "colorbar": {
              "outlinewidth": 0,
              "ticks": ""
             }
            },
            "type": "scattergeo"
           }
          ],
          "scattergl": [
           {
            "marker": {
             "colorbar": {
              "outlinewidth": 0,
              "ticks": ""
             }
            },
            "type": "scattergl"
           }
          ],
          "scattermapbox": [
           {
            "marker": {
             "colorbar": {
              "outlinewidth": 0,
              "ticks": ""
             }
            },
            "type": "scattermapbox"
           }
          ],
          "scatterpolar": [
           {
            "marker": {
             "colorbar": {
              "outlinewidth": 0,
              "ticks": ""
             }
            },
            "type": "scatterpolar"
           }
          ],
          "scatterpolargl": [
           {
            "marker": {
             "colorbar": {
              "outlinewidth": 0,
              "ticks": ""
             }
            },
            "type": "scatterpolargl"
           }
          ],
          "scatterternary": [
           {
            "marker": {
             "colorbar": {
              "outlinewidth": 0,
              "ticks": ""
             }
            },
            "type": "scatterternary"
           }
          ],
          "surface": [
           {
            "colorbar": {
             "outlinewidth": 0,
             "ticks": ""
            },
            "type": "surface"
           }
          ],
          "table": [
           {
            "cells": {
             "fill": {
              "color": "#EBF0F8"
             },
             "line": {
              "color": "white"
             }
            },
            "header": {
             "fill": {
              "color": "#C8D4E3"
             },
             "line": {
              "color": "white"
             }
            },
            "type": "table"
           }
          ]
         },
         "layout": {
          "annotationdefaults": {
           "arrowcolor": "#506784",
           "arrowhead": 0,
           "arrowwidth": 1
          },
          "colorscale": {
           "diverging": [
            [
             0,
             "#8e0152"
            ],
            [
             0.1,
             "#c51b7d"
            ],
            [
             0.2,
             "#de77ae"
            ],
            [
             0.3,
             "#f1b6da"
            ],
            [
             0.4,
             "#fde0ef"
            ],
            [
             0.5,
             "#f7f7f7"
            ],
            [
             0.6,
             "#e6f5d0"
            ],
            [
             0.7,
             "#b8e186"
            ],
            [
             0.8,
             "#7fbc41"
            ],
            [
             0.9,
             "#4d9221"
            ],
            [
             1,
             "#276419"
            ]
           ],
           "sequential": [
            [
             0,
             "#0508b8"
            ],
            [
             0.0893854748603352,
             "#1910d8"
            ],
            [
             0.1787709497206704,
             "#3c19f0"
            ],
            [
             0.2681564245810056,
             "#6b1cfb"
            ],
            [
             0.3575418994413408,
             "#981cfd"
            ],
            [
             0.44692737430167595,
             "#bf1cfd"
            ],
            [
             0.5363128491620112,
             "#dd2bfd"
            ],
            [
             0.6256983240223464,
             "#f246fe"
            ],
            [
             0.7150837988826816,
             "#fc67fd"
            ],
            [
             0.8044692737430168,
             "#fe88fc"
            ],
            [
             0.8938547486033519,
             "#fea5fd"
            ],
            [
             0.9832402234636871,
             "#febefe"
            ],
            [
             1,
             "#fec3fe"
            ]
           ],
           "sequentialminus": [
            [
             0,
             "#0508b8"
            ],
            [
             0.0893854748603352,
             "#1910d8"
            ],
            [
             0.1787709497206704,
             "#3c19f0"
            ],
            [
             0.2681564245810056,
             "#6b1cfb"
            ],
            [
             0.3575418994413408,
             "#981cfd"
            ],
            [
             0.44692737430167595,
             "#bf1cfd"
            ],
            [
             0.5363128491620112,
             "#dd2bfd"
            ],
            [
             0.6256983240223464,
             "#f246fe"
            ],
            [
             0.7150837988826816,
             "#fc67fd"
            ],
            [
             0.8044692737430168,
             "#fe88fc"
            ],
            [
             0.8938547486033519,
             "#fea5fd"
            ],
            [
             0.9832402234636871,
             "#febefe"
            ],
            [
             1,
             "#fec3fe"
            ]
           ]
          },
          "colorway": [
           "#636efa",
           "#EF553B",
           "#00cc96",
           "#ab63fa",
           "#19d3f3",
           "#e763fa",
           "#FECB52",
           "#FFA15A",
           "#FF6692",
           "#B6E880"
          ],
          "font": {
           "color": "#2a3f5f"
          },
          "geo": {
           "bgcolor": "white",
           "lakecolor": "white",
           "landcolor": "white",
           "showlakes": true,
           "showland": true,
           "subunitcolor": "#C8D4E3"
          },
          "hovermode": "closest",
          "mapbox": {
           "style": "light"
          },
          "paper_bgcolor": "white",
          "plot_bgcolor": "white",
          "polar": {
           "angularaxis": {
            "gridcolor": "#EBF0F8",
            "linecolor": "#EBF0F8",
            "ticks": ""
           },
           "bgcolor": "white",
           "radialaxis": {
            "gridcolor": "#EBF0F8",
            "linecolor": "#EBF0F8",
            "ticks": ""
           }
          },
          "scene": {
           "xaxis": {
            "backgroundcolor": "white",
            "gridcolor": "#DFE8F3",
            "gridwidth": 2,
            "linecolor": "#EBF0F8",
            "showbackground": true,
            "ticks": "",
            "zerolinecolor": "#EBF0F8"
           },
           "yaxis": {
            "backgroundcolor": "white",
            "gridcolor": "#DFE8F3",
            "gridwidth": 2,
            "linecolor": "#EBF0F8",
            "showbackground": true,
            "ticks": "",
            "zerolinecolor": "#EBF0F8"
           },
           "zaxis": {
            "backgroundcolor": "white",
            "gridcolor": "#DFE8F3",
            "gridwidth": 2,
            "linecolor": "#EBF0F8",
            "showbackground": true,
            "ticks": "",
            "zerolinecolor": "#EBF0F8"
           }
          },
          "shapedefaults": {
           "fillcolor": "#506784",
           "line": {
            "width": 0
           },
           "opacity": 0.4
          },
          "ternary": {
           "aaxis": {
            "gridcolor": "#DFE8F3",
            "linecolor": "#A2B1C6",
            "ticks": ""
           },
           "baxis": {
            "gridcolor": "#DFE8F3",
            "linecolor": "#A2B1C6",
            "ticks": ""
           },
           "bgcolor": "white",
           "caxis": {
            "gridcolor": "#DFE8F3",
            "linecolor": "#A2B1C6",
            "ticks": ""
           }
          },
          "title": {
           "x": 0.05
          },
          "xaxis": {
           "automargin": true,
           "gridcolor": "#EBF0F8",
           "linecolor": "#EBF0F8",
           "ticks": "",
           "zerolinecolor": "#EBF0F8",
           "zerolinewidth": 2
          },
          "yaxis": {
           "automargin": true,
           "gridcolor": "#EBF0F8",
           "linecolor": "#EBF0F8",
           "ticks": "",
           "zerolinecolor": "#EBF0F8",
           "zerolinewidth": 2
          }
         }
        },
        "xaxis": {
         "title": {
          "text": "Time [h]"
         }
        },
        "xaxis2": {
         "matches": "x",
         "title": {
          "text": "Time [h]"
         }
        },
        "yaxis": {
         "title": {
          "text": "Concentration [g/L]"
         }
        }
       }
      },
      "text/html": [
       "<div id=\"13ff2b3b-bee4-4548-bdc9-7a09b6ac3b0a\" style=\"height: 600px; width: 100%;\" class=\"plotly-graph-div\"></div><script type=\"text/javascript\">require([\"plotly\"], function(Plotly) { window.PLOTLYENV=window.PLOTLYENV || {};window.PLOTLYENV.BASE_URL=\"https://plot.ly\";\n",
       "if (document.getElementById(\"13ff2b3b-bee4-4548-bdc9-7a09b6ac3b0a\")) {\n",
       "    Plotly.newPlot(\"13ff2b3b-bee4-4548-bdc9-7a09b6ac3b0a\", [{\"hovertemplate\": \"Bottle=B<br>Method=Enzymatic Assay<br>Time [h]=%{x}<br>Concentration [g/L]=%{y}<extra></extra>\", \"legendgroup\": \"Method=Enzymatic Assay\", \"marker\": {\"color\": \"#636efa\", \"symbol\": \"circle\"}, \"mode\": \"markers\", \"name\": \"Method=Enzymatic Assay\", \"showlegend\": true, \"x\": [0.0, 23.5, 47.25, 70.5, 94.5, 166.5], \"xaxis\": \"x\", \"y\": [0.680067723, 1.334015739, 3.370632029, 2.848682117, 2.9290093539999997, 7.475061938], \"yaxis\": \"y\", \"type\": \"scatter\", \"uid\": \"b2390dc2-5261-4b3f-9921-1ca1396e5566\"}, {\"hovertemplate\": \"Bottle=B<br>Method=GC<br>Time [h]=%{x}<br>Concentration [g/L]=%{y}<extra></extra>\", \"legendgroup\": \"Method=GC\", \"marker\": {\"color\": \"#EF553B\", \"symbol\": \"circle\"}, \"mode\": \"markers\", \"name\": \"Method=GC\", \"showlegend\": true, \"x\": [0.0, 23.5, 47.25, 70.5, 94.5, 166.5], \"xaxis\": \"x\", \"y\": [0.6839399569573987, 1.2613197056349652, 2.403237002093098, 2.630116063430448, 4.058157023436955, 8.443626143505682], \"yaxis\": \"y\", \"type\": \"scatter\", \"uid\": \"2d2f9ad5-a2ad-44c0-bf36-e1d5178344d6\"}, {\"hovertemplate\": \"Bottle=F<br>Method=Enzymatic Assay<br>Time [h]=%{x}<br>Concentration [g/L]=%{y}<extra></extra>\", \"legendgroup\": \"Method=Enzymatic Assay\", \"marker\": {\"color\": \"#636efa\", \"symbol\": \"circle\"}, \"mode\": \"markers\", \"name\": \"Method=Enzymatic Assay\", \"showlegend\": false, \"x\": [0.0, 23.75, 47.5, 70.5, 94.5, 166.5], \"xaxis\": \"x2\", \"y\": [0.5988054110000001, 1.941463339, 2.237714847, 2.507447274, 2.821094131, 3.4559195639999998], \"yaxis\": \"y\", \"type\": \"scatter\", \"uid\": \"df362d67-dda5-420a-934b-3c854fea7e8f\"}, {\"hovertemplate\": \"Bottle=F<br>Method=GC<br>Time [h]=%{x}<br>Concentration [g/L]=%{y}<extra></extra>\", \"legendgroup\": \"Method=GC\", \"marker\": {\"color\": \"#EF553B\", \"symbol\": \"circle\"}, \"mode\": \"markers\", \"name\": \"Method=GC\", \"showlegend\": false, \"x\": [0.0, 23.75, 47.5, 70.5, 94.5, 166.5], \"xaxis\": \"x2\", \"y\": [0.5824646633551039, 1.6742996598715651, 2.4956028837506725, 2.866167690027828, 3.0192693031289277, 3.451220031983397], \"yaxis\": \"y\", \"type\": \"scatter\", \"uid\": \"97644f73-7c29-4e93-919f-f4862b9662f3\"}], {\"height\": 600, \"legend\": {\"tracegroupgap\": 0}, \"margin\": {\"t\": 60}, \"template\": {\"data\": {\"barpolar\": [{\"marker\": {\"line\": {\"color\": \"white\", \"width\": 0.5}}, \"type\": \"barpolar\"}], \"bar\": [{\"marker\": {\"line\": {\"color\": \"white\", \"width\": 0.5}}, \"type\": \"bar\"}], \"carpet\": [{\"aaxis\": {\"endlinecolor\": \"#2a3f5f\", \"gridcolor\": \"#C8D4E3\", \"linecolor\": \"#C8D4E3\", \"minorgridcolor\": \"#C8D4E3\", \"startlinecolor\": \"#2a3f5f\"}, \"baxis\": {\"endlinecolor\": \"#2a3f5f\", \"gridcolor\": \"#C8D4E3\", \"linecolor\": \"#C8D4E3\", \"minorgridcolor\": \"#C8D4E3\", \"startlinecolor\": \"#2a3f5f\"}, \"type\": \"carpet\"}], \"choropleth\": [{\"colorbar\": {\"outlinewidth\": 0, \"ticks\": \"\"}, \"type\": \"choropleth\"}], \"contourcarpet\": [{\"colorbar\": {\"outlinewidth\": 0, \"ticks\": \"\"}, \"type\": \"contourcarpet\"}], \"contour\": [{\"autocolorscale\": true, \"colorbar\": {\"outlinewidth\": 0, \"ticks\": \"\"}, \"type\": \"contour\"}], \"heatmapgl\": [{\"colorbar\": {\"outlinewidth\": 0, \"ticks\": \"\"}, \"type\": \"heatmapgl\"}], \"heatmap\": [{\"autocolorscale\": true, \"colorbar\": {\"outlinewidth\": 0, \"ticks\": \"\"}, \"type\": \"heatmap\"}], \"histogram2dcontour\": [{\"autocolorscale\": true, \"colorbar\": {\"outlinewidth\": 0, \"ticks\": \"\"}, \"type\": \"histogram2dcontour\"}], \"histogram2d\": [{\"autocolorscale\": true, \"colorbar\": {\"outlinewidth\": 0, \"ticks\": \"\"}, \"type\": \"histogram2d\"}], \"histogram\": [{\"marker\": {\"colorbar\": {\"outlinewidth\": 0, \"ticks\": \"\"}}, \"type\": \"histogram\"}], \"mesh3d\": [{\"colorbar\": {\"outlinewidth\": 0, \"ticks\": \"\"}, \"type\": \"mesh3d\"}], \"parcoords\": [{\"line\": {\"colorbar\": {\"outlinewidth\": 0, \"ticks\": \"\"}}, \"type\": \"parcoords\"}], \"scatter3d\": [{\"marker\": {\"colorbar\": {\"outlinewidth\": 0, \"ticks\": \"\"}}, \"type\": \"scatter3d\"}], \"scattercarpet\": [{\"marker\": {\"colorbar\": {\"outlinewidth\": 0, \"ticks\": \"\"}}, \"type\": \"scattercarpet\"}], \"scattergeo\": [{\"marker\": {\"colorbar\": {\"outlinewidth\": 0, \"ticks\": \"\"}}, \"type\": \"scattergeo\"}], \"scattergl\": [{\"marker\": {\"colorbar\": {\"outlinewidth\": 0, \"ticks\": \"\"}}, \"type\": \"scattergl\"}], \"scattermapbox\": [{\"marker\": {\"colorbar\": {\"outlinewidth\": 0, \"ticks\": \"\"}}, \"type\": \"scattermapbox\"}], \"scatterpolargl\": [{\"marker\": {\"colorbar\": {\"outlinewidth\": 0, \"ticks\": \"\"}}, \"type\": \"scatterpolargl\"}], \"scatterpolar\": [{\"marker\": {\"colorbar\": {\"outlinewidth\": 0, \"ticks\": \"\"}}, \"type\": \"scatterpolar\"}], \"scatter\": [{\"marker\": {\"colorbar\": {\"outlinewidth\": 0, \"ticks\": \"\"}}, \"type\": \"scatter\"}], \"scatterternary\": [{\"marker\": {\"colorbar\": {\"outlinewidth\": 0, \"ticks\": \"\"}}, \"type\": \"scatterternary\"}], \"surface\": [{\"colorbar\": {\"outlinewidth\": 0, \"ticks\": \"\"}, \"type\": \"surface\"}], \"table\": [{\"cells\": {\"fill\": {\"color\": \"#EBF0F8\"}, \"line\": {\"color\": \"white\"}}, \"header\": {\"fill\": {\"color\": \"#C8D4E3\"}, \"line\": {\"color\": \"white\"}}, \"type\": \"table\"}]}, \"layout\": {\"annotationdefaults\": {\"arrowcolor\": \"#506784\", \"arrowhead\": 0, \"arrowwidth\": 1}, \"colorscale\": {\"diverging\": [[0, \"#8e0152\"], [0.1, \"#c51b7d\"], [0.2, \"#de77ae\"], [0.3, \"#f1b6da\"], [0.4, \"#fde0ef\"], [0.5, \"#f7f7f7\"], [0.6, \"#e6f5d0\"], [0.7, \"#b8e186\"], [0.8, \"#7fbc41\"], [0.9, \"#4d9221\"], [1, \"#276419\"]], \"sequential\": [[0.0, \"#0508b8\"], [0.0893854748603352, \"#1910d8\"], [0.1787709497206704, \"#3c19f0\"], [0.2681564245810056, \"#6b1cfb\"], [0.3575418994413408, \"#981cfd\"], [0.44692737430167595, \"#bf1cfd\"], [0.5363128491620112, \"#dd2bfd\"], [0.6256983240223464, \"#f246fe\"], [0.7150837988826816, \"#fc67fd\"], [0.8044692737430168, \"#fe88fc\"], [0.8938547486033519, \"#fea5fd\"], [0.9832402234636871, \"#febefe\"], [1.0, \"#fec3fe\"]], \"sequentialminus\": [[0.0, \"#0508b8\"], [0.0893854748603352, \"#1910d8\"], [0.1787709497206704, \"#3c19f0\"], [0.2681564245810056, \"#6b1cfb\"], [0.3575418994413408, \"#981cfd\"], [0.44692737430167595, \"#bf1cfd\"], [0.5363128491620112, \"#dd2bfd\"], [0.6256983240223464, \"#f246fe\"], [0.7150837988826816, \"#fc67fd\"], [0.8044692737430168, \"#fe88fc\"], [0.8938547486033519, \"#fea5fd\"], [0.9832402234636871, \"#febefe\"], [1.0, \"#fec3fe\"]]}, \"colorway\": [\"#636efa\", \"#EF553B\", \"#00cc96\", \"#ab63fa\", \"#19d3f3\", \"#e763fa\", \"#FECB52\", \"#FFA15A\", \"#FF6692\", \"#B6E880\"], \"font\": {\"color\": \"#2a3f5f\"}, \"geo\": {\"bgcolor\": \"white\", \"lakecolor\": \"white\", \"landcolor\": \"white\", \"showlakes\": true, \"showland\": true, \"subunitcolor\": \"#C8D4E3\"}, \"hovermode\": \"closest\", \"mapbox\": {\"style\": \"light\"}, \"paper_bgcolor\": \"white\", \"plot_bgcolor\": \"white\", \"polar\": {\"angularaxis\": {\"gridcolor\": \"#EBF0F8\", \"linecolor\": \"#EBF0F8\", \"ticks\": \"\"}, \"bgcolor\": \"white\", \"radialaxis\": {\"gridcolor\": \"#EBF0F8\", \"linecolor\": \"#EBF0F8\", \"ticks\": \"\"}}, \"scene\": {\"xaxis\": {\"backgroundcolor\": \"white\", \"gridcolor\": \"#DFE8F3\", \"gridwidth\": 2, \"linecolor\": \"#EBF0F8\", \"showbackground\": true, \"ticks\": \"\", \"zerolinecolor\": \"#EBF0F8\"}, \"yaxis\": {\"backgroundcolor\": \"white\", \"gridcolor\": \"#DFE8F3\", \"gridwidth\": 2, \"linecolor\": \"#EBF0F8\", \"showbackground\": true, \"ticks\": \"\", \"zerolinecolor\": \"#EBF0F8\"}, \"zaxis\": {\"backgroundcolor\": \"white\", \"gridcolor\": \"#DFE8F3\", \"gridwidth\": 2, \"linecolor\": \"#EBF0F8\", \"showbackground\": true, \"ticks\": \"\", \"zerolinecolor\": \"#EBF0F8\"}}, \"shapedefaults\": {\"fillcolor\": \"#506784\", \"line\": {\"width\": 0}, \"opacity\": 0.4}, \"ternary\": {\"aaxis\": {\"gridcolor\": \"#DFE8F3\", \"linecolor\": \"#A2B1C6\", \"ticks\": \"\"}, \"baxis\": {\"gridcolor\": \"#DFE8F3\", \"linecolor\": \"#A2B1C6\", \"ticks\": \"\"}, \"bgcolor\": \"white\", \"caxis\": {\"gridcolor\": \"#DFE8F3\", \"linecolor\": \"#A2B1C6\", \"ticks\": \"\"}}, \"title\": {\"x\": 0.05}, \"xaxis\": {\"automargin\": true, \"gridcolor\": \"#EBF0F8\", \"linecolor\": \"#EBF0F8\", \"ticks\": \"\", \"zerolinecolor\": \"#EBF0F8\", \"zerolinewidth\": 2}, \"yaxis\": {\"automargin\": true, \"gridcolor\": \"#EBF0F8\", \"linecolor\": \"#EBF0F8\", \"ticks\": \"\", \"zerolinecolor\": \"#EBF0F8\", \"zerolinewidth\": 2}}}, \"grid\": {\"xaxes\": [\"x\", \"x2\"], \"yaxes\": [\"y\"], \"xgap\": 0.1, \"ygap\": 0.1, \"xside\": \"bottom\", \"yside\": \"left\"}, \"xaxis2\": {\"title\": {\"text\": \"Time [h]\"}, \"matches\": \"x\"}, \"annotations\": [{\"showarrow\": false, \"text\": \"Bottle=B\", \"textangle\": 0, \"x\": 0.23684210526315788, \"xanchor\": \"center\", \"xref\": \"paper\", \"y\": 1.02, \"yanchor\": \"middle\", \"yref\": \"paper\"}, {\"showarrow\": false, \"text\": \"Bottle=F\", \"textangle\": 0, \"x\": 0.763157894736842, \"xanchor\": \"center\", \"xref\": \"paper\", \"y\": 1.02, \"yanchor\": \"middle\", \"yref\": \"paper\"}], \"xaxis\": {\"title\": {\"text\": \"Time [h]\"}}, \"yaxis\": {\"title\": {\"text\": \"Concentration [g/L]\"}}}, {\"showLink\": false, \"linkText\": \"Export to plot.ly\", \"plotlyServerURL\": \"https://plot.ly\"}); \n",
       "}\n",
       "});</script><script type=\"text/javascript\">window.addEventListener(\"resize\", function(){if (document.getElementById(\"13ff2b3b-bee4-4548-bdc9-7a09b6ac3b0a\")) {window._Plotly.Plots.resize(document.getElementById(\"13ff2b3b-bee4-4548-bdc9-7a09b6ac3b0a\"));};})</script>"
      ],
      "text/vnd.plotly.v1+html": [
       "<div id=\"13ff2b3b-bee4-4548-bdc9-7a09b6ac3b0a\" style=\"height: 600px; width: 100%;\" class=\"plotly-graph-div\"></div><script type=\"text/javascript\">require([\"plotly\"], function(Plotly) { window.PLOTLYENV=window.PLOTLYENV || {};window.PLOTLYENV.BASE_URL=\"https://plot.ly\";\n",
       "if (document.getElementById(\"13ff2b3b-bee4-4548-bdc9-7a09b6ac3b0a\")) {\n",
       "    Plotly.newPlot(\"13ff2b3b-bee4-4548-bdc9-7a09b6ac3b0a\", [{\"hovertemplate\": \"Bottle=B<br>Method=Enzymatic Assay<br>Time [h]=%{x}<br>Concentration [g/L]=%{y}<extra></extra>\", \"legendgroup\": \"Method=Enzymatic Assay\", \"marker\": {\"color\": \"#636efa\", \"symbol\": \"circle\"}, \"mode\": \"markers\", \"name\": \"Method=Enzymatic Assay\", \"showlegend\": true, \"x\": [0.0, 23.5, 47.25, 70.5, 94.5, 166.5], \"xaxis\": \"x\", \"y\": [0.680067723, 1.334015739, 3.370632029, 2.848682117, 2.9290093539999997, 7.475061938], \"yaxis\": \"y\", \"type\": \"scatter\", \"uid\": \"b2390dc2-5261-4b3f-9921-1ca1396e5566\"}, {\"hovertemplate\": \"Bottle=B<br>Method=GC<br>Time [h]=%{x}<br>Concentration [g/L]=%{y}<extra></extra>\", \"legendgroup\": \"Method=GC\", \"marker\": {\"color\": \"#EF553B\", \"symbol\": \"circle\"}, \"mode\": \"markers\", \"name\": \"Method=GC\", \"showlegend\": true, \"x\": [0.0, 23.5, 47.25, 70.5, 94.5, 166.5], \"xaxis\": \"x\", \"y\": [0.6839399569573987, 1.2613197056349652, 2.403237002093098, 2.630116063430448, 4.058157023436955, 8.443626143505682], \"yaxis\": \"y\", \"type\": \"scatter\", \"uid\": \"2d2f9ad5-a2ad-44c0-bf36-e1d5178344d6\"}, {\"hovertemplate\": \"Bottle=F<br>Method=Enzymatic Assay<br>Time [h]=%{x}<br>Concentration [g/L]=%{y}<extra></extra>\", \"legendgroup\": \"Method=Enzymatic Assay\", \"marker\": {\"color\": \"#636efa\", \"symbol\": \"circle\"}, \"mode\": \"markers\", \"name\": \"Method=Enzymatic Assay\", \"showlegend\": false, \"x\": [0.0, 23.75, 47.5, 70.5, 94.5, 166.5], \"xaxis\": \"x2\", \"y\": [0.5988054110000001, 1.941463339, 2.237714847, 2.507447274, 2.821094131, 3.4559195639999998], \"yaxis\": \"y\", \"type\": \"scatter\", \"uid\": \"df362d67-dda5-420a-934b-3c854fea7e8f\"}, {\"hovertemplate\": \"Bottle=F<br>Method=GC<br>Time [h]=%{x}<br>Concentration [g/L]=%{y}<extra></extra>\", \"legendgroup\": \"Method=GC\", \"marker\": {\"color\": \"#EF553B\", \"symbol\": \"circle\"}, \"mode\": \"markers\", \"name\": \"Method=GC\", \"showlegend\": false, \"x\": [0.0, 23.75, 47.5, 70.5, 94.5, 166.5], \"xaxis\": \"x2\", \"y\": [0.5824646633551039, 1.6742996598715651, 2.4956028837506725, 2.866167690027828, 3.0192693031289277, 3.451220031983397], \"yaxis\": \"y\", \"type\": \"scatter\", \"uid\": \"97644f73-7c29-4e93-919f-f4862b9662f3\"}], {\"height\": 600, \"legend\": {\"tracegroupgap\": 0}, \"margin\": {\"t\": 60}, \"template\": {\"data\": {\"barpolar\": [{\"marker\": {\"line\": {\"color\": \"white\", \"width\": 0.5}}, \"type\": \"barpolar\"}], \"bar\": [{\"marker\": {\"line\": {\"color\": \"white\", \"width\": 0.5}}, \"type\": \"bar\"}], \"carpet\": [{\"aaxis\": {\"endlinecolor\": \"#2a3f5f\", \"gridcolor\": \"#C8D4E3\", \"linecolor\": \"#C8D4E3\", \"minorgridcolor\": \"#C8D4E3\", \"startlinecolor\": \"#2a3f5f\"}, \"baxis\": {\"endlinecolor\": \"#2a3f5f\", \"gridcolor\": \"#C8D4E3\", \"linecolor\": \"#C8D4E3\", \"minorgridcolor\": \"#C8D4E3\", \"startlinecolor\": \"#2a3f5f\"}, \"type\": \"carpet\"}], \"choropleth\": [{\"colorbar\": {\"outlinewidth\": 0, \"ticks\": \"\"}, \"type\": \"choropleth\"}], \"contourcarpet\": [{\"colorbar\": {\"outlinewidth\": 0, \"ticks\": \"\"}, \"type\": \"contourcarpet\"}], \"contour\": [{\"autocolorscale\": true, \"colorbar\": {\"outlinewidth\": 0, \"ticks\": \"\"}, \"type\": \"contour\"}], \"heatmapgl\": [{\"colorbar\": {\"outlinewidth\": 0, \"ticks\": \"\"}, \"type\": \"heatmapgl\"}], \"heatmap\": [{\"autocolorscale\": true, \"colorbar\": {\"outlinewidth\": 0, \"ticks\": \"\"}, \"type\": \"heatmap\"}], \"histogram2dcontour\": [{\"autocolorscale\": true, \"colorbar\": {\"outlinewidth\": 0, \"ticks\": \"\"}, \"type\": \"histogram2dcontour\"}], \"histogram2d\": [{\"autocolorscale\": true, \"colorbar\": {\"outlinewidth\": 0, \"ticks\": \"\"}, \"type\": \"histogram2d\"}], \"histogram\": [{\"marker\": {\"colorbar\": {\"outlinewidth\": 0, \"ticks\": \"\"}}, \"type\": \"histogram\"}], \"mesh3d\": [{\"colorbar\": {\"outlinewidth\": 0, \"ticks\": \"\"}, \"type\": \"mesh3d\"}], \"parcoords\": [{\"line\": {\"colorbar\": {\"outlinewidth\": 0, \"ticks\": \"\"}}, \"type\": \"parcoords\"}], \"scatter3d\": [{\"marker\": {\"colorbar\": {\"outlinewidth\": 0, \"ticks\": \"\"}}, \"type\": \"scatter3d\"}], \"scattercarpet\": [{\"marker\": {\"colorbar\": {\"outlinewidth\": 0, \"ticks\": \"\"}}, \"type\": \"scattercarpet\"}], \"scattergeo\": [{\"marker\": {\"colorbar\": {\"outlinewidth\": 0, \"ticks\": \"\"}}, \"type\": \"scattergeo\"}], \"scattergl\": [{\"marker\": {\"colorbar\": {\"outlinewidth\": 0, \"ticks\": \"\"}}, \"type\": \"scattergl\"}], \"scattermapbox\": [{\"marker\": {\"colorbar\": {\"outlinewidth\": 0, \"ticks\": \"\"}}, \"type\": \"scattermapbox\"}], \"scatterpolargl\": [{\"marker\": {\"colorbar\": {\"outlinewidth\": 0, \"ticks\": \"\"}}, \"type\": \"scatterpolargl\"}], \"scatterpolar\": [{\"marker\": {\"colorbar\": {\"outlinewidth\": 0, \"ticks\": \"\"}}, \"type\": \"scatterpolar\"}], \"scatter\": [{\"marker\": {\"colorbar\": {\"outlinewidth\": 0, \"ticks\": \"\"}}, \"type\": \"scatter\"}], \"scatterternary\": [{\"marker\": {\"colorbar\": {\"outlinewidth\": 0, \"ticks\": \"\"}}, \"type\": \"scatterternary\"}], \"surface\": [{\"colorbar\": {\"outlinewidth\": 0, \"ticks\": \"\"}, \"type\": \"surface\"}], \"table\": [{\"cells\": {\"fill\": {\"color\": \"#EBF0F8\"}, \"line\": {\"color\": \"white\"}}, \"header\": {\"fill\": {\"color\": \"#C8D4E3\"}, \"line\": {\"color\": \"white\"}}, \"type\": \"table\"}]}, \"layout\": {\"annotationdefaults\": {\"arrowcolor\": \"#506784\", \"arrowhead\": 0, \"arrowwidth\": 1}, \"colorscale\": {\"diverging\": [[0, \"#8e0152\"], [0.1, \"#c51b7d\"], [0.2, \"#de77ae\"], [0.3, \"#f1b6da\"], [0.4, \"#fde0ef\"], [0.5, \"#f7f7f7\"], [0.6, \"#e6f5d0\"], [0.7, \"#b8e186\"], [0.8, \"#7fbc41\"], [0.9, \"#4d9221\"], [1, \"#276419\"]], \"sequential\": [[0.0, \"#0508b8\"], [0.0893854748603352, \"#1910d8\"], [0.1787709497206704, \"#3c19f0\"], [0.2681564245810056, \"#6b1cfb\"], [0.3575418994413408, \"#981cfd\"], [0.44692737430167595, \"#bf1cfd\"], [0.5363128491620112, \"#dd2bfd\"], [0.6256983240223464, \"#f246fe\"], [0.7150837988826816, \"#fc67fd\"], [0.8044692737430168, \"#fe88fc\"], [0.8938547486033519, \"#fea5fd\"], [0.9832402234636871, \"#febefe\"], [1.0, \"#fec3fe\"]], \"sequentialminus\": [[0.0, \"#0508b8\"], [0.0893854748603352, \"#1910d8\"], [0.1787709497206704, \"#3c19f0\"], [0.2681564245810056, \"#6b1cfb\"], [0.3575418994413408, \"#981cfd\"], [0.44692737430167595, \"#bf1cfd\"], [0.5363128491620112, \"#dd2bfd\"], [0.6256983240223464, \"#f246fe\"], [0.7150837988826816, \"#fc67fd\"], [0.8044692737430168, \"#fe88fc\"], [0.8938547486033519, \"#fea5fd\"], [0.9832402234636871, \"#febefe\"], [1.0, \"#fec3fe\"]]}, \"colorway\": [\"#636efa\", \"#EF553B\", \"#00cc96\", \"#ab63fa\", \"#19d3f3\", \"#e763fa\", \"#FECB52\", \"#FFA15A\", \"#FF6692\", \"#B6E880\"], \"font\": {\"color\": \"#2a3f5f\"}, \"geo\": {\"bgcolor\": \"white\", \"lakecolor\": \"white\", \"landcolor\": \"white\", \"showlakes\": true, \"showland\": true, \"subunitcolor\": \"#C8D4E3\"}, \"hovermode\": \"closest\", \"mapbox\": {\"style\": \"light\"}, \"paper_bgcolor\": \"white\", \"plot_bgcolor\": \"white\", \"polar\": {\"angularaxis\": {\"gridcolor\": \"#EBF0F8\", \"linecolor\": \"#EBF0F8\", \"ticks\": \"\"}, \"bgcolor\": \"white\", \"radialaxis\": {\"gridcolor\": \"#EBF0F8\", \"linecolor\": \"#EBF0F8\", \"ticks\": \"\"}}, \"scene\": {\"xaxis\": {\"backgroundcolor\": \"white\", \"gridcolor\": \"#DFE8F3\", \"gridwidth\": 2, \"linecolor\": \"#EBF0F8\", \"showbackground\": true, \"ticks\": \"\", \"zerolinecolor\": \"#EBF0F8\"}, \"yaxis\": {\"backgroundcolor\": \"white\", \"gridcolor\": \"#DFE8F3\", \"gridwidth\": 2, \"linecolor\": \"#EBF0F8\", \"showbackground\": true, \"ticks\": \"\", \"zerolinecolor\": \"#EBF0F8\"}, \"zaxis\": {\"backgroundcolor\": \"white\", \"gridcolor\": \"#DFE8F3\", \"gridwidth\": 2, \"linecolor\": \"#EBF0F8\", \"showbackground\": true, \"ticks\": \"\", \"zerolinecolor\": \"#EBF0F8\"}}, \"shapedefaults\": {\"fillcolor\": \"#506784\", \"line\": {\"width\": 0}, \"opacity\": 0.4}, \"ternary\": {\"aaxis\": {\"gridcolor\": \"#DFE8F3\", \"linecolor\": \"#A2B1C6\", \"ticks\": \"\"}, \"baxis\": {\"gridcolor\": \"#DFE8F3\", \"linecolor\": \"#A2B1C6\", \"ticks\": \"\"}, \"bgcolor\": \"white\", \"caxis\": {\"gridcolor\": \"#DFE8F3\", \"linecolor\": \"#A2B1C6\", \"ticks\": \"\"}}, \"title\": {\"x\": 0.05}, \"xaxis\": {\"automargin\": true, \"gridcolor\": \"#EBF0F8\", \"linecolor\": \"#EBF0F8\", \"ticks\": \"\", \"zerolinecolor\": \"#EBF0F8\", \"zerolinewidth\": 2}, \"yaxis\": {\"automargin\": true, \"gridcolor\": \"#EBF0F8\", \"linecolor\": \"#EBF0F8\", \"ticks\": \"\", \"zerolinecolor\": \"#EBF0F8\", \"zerolinewidth\": 2}}}, \"grid\": {\"xaxes\": [\"x\", \"x2\"], \"yaxes\": [\"y\"], \"xgap\": 0.1, \"ygap\": 0.1, \"xside\": \"bottom\", \"yside\": \"left\"}, \"xaxis2\": {\"title\": {\"text\": \"Time [h]\"}, \"matches\": \"x\"}, \"annotations\": [{\"showarrow\": false, \"text\": \"Bottle=B\", \"textangle\": 0, \"x\": 0.23684210526315788, \"xanchor\": \"center\", \"xref\": \"paper\", \"y\": 1.02, \"yanchor\": \"middle\", \"yref\": \"paper\"}, {\"showarrow\": false, \"text\": \"Bottle=F\", \"textangle\": 0, \"x\": 0.763157894736842, \"xanchor\": \"center\", \"xref\": \"paper\", \"y\": 1.02, \"yanchor\": \"middle\", \"yref\": \"paper\"}], \"xaxis\": {\"title\": {\"text\": \"Time [h]\"}}, \"yaxis\": {\"title\": {\"text\": \"Concentration [g/L]\"}}}, {\"showLink\": false, \"linkText\": \"Export to plot.ly\", \"plotlyServerURL\": \"https://plot.ly\"}); \n",
       "}\n",
       "});</script><script type=\"text/javascript\">window.addEventListener(\"resize\", function(){if (document.getElementById(\"13ff2b3b-bee4-4548-bdc9-7a09b6ac3b0a\")) {window._Plotly.Plots.resize(document.getElementById(\"13ff2b3b-bee4-4548-bdc9-7a09b6ac3b0a\"));};})</script>"
      ]
     },
     "metadata": {},
     "output_type": "display_data"
    }
   ],
   "source": [
    "fig = px.scatter(\n",
    "    gc_vs_assays.reset_index(\n",
    "    ).pipe(\n",
    "        lambda df: df[(df.Quality == \"Acetate\") & (df.Unit == \"g/L\")]\n",
    "    ), \n",
    "    x=\"Time\",\n",
    "    y=\"Value\",\n",
    "    color=\"Method\",\n",
    "    facet_col=\"Bottle\",\n",
    "    template=\"plotly_white\",\n",
    "    labels={\n",
    "        \"Time\": \"Time [h]\",\n",
    "        \"Value\": \"Concentration [g/L]\",\n",
    "        \"Quality\": \"Compound\"\n",
    "    }\n",
    ")\n",
    "\n",
    "pio.write_image(fig, str(results_path / 'assay-gc-correlation_ac.svg'))\n",
    "fig"
   ]
  },
  {
   "cell_type": "markdown",
   "metadata": {},
   "source": [
    "## Correlation between GC and Assays for Ethanol (multi-scatter)"
   ]
  },
  {
   "cell_type": "code",
   "execution_count": 130,
   "metadata": {
    "scrolled": false
   },
   "outputs": [
    {
     "data": {
      "application/vnd.plotly.v1+json": {
       "config": {
        "linkText": "Export to plot.ly",
        "plotlyServerURL": "https://plot.ly",
        "showLink": false
       },
       "data": [
        {
         "hovertemplate": "Bottle=B<br>Method=Enzymatic Assay<br>Time [h]=%{x}<br>Concentration [g/L]=%{y}<extra></extra>",
         "legendgroup": "Method=Enzymatic Assay",
         "marker": {
          "color": "#636efa",
          "symbol": "circle"
         },
         "mode": "markers",
         "name": "Method=Enzymatic Assay",
         "showlegend": true,
         "type": "scatter",
         "uid": "95e5594d-e936-49f0-82c2-df2bf4e54161",
         "x": [
          0,
          23.5,
          47.25,
          70.5,
          94.5,
          166.5
         ],
         "xaxis": "x",
         "y": [
          0.142816508,
          0.08983619,
          0.172761905,
          0.101353651,
          0.267205079,
          0.158940952
         ],
         "yaxis": "y"
        },
        {
         "hovertemplate": "Bottle=B<br>Method=GC<br>Time [h]=%{x}<br>Concentration [g/L]=%{y}<extra></extra>",
         "legendgroup": "Method=GC",
         "marker": {
          "color": "#EF553B",
          "symbol": "circle"
         },
         "mode": "markers",
         "name": "Method=GC",
         "showlegend": true,
         "type": "scatter",
         "uid": "af7b8f91-d020-436a-8921-96807277ab2b",
         "x": [
          0,
          23.5,
          47.25,
          70.5,
          94.5,
          166.5
         ],
         "xaxis": "x",
         "y": [
          0.11990182149465335,
          0.05171988151379342,
          0.083443066805337,
          0.06366839193031767,
          0.22730462459760825,
          0.14692216448619227
         ],
         "yaxis": "y"
        },
        {
         "hovertemplate": "Bottle=F<br>Method=Enzymatic Assay<br>Time [h]=%{x}<br>Concentration [g/L]=%{y}<extra></extra>",
         "legendgroup": "Method=Enzymatic Assay",
         "marker": {
          "color": "#636efa",
          "symbol": "circle"
         },
         "mode": "markers",
         "name": "Method=Enzymatic Assay",
         "showlegend": false,
         "type": "scatter",
         "uid": "296eede8-1d9c-4585-8d81-74b541bff348",
         "x": [
          0,
          23.75,
          47.5,
          70.5,
          94.5,
          166.5
         ],
         "xaxis": "x2",
         "y": [
          0.474519365,
          0.287936508,
          0.018427937,
          0.050676825,
          0.07831873,
          0.06680127
         ],
         "yaxis": "y"
        },
        {
         "hovertemplate": "Bottle=F<br>Method=GC<br>Time [h]=%{x}<br>Concentration [g/L]=%{y}<extra></extra>",
         "legendgroup": "Method=GC",
         "marker": {
          "color": "#EF553B",
          "symbol": "circle"
         },
         "mode": "markers",
         "name": "Method=GC",
         "showlegend": false,
         "type": "scatter",
         "uid": "9a1d3deb-21ab-41ea-896d-300a5d80c2e8",
         "x": [
          0,
          23.75,
          47.5,
          70.5,
          94.5,
          166.5
         ],
         "xaxis": "x2",
         "y": [
          0.4116247856307551,
          0.16670698259094108,
          0.019110602359246547,
          0.05055619505045071,
          0.045686260235786584,
          0.02327379977863474
         ],
         "yaxis": "y"
        }
       ],
       "layout": {
        "annotations": [
         {
          "showarrow": false,
          "text": "Bottle=B",
          "textangle": 0,
          "x": 0.23684210526315788,
          "xanchor": "center",
          "xref": "paper",
          "y": 1.02,
          "yanchor": "middle",
          "yref": "paper"
         },
         {
          "showarrow": false,
          "text": "Bottle=F",
          "textangle": 0,
          "x": 0.763157894736842,
          "xanchor": "center",
          "xref": "paper",
          "y": 1.02,
          "yanchor": "middle",
          "yref": "paper"
         }
        ],
        "grid": {
         "xaxes": [
          "x",
          "x2"
         ],
         "xgap": 0.1,
         "xside": "bottom",
         "yaxes": [
          "y"
         ],
         "ygap": 0.1,
         "yside": "left"
        },
        "height": 600,
        "legend": {
         "tracegroupgap": 0
        },
        "margin": {
         "t": 60
        },
        "template": {
         "data": {
          "bar": [
           {
            "marker": {
             "line": {
              "color": "white",
              "width": 0.5
             }
            },
            "type": "bar"
           }
          ],
          "barpolar": [
           {
            "marker": {
             "line": {
              "color": "white",
              "width": 0.5
             }
            },
            "type": "barpolar"
           }
          ],
          "carpet": [
           {
            "aaxis": {
             "endlinecolor": "#2a3f5f",
             "gridcolor": "#C8D4E3",
             "linecolor": "#C8D4E3",
             "minorgridcolor": "#C8D4E3",
             "startlinecolor": "#2a3f5f"
            },
            "baxis": {
             "endlinecolor": "#2a3f5f",
             "gridcolor": "#C8D4E3",
             "linecolor": "#C8D4E3",
             "minorgridcolor": "#C8D4E3",
             "startlinecolor": "#2a3f5f"
            },
            "type": "carpet"
           }
          ],
          "choropleth": [
           {
            "colorbar": {
             "outlinewidth": 0,
             "ticks": ""
            },
            "type": "choropleth"
           }
          ],
          "contour": [
           {
            "autocolorscale": true,
            "colorbar": {
             "outlinewidth": 0,
             "ticks": ""
            },
            "type": "contour"
           }
          ],
          "contourcarpet": [
           {
            "colorbar": {
             "outlinewidth": 0,
             "ticks": ""
            },
            "type": "contourcarpet"
           }
          ],
          "heatmap": [
           {
            "autocolorscale": true,
            "colorbar": {
             "outlinewidth": 0,
             "ticks": ""
            },
            "type": "heatmap"
           }
          ],
          "heatmapgl": [
           {
            "colorbar": {
             "outlinewidth": 0,
             "ticks": ""
            },
            "type": "heatmapgl"
           }
          ],
          "histogram": [
           {
            "marker": {
             "colorbar": {
              "outlinewidth": 0,
              "ticks": ""
             }
            },
            "type": "histogram"
           }
          ],
          "histogram2d": [
           {
            "autocolorscale": true,
            "colorbar": {
             "outlinewidth": 0,
             "ticks": ""
            },
            "type": "histogram2d"
           }
          ],
          "histogram2dcontour": [
           {
            "autocolorscale": true,
            "colorbar": {
             "outlinewidth": 0,
             "ticks": ""
            },
            "type": "histogram2dcontour"
           }
          ],
          "mesh3d": [
           {
            "colorbar": {
             "outlinewidth": 0,
             "ticks": ""
            },
            "type": "mesh3d"
           }
          ],
          "parcoords": [
           {
            "line": {
             "colorbar": {
              "outlinewidth": 0,
              "ticks": ""
             }
            },
            "type": "parcoords"
           }
          ],
          "scatter": [
           {
            "marker": {
             "colorbar": {
              "outlinewidth": 0,
              "ticks": ""
             }
            },
            "type": "scatter"
           }
          ],
          "scatter3d": [
           {
            "marker": {
             "colorbar": {
              "outlinewidth": 0,
              "ticks": ""
             }
            },
            "type": "scatter3d"
           }
          ],
          "scattercarpet": [
           {
            "marker": {
             "colorbar": {
              "outlinewidth": 0,
              "ticks": ""
             }
            },
            "type": "scattercarpet"
           }
          ],
          "scattergeo": [
           {
            "marker": {
             "colorbar": {
              "outlinewidth": 0,
              "ticks": ""
             }
            },
            "type": "scattergeo"
           }
          ],
          "scattergl": [
           {
            "marker": {
             "colorbar": {
              "outlinewidth": 0,
              "ticks": ""
             }
            },
            "type": "scattergl"
           }
          ],
          "scattermapbox": [
           {
            "marker": {
             "colorbar": {
              "outlinewidth": 0,
              "ticks": ""
             }
            },
            "type": "scattermapbox"
           }
          ],
          "scatterpolar": [
           {
            "marker": {
             "colorbar": {
              "outlinewidth": 0,
              "ticks": ""
             }
            },
            "type": "scatterpolar"
           }
          ],
          "scatterpolargl": [
           {
            "marker": {
             "colorbar": {
              "outlinewidth": 0,
              "ticks": ""
             }
            },
            "type": "scatterpolargl"
           }
          ],
          "scatterternary": [
           {
            "marker": {
             "colorbar": {
              "outlinewidth": 0,
              "ticks": ""
             }
            },
            "type": "scatterternary"
           }
          ],
          "surface": [
           {
            "colorbar": {
             "outlinewidth": 0,
             "ticks": ""
            },
            "type": "surface"
           }
          ],
          "table": [
           {
            "cells": {
             "fill": {
              "color": "#EBF0F8"
             },
             "line": {
              "color": "white"
             }
            },
            "header": {
             "fill": {
              "color": "#C8D4E3"
             },
             "line": {
              "color": "white"
             }
            },
            "type": "table"
           }
          ]
         },
         "layout": {
          "annotationdefaults": {
           "arrowcolor": "#506784",
           "arrowhead": 0,
           "arrowwidth": 1
          },
          "colorscale": {
           "diverging": [
            [
             0,
             "#8e0152"
            ],
            [
             0.1,
             "#c51b7d"
            ],
            [
             0.2,
             "#de77ae"
            ],
            [
             0.3,
             "#f1b6da"
            ],
            [
             0.4,
             "#fde0ef"
            ],
            [
             0.5,
             "#f7f7f7"
            ],
            [
             0.6,
             "#e6f5d0"
            ],
            [
             0.7,
             "#b8e186"
            ],
            [
             0.8,
             "#7fbc41"
            ],
            [
             0.9,
             "#4d9221"
            ],
            [
             1,
             "#276419"
            ]
           ],
           "sequential": [
            [
             0,
             "#0508b8"
            ],
            [
             0.0893854748603352,
             "#1910d8"
            ],
            [
             0.1787709497206704,
             "#3c19f0"
            ],
            [
             0.2681564245810056,
             "#6b1cfb"
            ],
            [
             0.3575418994413408,
             "#981cfd"
            ],
            [
             0.44692737430167595,
             "#bf1cfd"
            ],
            [
             0.5363128491620112,
             "#dd2bfd"
            ],
            [
             0.6256983240223464,
             "#f246fe"
            ],
            [
             0.7150837988826816,
             "#fc67fd"
            ],
            [
             0.8044692737430168,
             "#fe88fc"
            ],
            [
             0.8938547486033519,
             "#fea5fd"
            ],
            [
             0.9832402234636871,
             "#febefe"
            ],
            [
             1,
             "#fec3fe"
            ]
           ],
           "sequentialminus": [
            [
             0,
             "#0508b8"
            ],
            [
             0.0893854748603352,
             "#1910d8"
            ],
            [
             0.1787709497206704,
             "#3c19f0"
            ],
            [
             0.2681564245810056,
             "#6b1cfb"
            ],
            [
             0.3575418994413408,
             "#981cfd"
            ],
            [
             0.44692737430167595,
             "#bf1cfd"
            ],
            [
             0.5363128491620112,
             "#dd2bfd"
            ],
            [
             0.6256983240223464,
             "#f246fe"
            ],
            [
             0.7150837988826816,
             "#fc67fd"
            ],
            [
             0.8044692737430168,
             "#fe88fc"
            ],
            [
             0.8938547486033519,
             "#fea5fd"
            ],
            [
             0.9832402234636871,
             "#febefe"
            ],
            [
             1,
             "#fec3fe"
            ]
           ]
          },
          "colorway": [
           "#636efa",
           "#EF553B",
           "#00cc96",
           "#ab63fa",
           "#19d3f3",
           "#e763fa",
           "#FECB52",
           "#FFA15A",
           "#FF6692",
           "#B6E880"
          ],
          "font": {
           "color": "#2a3f5f"
          },
          "geo": {
           "bgcolor": "white",
           "lakecolor": "white",
           "landcolor": "white",
           "showlakes": true,
           "showland": true,
           "subunitcolor": "#C8D4E3"
          },
          "hovermode": "closest",
          "mapbox": {
           "style": "light"
          },
          "paper_bgcolor": "white",
          "plot_bgcolor": "white",
          "polar": {
           "angularaxis": {
            "gridcolor": "#EBF0F8",
            "linecolor": "#EBF0F8",
            "ticks": ""
           },
           "bgcolor": "white",
           "radialaxis": {
            "gridcolor": "#EBF0F8",
            "linecolor": "#EBF0F8",
            "ticks": ""
           }
          },
          "scene": {
           "xaxis": {
            "backgroundcolor": "white",
            "gridcolor": "#DFE8F3",
            "gridwidth": 2,
            "linecolor": "#EBF0F8",
            "showbackground": true,
            "ticks": "",
            "zerolinecolor": "#EBF0F8"
           },
           "yaxis": {
            "backgroundcolor": "white",
            "gridcolor": "#DFE8F3",
            "gridwidth": 2,
            "linecolor": "#EBF0F8",
            "showbackground": true,
            "ticks": "",
            "zerolinecolor": "#EBF0F8"
           },
           "zaxis": {
            "backgroundcolor": "white",
            "gridcolor": "#DFE8F3",
            "gridwidth": 2,
            "linecolor": "#EBF0F8",
            "showbackground": true,
            "ticks": "",
            "zerolinecolor": "#EBF0F8"
           }
          },
          "shapedefaults": {
           "fillcolor": "#506784",
           "line": {
            "width": 0
           },
           "opacity": 0.4
          },
          "ternary": {
           "aaxis": {
            "gridcolor": "#DFE8F3",
            "linecolor": "#A2B1C6",
            "ticks": ""
           },
           "baxis": {
            "gridcolor": "#DFE8F3",
            "linecolor": "#A2B1C6",
            "ticks": ""
           },
           "bgcolor": "white",
           "caxis": {
            "gridcolor": "#DFE8F3",
            "linecolor": "#A2B1C6",
            "ticks": ""
           }
          },
          "title": {
           "x": 0.05
          },
          "xaxis": {
           "automargin": true,
           "gridcolor": "#EBF0F8",
           "linecolor": "#EBF0F8",
           "ticks": "",
           "zerolinecolor": "#EBF0F8",
           "zerolinewidth": 2
          },
          "yaxis": {
           "automargin": true,
           "gridcolor": "#EBF0F8",
           "linecolor": "#EBF0F8",
           "ticks": "",
           "zerolinecolor": "#EBF0F8",
           "zerolinewidth": 2
          }
         }
        },
        "xaxis": {
         "title": {
          "text": "Time [h]"
         }
        },
        "xaxis2": {
         "matches": "x",
         "title": {
          "text": "Time [h]"
         }
        },
        "yaxis": {
         "title": {
          "text": "Concentration [g/L]"
         }
        }
       }
      },
      "text/html": [
       "<div id=\"96dce07a-50ee-4a6e-a0b7-4b0b9dddae1a\" style=\"height: 600px; width: 100%;\" class=\"plotly-graph-div\"></div><script type=\"text/javascript\">require([\"plotly\"], function(Plotly) { window.PLOTLYENV=window.PLOTLYENV || {};window.PLOTLYENV.BASE_URL=\"https://plot.ly\";\n",
       "if (document.getElementById(\"96dce07a-50ee-4a6e-a0b7-4b0b9dddae1a\")) {\n",
       "    Plotly.newPlot(\"96dce07a-50ee-4a6e-a0b7-4b0b9dddae1a\", [{\"hovertemplate\": \"Bottle=B<br>Method=Enzymatic Assay<br>Time [h]=%{x}<br>Concentration [g/L]=%{y}<extra></extra>\", \"legendgroup\": \"Method=Enzymatic Assay\", \"marker\": {\"color\": \"#636efa\", \"symbol\": \"circle\"}, \"mode\": \"markers\", \"name\": \"Method=Enzymatic Assay\", \"showlegend\": true, \"x\": [0.0, 23.5, 47.25, 70.5, 94.5, 166.5], \"xaxis\": \"x\", \"y\": [0.142816508, 0.08983619, 0.172761905, 0.101353651, 0.267205079, 0.158940952], \"yaxis\": \"y\", \"type\": \"scatter\", \"uid\": \"95e5594d-e936-49f0-82c2-df2bf4e54161\"}, {\"hovertemplate\": \"Bottle=B<br>Method=GC<br>Time [h]=%{x}<br>Concentration [g/L]=%{y}<extra></extra>\", \"legendgroup\": \"Method=GC\", \"marker\": {\"color\": \"#EF553B\", \"symbol\": \"circle\"}, \"mode\": \"markers\", \"name\": \"Method=GC\", \"showlegend\": true, \"x\": [0.0, 23.5, 47.25, 70.5, 94.5, 166.5], \"xaxis\": \"x\", \"y\": [0.11990182149465335, 0.05171988151379342, 0.083443066805337, 0.06366839193031767, 0.22730462459760825, 0.14692216448619227], \"yaxis\": \"y\", \"type\": \"scatter\", \"uid\": \"af7b8f91-d020-436a-8921-96807277ab2b\"}, {\"hovertemplate\": \"Bottle=F<br>Method=Enzymatic Assay<br>Time [h]=%{x}<br>Concentration [g/L]=%{y}<extra></extra>\", \"legendgroup\": \"Method=Enzymatic Assay\", \"marker\": {\"color\": \"#636efa\", \"symbol\": \"circle\"}, \"mode\": \"markers\", \"name\": \"Method=Enzymatic Assay\", \"showlegend\": false, \"x\": [0.0, 23.75, 47.5, 70.5, 94.5, 166.5], \"xaxis\": \"x2\", \"y\": [0.474519365, 0.287936508, 0.018427937, 0.050676825, 0.07831873, 0.06680127], \"yaxis\": \"y\", \"type\": \"scatter\", \"uid\": \"296eede8-1d9c-4585-8d81-74b541bff348\"}, {\"hovertemplate\": \"Bottle=F<br>Method=GC<br>Time [h]=%{x}<br>Concentration [g/L]=%{y}<extra></extra>\", \"legendgroup\": \"Method=GC\", \"marker\": {\"color\": \"#EF553B\", \"symbol\": \"circle\"}, \"mode\": \"markers\", \"name\": \"Method=GC\", \"showlegend\": false, \"x\": [0.0, 23.75, 47.5, 70.5, 94.5, 166.5], \"xaxis\": \"x2\", \"y\": [0.4116247856307551, 0.16670698259094108, 0.019110602359246547, 0.05055619505045071, 0.045686260235786584, 0.02327379977863474], \"yaxis\": \"y\", \"type\": \"scatter\", \"uid\": \"9a1d3deb-21ab-41ea-896d-300a5d80c2e8\"}], {\"height\": 600, \"legend\": {\"tracegroupgap\": 0}, \"margin\": {\"t\": 60}, \"template\": {\"data\": {\"barpolar\": [{\"marker\": {\"line\": {\"color\": \"white\", \"width\": 0.5}}, \"type\": \"barpolar\"}], \"bar\": [{\"marker\": {\"line\": {\"color\": \"white\", \"width\": 0.5}}, \"type\": \"bar\"}], \"carpet\": [{\"aaxis\": {\"endlinecolor\": \"#2a3f5f\", \"gridcolor\": \"#C8D4E3\", \"linecolor\": \"#C8D4E3\", \"minorgridcolor\": \"#C8D4E3\", \"startlinecolor\": \"#2a3f5f\"}, \"baxis\": {\"endlinecolor\": \"#2a3f5f\", \"gridcolor\": \"#C8D4E3\", \"linecolor\": \"#C8D4E3\", \"minorgridcolor\": \"#C8D4E3\", \"startlinecolor\": \"#2a3f5f\"}, \"type\": \"carpet\"}], \"choropleth\": [{\"colorbar\": {\"outlinewidth\": 0, \"ticks\": \"\"}, \"type\": \"choropleth\"}], \"contourcarpet\": [{\"colorbar\": {\"outlinewidth\": 0, \"ticks\": \"\"}, \"type\": \"contourcarpet\"}], \"contour\": [{\"autocolorscale\": true, \"colorbar\": {\"outlinewidth\": 0, \"ticks\": \"\"}, \"type\": \"contour\"}], \"heatmapgl\": [{\"colorbar\": {\"outlinewidth\": 0, \"ticks\": \"\"}, \"type\": \"heatmapgl\"}], \"heatmap\": [{\"autocolorscale\": true, \"colorbar\": {\"outlinewidth\": 0, \"ticks\": \"\"}, \"type\": \"heatmap\"}], \"histogram2dcontour\": [{\"autocolorscale\": true, \"colorbar\": {\"outlinewidth\": 0, \"ticks\": \"\"}, \"type\": \"histogram2dcontour\"}], \"histogram2d\": [{\"autocolorscale\": true, \"colorbar\": {\"outlinewidth\": 0, \"ticks\": \"\"}, \"type\": \"histogram2d\"}], \"histogram\": [{\"marker\": {\"colorbar\": {\"outlinewidth\": 0, \"ticks\": \"\"}}, \"type\": \"histogram\"}], \"mesh3d\": [{\"colorbar\": {\"outlinewidth\": 0, \"ticks\": \"\"}, \"type\": \"mesh3d\"}], \"parcoords\": [{\"line\": {\"colorbar\": {\"outlinewidth\": 0, \"ticks\": \"\"}}, \"type\": \"parcoords\"}], \"scatter3d\": [{\"marker\": {\"colorbar\": {\"outlinewidth\": 0, \"ticks\": \"\"}}, \"type\": \"scatter3d\"}], \"scattercarpet\": [{\"marker\": {\"colorbar\": {\"outlinewidth\": 0, \"ticks\": \"\"}}, \"type\": \"scattercarpet\"}], \"scattergeo\": [{\"marker\": {\"colorbar\": {\"outlinewidth\": 0, \"ticks\": \"\"}}, \"type\": \"scattergeo\"}], \"scattergl\": [{\"marker\": {\"colorbar\": {\"outlinewidth\": 0, \"ticks\": \"\"}}, \"type\": \"scattergl\"}], \"scattermapbox\": [{\"marker\": {\"colorbar\": {\"outlinewidth\": 0, \"ticks\": \"\"}}, \"type\": \"scattermapbox\"}], \"scatterpolargl\": [{\"marker\": {\"colorbar\": {\"outlinewidth\": 0, \"ticks\": \"\"}}, \"type\": \"scatterpolargl\"}], \"scatterpolar\": [{\"marker\": {\"colorbar\": {\"outlinewidth\": 0, \"ticks\": \"\"}}, \"type\": \"scatterpolar\"}], \"scatter\": [{\"marker\": {\"colorbar\": {\"outlinewidth\": 0, \"ticks\": \"\"}}, \"type\": \"scatter\"}], \"scatterternary\": [{\"marker\": {\"colorbar\": {\"outlinewidth\": 0, \"ticks\": \"\"}}, \"type\": \"scatterternary\"}], \"surface\": [{\"colorbar\": {\"outlinewidth\": 0, \"ticks\": \"\"}, \"type\": \"surface\"}], \"table\": [{\"cells\": {\"fill\": {\"color\": \"#EBF0F8\"}, \"line\": {\"color\": \"white\"}}, \"header\": {\"fill\": {\"color\": \"#C8D4E3\"}, \"line\": {\"color\": \"white\"}}, \"type\": \"table\"}]}, \"layout\": {\"annotationdefaults\": {\"arrowcolor\": \"#506784\", \"arrowhead\": 0, \"arrowwidth\": 1}, \"colorscale\": {\"diverging\": [[0, \"#8e0152\"], [0.1, \"#c51b7d\"], [0.2, \"#de77ae\"], [0.3, \"#f1b6da\"], [0.4, \"#fde0ef\"], [0.5, \"#f7f7f7\"], [0.6, \"#e6f5d0\"], [0.7, \"#b8e186\"], [0.8, \"#7fbc41\"], [0.9, \"#4d9221\"], [1, \"#276419\"]], \"sequential\": [[0.0, \"#0508b8\"], [0.0893854748603352, \"#1910d8\"], [0.1787709497206704, \"#3c19f0\"], [0.2681564245810056, \"#6b1cfb\"], [0.3575418994413408, \"#981cfd\"], [0.44692737430167595, \"#bf1cfd\"], [0.5363128491620112, \"#dd2bfd\"], [0.6256983240223464, \"#f246fe\"], [0.7150837988826816, \"#fc67fd\"], [0.8044692737430168, \"#fe88fc\"], [0.8938547486033519, \"#fea5fd\"], [0.9832402234636871, \"#febefe\"], [1.0, \"#fec3fe\"]], \"sequentialminus\": [[0.0, \"#0508b8\"], [0.0893854748603352, \"#1910d8\"], [0.1787709497206704, \"#3c19f0\"], [0.2681564245810056, \"#6b1cfb\"], [0.3575418994413408, \"#981cfd\"], [0.44692737430167595, \"#bf1cfd\"], [0.5363128491620112, \"#dd2bfd\"], [0.6256983240223464, \"#f246fe\"], [0.7150837988826816, \"#fc67fd\"], [0.8044692737430168, \"#fe88fc\"], [0.8938547486033519, \"#fea5fd\"], [0.9832402234636871, \"#febefe\"], [1.0, \"#fec3fe\"]]}, \"colorway\": [\"#636efa\", \"#EF553B\", \"#00cc96\", \"#ab63fa\", \"#19d3f3\", \"#e763fa\", \"#FECB52\", \"#FFA15A\", \"#FF6692\", \"#B6E880\"], \"font\": {\"color\": \"#2a3f5f\"}, \"geo\": {\"bgcolor\": \"white\", \"lakecolor\": \"white\", \"landcolor\": \"white\", \"showlakes\": true, \"showland\": true, \"subunitcolor\": \"#C8D4E3\"}, \"hovermode\": \"closest\", \"mapbox\": {\"style\": \"light\"}, \"paper_bgcolor\": \"white\", \"plot_bgcolor\": \"white\", \"polar\": {\"angularaxis\": {\"gridcolor\": \"#EBF0F8\", \"linecolor\": \"#EBF0F8\", \"ticks\": \"\"}, \"bgcolor\": \"white\", \"radialaxis\": {\"gridcolor\": \"#EBF0F8\", \"linecolor\": \"#EBF0F8\", \"ticks\": \"\"}}, \"scene\": {\"xaxis\": {\"backgroundcolor\": \"white\", \"gridcolor\": \"#DFE8F3\", \"gridwidth\": 2, \"linecolor\": \"#EBF0F8\", \"showbackground\": true, \"ticks\": \"\", \"zerolinecolor\": \"#EBF0F8\"}, \"yaxis\": {\"backgroundcolor\": \"white\", \"gridcolor\": \"#DFE8F3\", \"gridwidth\": 2, \"linecolor\": \"#EBF0F8\", \"showbackground\": true, \"ticks\": \"\", \"zerolinecolor\": \"#EBF0F8\"}, \"zaxis\": {\"backgroundcolor\": \"white\", \"gridcolor\": \"#DFE8F3\", \"gridwidth\": 2, \"linecolor\": \"#EBF0F8\", \"showbackground\": true, \"ticks\": \"\", \"zerolinecolor\": \"#EBF0F8\"}}, \"shapedefaults\": {\"fillcolor\": \"#506784\", \"line\": {\"width\": 0}, \"opacity\": 0.4}, \"ternary\": {\"aaxis\": {\"gridcolor\": \"#DFE8F3\", \"linecolor\": \"#A2B1C6\", \"ticks\": \"\"}, \"baxis\": {\"gridcolor\": \"#DFE8F3\", \"linecolor\": \"#A2B1C6\", \"ticks\": \"\"}, \"bgcolor\": \"white\", \"caxis\": {\"gridcolor\": \"#DFE8F3\", \"linecolor\": \"#A2B1C6\", \"ticks\": \"\"}}, \"title\": {\"x\": 0.05}, \"xaxis\": {\"automargin\": true, \"gridcolor\": \"#EBF0F8\", \"linecolor\": \"#EBF0F8\", \"ticks\": \"\", \"zerolinecolor\": \"#EBF0F8\", \"zerolinewidth\": 2}, \"yaxis\": {\"automargin\": true, \"gridcolor\": \"#EBF0F8\", \"linecolor\": \"#EBF0F8\", \"ticks\": \"\", \"zerolinecolor\": \"#EBF0F8\", \"zerolinewidth\": 2}}}, \"grid\": {\"xaxes\": [\"x\", \"x2\"], \"yaxes\": [\"y\"], \"xgap\": 0.1, \"ygap\": 0.1, \"xside\": \"bottom\", \"yside\": \"left\"}, \"xaxis2\": {\"title\": {\"text\": \"Time [h]\"}, \"matches\": \"x\"}, \"annotations\": [{\"showarrow\": false, \"text\": \"Bottle=B\", \"textangle\": 0, \"x\": 0.23684210526315788, \"xanchor\": \"center\", \"xref\": \"paper\", \"y\": 1.02, \"yanchor\": \"middle\", \"yref\": \"paper\"}, {\"showarrow\": false, \"text\": \"Bottle=F\", \"textangle\": 0, \"x\": 0.763157894736842, \"xanchor\": \"center\", \"xref\": \"paper\", \"y\": 1.02, \"yanchor\": \"middle\", \"yref\": \"paper\"}], \"xaxis\": {\"title\": {\"text\": \"Time [h]\"}}, \"yaxis\": {\"title\": {\"text\": \"Concentration [g/L]\"}}}, {\"showLink\": false, \"linkText\": \"Export to plot.ly\", \"plotlyServerURL\": \"https://plot.ly\"}); \n",
       "}\n",
       "});</script><script type=\"text/javascript\">window.addEventListener(\"resize\", function(){if (document.getElementById(\"96dce07a-50ee-4a6e-a0b7-4b0b9dddae1a\")) {window._Plotly.Plots.resize(document.getElementById(\"96dce07a-50ee-4a6e-a0b7-4b0b9dddae1a\"));};})</script>"
      ],
      "text/vnd.plotly.v1+html": [
       "<div id=\"96dce07a-50ee-4a6e-a0b7-4b0b9dddae1a\" style=\"height: 600px; width: 100%;\" class=\"plotly-graph-div\"></div><script type=\"text/javascript\">require([\"plotly\"], function(Plotly) { window.PLOTLYENV=window.PLOTLYENV || {};window.PLOTLYENV.BASE_URL=\"https://plot.ly\";\n",
       "if (document.getElementById(\"96dce07a-50ee-4a6e-a0b7-4b0b9dddae1a\")) {\n",
       "    Plotly.newPlot(\"96dce07a-50ee-4a6e-a0b7-4b0b9dddae1a\", [{\"hovertemplate\": \"Bottle=B<br>Method=Enzymatic Assay<br>Time [h]=%{x}<br>Concentration [g/L]=%{y}<extra></extra>\", \"legendgroup\": \"Method=Enzymatic Assay\", \"marker\": {\"color\": \"#636efa\", \"symbol\": \"circle\"}, \"mode\": \"markers\", \"name\": \"Method=Enzymatic Assay\", \"showlegend\": true, \"x\": [0.0, 23.5, 47.25, 70.5, 94.5, 166.5], \"xaxis\": \"x\", \"y\": [0.142816508, 0.08983619, 0.172761905, 0.101353651, 0.267205079, 0.158940952], \"yaxis\": \"y\", \"type\": \"scatter\", \"uid\": \"95e5594d-e936-49f0-82c2-df2bf4e54161\"}, {\"hovertemplate\": \"Bottle=B<br>Method=GC<br>Time [h]=%{x}<br>Concentration [g/L]=%{y}<extra></extra>\", \"legendgroup\": \"Method=GC\", \"marker\": {\"color\": \"#EF553B\", \"symbol\": \"circle\"}, \"mode\": \"markers\", \"name\": \"Method=GC\", \"showlegend\": true, \"x\": [0.0, 23.5, 47.25, 70.5, 94.5, 166.5], \"xaxis\": \"x\", \"y\": [0.11990182149465335, 0.05171988151379342, 0.083443066805337, 0.06366839193031767, 0.22730462459760825, 0.14692216448619227], \"yaxis\": \"y\", \"type\": \"scatter\", \"uid\": \"af7b8f91-d020-436a-8921-96807277ab2b\"}, {\"hovertemplate\": \"Bottle=F<br>Method=Enzymatic Assay<br>Time [h]=%{x}<br>Concentration [g/L]=%{y}<extra></extra>\", \"legendgroup\": \"Method=Enzymatic Assay\", \"marker\": {\"color\": \"#636efa\", \"symbol\": \"circle\"}, \"mode\": \"markers\", \"name\": \"Method=Enzymatic Assay\", \"showlegend\": false, \"x\": [0.0, 23.75, 47.5, 70.5, 94.5, 166.5], \"xaxis\": \"x2\", \"y\": [0.474519365, 0.287936508, 0.018427937, 0.050676825, 0.07831873, 0.06680127], \"yaxis\": \"y\", \"type\": \"scatter\", \"uid\": \"296eede8-1d9c-4585-8d81-74b541bff348\"}, {\"hovertemplate\": \"Bottle=F<br>Method=GC<br>Time [h]=%{x}<br>Concentration [g/L]=%{y}<extra></extra>\", \"legendgroup\": \"Method=GC\", \"marker\": {\"color\": \"#EF553B\", \"symbol\": \"circle\"}, \"mode\": \"markers\", \"name\": \"Method=GC\", \"showlegend\": false, \"x\": [0.0, 23.75, 47.5, 70.5, 94.5, 166.5], \"xaxis\": \"x2\", \"y\": [0.4116247856307551, 0.16670698259094108, 0.019110602359246547, 0.05055619505045071, 0.045686260235786584, 0.02327379977863474], \"yaxis\": \"y\", \"type\": \"scatter\", \"uid\": \"9a1d3deb-21ab-41ea-896d-300a5d80c2e8\"}], {\"height\": 600, \"legend\": {\"tracegroupgap\": 0}, \"margin\": {\"t\": 60}, \"template\": {\"data\": {\"barpolar\": [{\"marker\": {\"line\": {\"color\": \"white\", \"width\": 0.5}}, \"type\": \"barpolar\"}], \"bar\": [{\"marker\": {\"line\": {\"color\": \"white\", \"width\": 0.5}}, \"type\": \"bar\"}], \"carpet\": [{\"aaxis\": {\"endlinecolor\": \"#2a3f5f\", \"gridcolor\": \"#C8D4E3\", \"linecolor\": \"#C8D4E3\", \"minorgridcolor\": \"#C8D4E3\", \"startlinecolor\": \"#2a3f5f\"}, \"baxis\": {\"endlinecolor\": \"#2a3f5f\", \"gridcolor\": \"#C8D4E3\", \"linecolor\": \"#C8D4E3\", \"minorgridcolor\": \"#C8D4E3\", \"startlinecolor\": \"#2a3f5f\"}, \"type\": \"carpet\"}], \"choropleth\": [{\"colorbar\": {\"outlinewidth\": 0, \"ticks\": \"\"}, \"type\": \"choropleth\"}], \"contourcarpet\": [{\"colorbar\": {\"outlinewidth\": 0, \"ticks\": \"\"}, \"type\": \"contourcarpet\"}], \"contour\": [{\"autocolorscale\": true, \"colorbar\": {\"outlinewidth\": 0, \"ticks\": \"\"}, \"type\": \"contour\"}], \"heatmapgl\": [{\"colorbar\": {\"outlinewidth\": 0, \"ticks\": \"\"}, \"type\": \"heatmapgl\"}], \"heatmap\": [{\"autocolorscale\": true, \"colorbar\": {\"outlinewidth\": 0, \"ticks\": \"\"}, \"type\": \"heatmap\"}], \"histogram2dcontour\": [{\"autocolorscale\": true, \"colorbar\": {\"outlinewidth\": 0, \"ticks\": \"\"}, \"type\": \"histogram2dcontour\"}], \"histogram2d\": [{\"autocolorscale\": true, \"colorbar\": {\"outlinewidth\": 0, \"ticks\": \"\"}, \"type\": \"histogram2d\"}], \"histogram\": [{\"marker\": {\"colorbar\": {\"outlinewidth\": 0, \"ticks\": \"\"}}, \"type\": \"histogram\"}], \"mesh3d\": [{\"colorbar\": {\"outlinewidth\": 0, \"ticks\": \"\"}, \"type\": \"mesh3d\"}], \"parcoords\": [{\"line\": {\"colorbar\": {\"outlinewidth\": 0, \"ticks\": \"\"}}, \"type\": \"parcoords\"}], \"scatter3d\": [{\"marker\": {\"colorbar\": {\"outlinewidth\": 0, \"ticks\": \"\"}}, \"type\": \"scatter3d\"}], \"scattercarpet\": [{\"marker\": {\"colorbar\": {\"outlinewidth\": 0, \"ticks\": \"\"}}, \"type\": \"scattercarpet\"}], \"scattergeo\": [{\"marker\": {\"colorbar\": {\"outlinewidth\": 0, \"ticks\": \"\"}}, \"type\": \"scattergeo\"}], \"scattergl\": [{\"marker\": {\"colorbar\": {\"outlinewidth\": 0, \"ticks\": \"\"}}, \"type\": \"scattergl\"}], \"scattermapbox\": [{\"marker\": {\"colorbar\": {\"outlinewidth\": 0, \"ticks\": \"\"}}, \"type\": \"scattermapbox\"}], \"scatterpolargl\": [{\"marker\": {\"colorbar\": {\"outlinewidth\": 0, \"ticks\": \"\"}}, \"type\": \"scatterpolargl\"}], \"scatterpolar\": [{\"marker\": {\"colorbar\": {\"outlinewidth\": 0, \"ticks\": \"\"}}, \"type\": \"scatterpolar\"}], \"scatter\": [{\"marker\": {\"colorbar\": {\"outlinewidth\": 0, \"ticks\": \"\"}}, \"type\": \"scatter\"}], \"scatterternary\": [{\"marker\": {\"colorbar\": {\"outlinewidth\": 0, \"ticks\": \"\"}}, \"type\": \"scatterternary\"}], \"surface\": [{\"colorbar\": {\"outlinewidth\": 0, \"ticks\": \"\"}, \"type\": \"surface\"}], \"table\": [{\"cells\": {\"fill\": {\"color\": \"#EBF0F8\"}, \"line\": {\"color\": \"white\"}}, \"header\": {\"fill\": {\"color\": \"#C8D4E3\"}, \"line\": {\"color\": \"white\"}}, \"type\": \"table\"}]}, \"layout\": {\"annotationdefaults\": {\"arrowcolor\": \"#506784\", \"arrowhead\": 0, \"arrowwidth\": 1}, \"colorscale\": {\"diverging\": [[0, \"#8e0152\"], [0.1, \"#c51b7d\"], [0.2, \"#de77ae\"], [0.3, \"#f1b6da\"], [0.4, \"#fde0ef\"], [0.5, \"#f7f7f7\"], [0.6, \"#e6f5d0\"], [0.7, \"#b8e186\"], [0.8, \"#7fbc41\"], [0.9, \"#4d9221\"], [1, \"#276419\"]], \"sequential\": [[0.0, \"#0508b8\"], [0.0893854748603352, \"#1910d8\"], [0.1787709497206704, \"#3c19f0\"], [0.2681564245810056, \"#6b1cfb\"], [0.3575418994413408, \"#981cfd\"], [0.44692737430167595, \"#bf1cfd\"], [0.5363128491620112, \"#dd2bfd\"], [0.6256983240223464, \"#f246fe\"], [0.7150837988826816, \"#fc67fd\"], [0.8044692737430168, \"#fe88fc\"], [0.8938547486033519, \"#fea5fd\"], [0.9832402234636871, \"#febefe\"], [1.0, \"#fec3fe\"]], \"sequentialminus\": [[0.0, \"#0508b8\"], [0.0893854748603352, \"#1910d8\"], [0.1787709497206704, \"#3c19f0\"], [0.2681564245810056, \"#6b1cfb\"], [0.3575418994413408, \"#981cfd\"], [0.44692737430167595, \"#bf1cfd\"], [0.5363128491620112, \"#dd2bfd\"], [0.6256983240223464, \"#f246fe\"], [0.7150837988826816, \"#fc67fd\"], [0.8044692737430168, \"#fe88fc\"], [0.8938547486033519, \"#fea5fd\"], [0.9832402234636871, \"#febefe\"], [1.0, \"#fec3fe\"]]}, \"colorway\": [\"#636efa\", \"#EF553B\", \"#00cc96\", \"#ab63fa\", \"#19d3f3\", \"#e763fa\", \"#FECB52\", \"#FFA15A\", \"#FF6692\", \"#B6E880\"], \"font\": {\"color\": \"#2a3f5f\"}, \"geo\": {\"bgcolor\": \"white\", \"lakecolor\": \"white\", \"landcolor\": \"white\", \"showlakes\": true, \"showland\": true, \"subunitcolor\": \"#C8D4E3\"}, \"hovermode\": \"closest\", \"mapbox\": {\"style\": \"light\"}, \"paper_bgcolor\": \"white\", \"plot_bgcolor\": \"white\", \"polar\": {\"angularaxis\": {\"gridcolor\": \"#EBF0F8\", \"linecolor\": \"#EBF0F8\", \"ticks\": \"\"}, \"bgcolor\": \"white\", \"radialaxis\": {\"gridcolor\": \"#EBF0F8\", \"linecolor\": \"#EBF0F8\", \"ticks\": \"\"}}, \"scene\": {\"xaxis\": {\"backgroundcolor\": \"white\", \"gridcolor\": \"#DFE8F3\", \"gridwidth\": 2, \"linecolor\": \"#EBF0F8\", \"showbackground\": true, \"ticks\": \"\", \"zerolinecolor\": \"#EBF0F8\"}, \"yaxis\": {\"backgroundcolor\": \"white\", \"gridcolor\": \"#DFE8F3\", \"gridwidth\": 2, \"linecolor\": \"#EBF0F8\", \"showbackground\": true, \"ticks\": \"\", \"zerolinecolor\": \"#EBF0F8\"}, \"zaxis\": {\"backgroundcolor\": \"white\", \"gridcolor\": \"#DFE8F3\", \"gridwidth\": 2, \"linecolor\": \"#EBF0F8\", \"showbackground\": true, \"ticks\": \"\", \"zerolinecolor\": \"#EBF0F8\"}}, \"shapedefaults\": {\"fillcolor\": \"#506784\", \"line\": {\"width\": 0}, \"opacity\": 0.4}, \"ternary\": {\"aaxis\": {\"gridcolor\": \"#DFE8F3\", \"linecolor\": \"#A2B1C6\", \"ticks\": \"\"}, \"baxis\": {\"gridcolor\": \"#DFE8F3\", \"linecolor\": \"#A2B1C6\", \"ticks\": \"\"}, \"bgcolor\": \"white\", \"caxis\": {\"gridcolor\": \"#DFE8F3\", \"linecolor\": \"#A2B1C6\", \"ticks\": \"\"}}, \"title\": {\"x\": 0.05}, \"xaxis\": {\"automargin\": true, \"gridcolor\": \"#EBF0F8\", \"linecolor\": \"#EBF0F8\", \"ticks\": \"\", \"zerolinecolor\": \"#EBF0F8\", \"zerolinewidth\": 2}, \"yaxis\": {\"automargin\": true, \"gridcolor\": \"#EBF0F8\", \"linecolor\": \"#EBF0F8\", \"ticks\": \"\", \"zerolinecolor\": \"#EBF0F8\", \"zerolinewidth\": 2}}}, \"grid\": {\"xaxes\": [\"x\", \"x2\"], \"yaxes\": [\"y\"], \"xgap\": 0.1, \"ygap\": 0.1, \"xside\": \"bottom\", \"yside\": \"left\"}, \"xaxis2\": {\"title\": {\"text\": \"Time [h]\"}, \"matches\": \"x\"}, \"annotations\": [{\"showarrow\": false, \"text\": \"Bottle=B\", \"textangle\": 0, \"x\": 0.23684210526315788, \"xanchor\": \"center\", \"xref\": \"paper\", \"y\": 1.02, \"yanchor\": \"middle\", \"yref\": \"paper\"}, {\"showarrow\": false, \"text\": \"Bottle=F\", \"textangle\": 0, \"x\": 0.763157894736842, \"xanchor\": \"center\", \"xref\": \"paper\", \"y\": 1.02, \"yanchor\": \"middle\", \"yref\": \"paper\"}], \"xaxis\": {\"title\": {\"text\": \"Time [h]\"}}, \"yaxis\": {\"title\": {\"text\": \"Concentration [g/L]\"}}}, {\"showLink\": false, \"linkText\": \"Export to plot.ly\", \"plotlyServerURL\": \"https://plot.ly\"}); \n",
       "}\n",
       "});</script><script type=\"text/javascript\">window.addEventListener(\"resize\", function(){if (document.getElementById(\"96dce07a-50ee-4a6e-a0b7-4b0b9dddae1a\")) {window._Plotly.Plots.resize(document.getElementById(\"96dce07a-50ee-4a6e-a0b7-4b0b9dddae1a\"));};})</script>"
      ]
     },
     "metadata": {},
     "output_type": "display_data"
    }
   ],
   "source": [
    "fig = px.scatter(\n",
    "    gc_vs_assays.reset_index(\n",
    "    ).pipe(\n",
    "        lambda df: df[(df.Quality == \"EtOH\") & (df.Unit == \"g/L\")]\n",
    "    ), \n",
    "    x=\"Time\",\n",
    "    y=\"Value\",\n",
    "    color=\"Method\",\n",
    "    facet_col=\"Bottle\",\n",
    "    template=\"plotly_white\",\n",
    "    labels={\n",
    "        \"Time\": \"Time [h]\",\n",
    "        \"Value\": \"Concentration [g/L]\",\n",
    "        \"Quality\": \"Compound\"\n",
    "    }\n",
    ")\n",
    "\n",
    "pio.write_image(fig, str(results_path / 'assay-gc-correlation_eth.svg'))\n",
    "fig"
   ]
  },
  {
   "cell_type": "markdown",
   "metadata": {},
   "source": [
    "## Put Everything together in one table"
   ]
  },
  {
   "cell_type": "code",
   "execution_count": 170,
   "metadata": {},
   "outputs": [
    {
     "data": {
      "application/vnd.jupyter.widget-view+json": {
       "model_id": "c3cd302d462e498ab227d40aab52938d",
       "version_major": 2,
       "version_minor": 0
      },
      "text/plain": [
       "QgridWidget(grid_options={'fullWidthRows': True, 'syncColumnCellResize': True, 'forceFitColumns': True, 'defau…"
      ]
     },
     "metadata": {},
     "output_type": "display_data"
    }
   ],
   "source": [
    "main_data = pd.concat(\n",
    "    [\n",
    "        gc_conc,\n",
    "        growth_data,\n",
    "        assay_conc.loc[idx[:, :, [\"Fructose\", \"Formic Acid\"]], :],\n",
    "        rel_exp,\n",
    "        comp_exp\n",
    "    ],\n",
    "    sort=False\n",
    ")\n",
    "\n",
    "main_data"
   ]
  },
  {
   "cell_type": "code",
   "execution_count": 171,
   "metadata": {},
   "outputs": [
    {
     "data": {
      "application/vnd.jupyter.widget-view+json": {
       "model_id": "2aa343c6c7e74f8c9e76254d2b6b29f9",
       "version_major": 2,
       "version_minor": 0
      },
      "text/plain": [
       "QgridWidget(grid_options={'fullWidthRows': True, 'syncColumnCellResize': True, 'forceFitColumns': True, 'defau…"
      ]
     },
     "metadata": {},
     "output_type": "display_data"
    }
   ],
   "source": [
    "mean_data = main_data.reset_index().groupby(\n",
    "    by=[\"Sample\", \"Method\", \"Quality\", \"Condition\", \"Quantity\", \"Unit\"]\n",
    ").agg(\n",
    "    dict(\n",
    "        Value=[\"mean\", \"std\", \"count\"],\n",
    "        Time=\"first\"\n",
    "    )\n",
    ")\n",
    "\n",
    "mean_data.columns = mean_data.columns.droplevel()\n",
    "mean_data = mean_data.rename(\n",
    "    {\n",
    "        \"mean\": \"Value\",\n",
    "        \"std\": \"StDev\",\n",
    "        \"count\": \"Points\",\n",
    "        \"first\": \"Time\"\n",
    "    }, \n",
    "    axis=\"columns\"\n",
    ").reset_index().set_index([\"Sample\", \"Quality\"])\n",
    "\n",
    "mean_data"
   ]
  },
  {
   "cell_type": "code",
   "execution_count": 195,
   "metadata": {},
   "outputs": [],
   "source": [
    "def gen_plotly_layout(axis_map, measures):\n",
    "    return {\n",
    "        \"xaxis\": dict(\n",
    "            domain=[0, (0.92 if len(measures) > 1 else 1)],\n",
    "            title=\"Time\"+\" [%s]\"%(units_of_choice[\"Time\"]),\n",
    "        ),\n",
    "        **{\n",
    "            \"yaxis\"+(str(ops[\"index\"]) if ops[\"index\"] != 1 else \"\"): dict(\n",
    "                title=quant+\" [%s]\"%(units_of_choice[(quant)]),\n",
    "                anchor=\"x\",\n",
    "                side=ops[\"position\"],\n",
    "                overlaying=(\"y\" if ops[\"index\"] != 1 else None)\n",
    "            ) for quant, ops in axis_map.items()\n",
    "        }\n",
    "    }\n",
    "\n",
    "def plot_measurements(df, measures, axis_map):\n",
    "    def create_scatter(m, c, yaxis, bottle=None):\n",
    "        data = df.reset_index(\n",
    "        ).pipe(\n",
    "            lambda df: df.loc[\n",
    "                (df.Condition == c) &\n",
    "                (df.Quality == m[0]) &\n",
    "                (df.Quantity == m[1])\n",
    "            ]\n",
    "        ).pipe(\n",
    "            lambda df: df.loc[df.Bottle == bottle] if bottle else df\n",
    "        )\n",
    "        \n",
    "        return go.Scatter(\n",
    "            x=data.Time,\n",
    "            y=data.Value,\n",
    "            error_y=dict(\n",
    "                type='data',\n",
    "                array=data.StDev,\n",
    "                visible=(True if data.StDev.sum() > 0 else False)\n",
    "            ),\n",
    "            mode=\"lines+markers\",\n",
    "            name=\"%s%s%s\"%(\n",
    "                \"%s: \"%(m[0]) if not bottle else \"\", \n",
    "                \"5 atm\" if c == \"pressure\" else \"1 atm\", \n",
    "                \" (%s)\"%(bottle) if bottle else \"\"\n",
    "            ),\n",
    "            marker=dict(\n",
    "                color=(bottle_color_map[bottle] if bottle else quality_color_map[m[0]])\n",
    "            ),\n",
    "            line=dict(\n",
    "                dash=(\"dash\" if c == \"control\" else None)\n",
    "            ),\n",
    "            opacity=0.8,\n",
    "            yaxis=yaxis\n",
    "        )\n",
    "    \n",
    "    nested_data = [\n",
    "        (\n",
    "            [\n",
    "                create_scatter(\n",
    "                    m, \n",
    "                    c,\n",
    "                    \"y\"+str(axis_map[m[1]][\"index\"])\n",
    "                )\n",
    "            ]  \n",
    "                if mode == \"mean\" else\n",
    "            [\n",
    "                create_scatter(\n",
    "                    m, \n",
    "                    c, \n",
    "                    \"y\"+str(axis_map[m[1]][\"index\"]),\n",
    "                    bottle=b\n",
    "                ) \n",
    "                for b, inner_df in df.reset_index().groupby(by=\"Bottle\") \n",
    "            ]\n",
    "        ) \n",
    "        for m, mode in measures.items() \n",
    "        for c in [\"control\", \"pressure\"]\n",
    "    ]\n",
    "    \n",
    "    return dict(\n",
    "        data=[d for sub in nested_data for d in sub],\n",
    "        layout=gen_plotly_layout(axis_map, measures)\n",
    "    )"
   ]
  },
  {
   "cell_type": "markdown",
   "metadata": {},
   "source": [
    "## Pressure scatter"
   ]
  },
  {
   "cell_type": "code",
   "execution_count": 193,
   "metadata": {
    "scrolled": false
   },
   "outputs": [
    {
     "data": {
      "application/vnd.jupyter.widget-view+json": {
       "model_id": "6d3b623a91964f5593757eab8ec1d9a7",
       "version_major": 2,
       "version_minor": 0
      },
      "text/plain": [
       "FigureWidget({\n",
       "    'data': [{'error_y': {'array': array([0., 0., 0., 0., 0., 0., 0., 0., 0., 0., 0., 0.]),\n",
       "   …"
      ]
     },
     "metadata": {},
     "output_type": "display_data"
    }
   ],
   "source": [
    "axis_map = {\n",
    "    \"Absolute Pressure\": {\n",
    "        \"index\": 1,\n",
    "        \"position\": \"left\"\n",
    "    }\n",
    "}\n",
    "\n",
    "fig1 = go.FigureWidget(plot_measurements(\n",
    "    main_data.loc[main_data.Condition == \"control\"],\n",
    "    {\n",
    "        (\"Pressure after\", \"Absolute Pressure\"): \"all\"\n",
    "    },\n",
    "    axis_map\n",
    "))\n",
    "\n",
    "fig2 = go.FigureWidget(plot_measurements(\n",
    "    main_data.loc[main_data.Condition == \"pressure\"],\n",
    "    {\n",
    "        (\"Pressure after\", \"Absolute Pressure\"): \"all\"\n",
    "    },\n",
    "    axis_map\n",
    "))\n",
    "\n",
    "pio.write_image(fig1, str(results_path / 'pressure_control.svg'))\n",
    "fig1"
   ]
  },
  {
   "cell_type": "code",
   "execution_count": 188,
   "metadata": {},
   "outputs": [
    {
     "data": {
      "application/vnd.jupyter.widget-view+json": {
       "model_id": "62e446ac8fac46a4b4174c87dea907cd",
       "version_major": 2,
       "version_minor": 0
      },
      "text/plain": [
       "FigureWidget({\n",
       "    'data': [{'error_y': {'array': array([], dtype=float64), 'type': 'data', 'visible': False},…"
      ]
     },
     "metadata": {},
     "output_type": "display_data"
    }
   ],
   "source": [
    "pio.write_image(fig2, str(results_path / 'pressure_pressure.svg'))\n",
    "fig2"
   ]
  },
  {
   "cell_type": "markdown",
   "metadata": {},
   "source": [
    "## Fructose scatter"
   ]
  },
  {
   "cell_type": "code",
   "execution_count": 157,
   "metadata": {},
   "outputs": [
    {
     "data": {
      "application/vnd.jupyter.widget-view+json": {
       "model_id": "3f8c5e84fc574c4194adde309089bb79",
       "version_major": 2,
       "version_minor": 0
      },
      "text/plain": [
       "FigureWidget({\n",
       "    'data': [{'error_y': {'array': array([0., 0., 0.]), 'type': 'data', 'visible': False},\n",
       "    …"
      ]
     },
     "metadata": {},
     "output_type": "display_data"
    }
   ],
   "source": [
    "axis_map = {\n",
    "    \"Concentration\": {\n",
    "        \"index\": 1,\n",
    "        \"position\": \"left\"\n",
    "    }\n",
    "}\n",
    "\n",
    "fig = go.FigureWidget(\n",
    "    plot_measurements(\n",
    "        main_data, \n",
    "        {\n",
    "            (\"Fructose\", \"Concentration\"): \"all\"\n",
    "        }, \n",
    "        axis_map\n",
    "    )\n",
    ")\n",
    "\n",
    "pio.write_image(fig, str(results_path / 'fructose.svg'))\n",
    "fig"
   ]
  },
  {
   "cell_type": "markdown",
   "metadata": {},
   "source": [
    "## OD_600 scatter"
   ]
  },
  {
   "cell_type": "code",
   "execution_count": 172,
   "metadata": {},
   "outputs": [
    {
     "data": {
      "application/vnd.jupyter.widget-view+json": {
       "model_id": "e38893105733452289504b5e6a2bb4c4",
       "version_major": 2,
       "version_minor": 0
      },
      "text/plain": [
       "FigureWidget({\n",
       "    'data': [{'error_y': {'array': array([0., 0., 0., 0., 0., 0., 0., 0., 0., 0., 0., 0.]),\n",
       "   …"
      ]
     },
     "metadata": {},
     "output_type": "display_data"
    }
   ],
   "source": [
    "axis_map = {\n",
    "    \"Optical Extinction\": {\n",
    "        \"index\": 1,\n",
    "        \"position\": \"left\"\n",
    "    }\n",
    "}\n",
    "\n",
    "fig = go.FigureWidget(\n",
    "    plot_measurements(\n",
    "        main_data, \n",
    "        {\n",
    "            (\"OD 600\", \"Optical Extinction\"): \"all\"\n",
    "        }, \n",
    "        axis_map\n",
    "    )\n",
    ")\n",
    "\n",
    "pio.write_image(fig, str(results_path / 'od-600.svg'))\n",
    "fig"
   ]
  },
  {
   "cell_type": "markdown",
   "metadata": {},
   "source": [
    "## pH scatter"
   ]
  },
  {
   "cell_type": "code",
   "execution_count": 159,
   "metadata": {},
   "outputs": [
    {
     "data": {
      "application/vnd.jupyter.widget-view+json": {
       "model_id": "a8524b1e2ffc4e95b1ff85816410894d",
       "version_major": 2,
       "version_minor": 0
      },
      "text/plain": [
       "FigureWidget({\n",
       "    'data': [{'error_y': {'array': array([0., 0., 0., 0., 0., 0., 0., 0., 0., 0., 0., 0.]),\n",
       "   …"
      ]
     },
     "metadata": {},
     "output_type": "display_data"
    }
   ],
   "source": [
    "axis_map = {\n",
    "    \"pH\": {\n",
    "        \"index\": 1,\n",
    "        \"position\": \"left\"\n",
    "    }\n",
    "}\n",
    "\n",
    "fig = go.FigureWidget(\n",
    "    plot_measurements(\n",
    "        main_data, \n",
    "        {\n",
    "            (\"pH\", \"pH\"): \"all\"\n",
    "        }, \n",
    "        axis_map\n",
    "    )\n",
    ")\n",
    "\n",
    "pio.write_image(fig, str(results_path / 'pH.svg'))\n",
    "fig"
   ]
  },
  {
   "cell_type": "markdown",
   "metadata": {},
   "source": [
    "## Acetate scatter"
   ]
  },
  {
   "cell_type": "code",
   "execution_count": 160,
   "metadata": {},
   "outputs": [
    {
     "data": {
      "application/vnd.jupyter.widget-view+json": {
       "model_id": "714f39453f1441578c8552362a10fd73",
       "version_major": 2,
       "version_minor": 0
      },
      "text/plain": [
       "FigureWidget({\n",
       "    'data': [{'error_y': {'array': array([0., 0., 0., 0., 0., 0., 0., 0., 0., 0., 0., 0.]),\n",
       "   …"
      ]
     },
     "metadata": {},
     "output_type": "display_data"
    }
   ],
   "source": [
    "axis_map = {\n",
    "    \"Concentration\": {\n",
    "        \"index\": 1,\n",
    "        \"position\": \"left\"\n",
    "    }\n",
    "}\n",
    "\n",
    "fig = go.FigureWidget(\n",
    "    plot_measurements(\n",
    "        main_data, \n",
    "        {\n",
    "            (\"Acetate\", \"Concentration\"): \"all\"\n",
    "        }, \n",
    "        axis_map\n",
    "    )\n",
    ")\n",
    "\n",
    "pio.write_image(fig, str(results_path / 'acetate.svg'))\n",
    "fig"
   ]
  },
  {
   "cell_type": "markdown",
   "metadata": {},
   "source": [
    "## Ethanol scatter"
   ]
  },
  {
   "cell_type": "code",
   "execution_count": 161,
   "metadata": {},
   "outputs": [
    {
     "data": {
      "application/vnd.jupyter.widget-view+json": {
       "model_id": "7c28f16311b5472ab03fef65c07d502e",
       "version_major": 2,
       "version_minor": 0
      },
      "text/plain": [
       "FigureWidget({\n",
       "    'data': [{'error_y': {'array': array([0., 0., 0., 0., 0., 0., 0., 0., 0., 0., 0., 0.]),\n",
       "   …"
      ]
     },
     "metadata": {},
     "output_type": "display_data"
    }
   ],
   "source": [
    "axis_map = {\n",
    "    \"Concentration\": {\n",
    "        \"index\": 1,\n",
    "        \"position\": \"left\"\n",
    "    }\n",
    "}\n",
    "\n",
    "fig = go.FigureWidget(\n",
    "    plot_measurements(\n",
    "        main_data, \n",
    "        {\n",
    "            (\"EtOH\", \"Concentration\"): \"all\"\n",
    "        }, \n",
    "        axis_map\n",
    "    )\n",
    ")\n",
    "\n",
    "pio.write_image(fig, str(results_path / 'ethanol.svg'))\n",
    "fig"
   ]
  },
  {
   "cell_type": "markdown",
   "metadata": {},
   "source": [
    "## Formic Acid"
   ]
  },
  {
   "cell_type": "code",
   "execution_count": 207,
   "metadata": {},
   "outputs": [
    {
     "data": {
      "application/vnd.jupyter.widget-view+json": {
       "model_id": "1ea24ad8ee7440ff83c35e1e95a4ff58",
       "version_major": 2,
       "version_minor": 0
      },
      "text/plain": [
       "FigureWidget({\n",
       "    'data': [{'error_y': {'array': array([0., 0., 0., 0.]), 'type': 'data', 'visible': False},\n",
       "…"
      ]
     },
     "metadata": {},
     "output_type": "display_data"
    }
   ],
   "source": [
    "axis_map = {\n",
    "    \"Concentration\": {\n",
    "        \"index\": 1,\n",
    "        \"position\": \"left\"\n",
    "    }\n",
    "}\n",
    "\n",
    "figure = plot_measurements(\n",
    "    main_data, \n",
    "    {\n",
    "        (\"Formic Acid\", \"Concentration\"): \"all\"\n",
    "    }, \n",
    "    axis_map\n",
    ")\n",
    "\n",
    "figure['data'] = [\n",
    "    *figure['data'], \n",
    "    go.Scatter({\n",
    "        'mode': 'lines',\n",
    "        'x': [0, 170],\n",
    "        'y': [0.02, 0.02],\n",
    "        'name': \"Lower detection limit\",\n",
    "        'line': {\n",
    "            'color': 'rgb(100,100,100)',\n",
    "            'dash': 'dashdot',\n",
    "        },\n",
    "    })\n",
    "]\n",
    "\n",
    "fig = go.FigureWidget(figure)\n",
    "\n",
    "pio.write_image(fig, str(results_path / 'formate.svg'))\n",
    "pio.write_image(fig, str(results_path / 'formate.png'))\n",
    "fig"
   ]
  },
  {
   "cell_type": "markdown",
   "metadata": {},
   "source": [
    "## Scatter with most important means"
   ]
  },
  {
   "cell_type": "code",
   "execution_count": 196,
   "metadata": {
    "scrolled": false
   },
   "outputs": [
    {
     "data": {
      "application/vnd.jupyter.widget-view+json": {
       "model_id": "6613fa4f85e543139bb47cb5a3a954f5",
       "version_major": 2,
       "version_minor": 0
      },
      "text/plain": [
       "FigureWidget({\n",
       "    'data': [{'error_y': {'array': array([0.02070266, 0.03394986, 0.02833419, 0.05555034, 0.036…"
      ]
     },
     "metadata": {},
     "output_type": "display_data"
    }
   ],
   "source": [
    "axis_map = {\n",
    "    \"Concentration\": {\n",
    "        \"index\": 1,\n",
    "        \"position\": \"left\"\n",
    "    },\n",
    "    \"Optical Extinction\": {\n",
    "        \"index\": 2,\n",
    "        \"position\": \"right\"\n",
    "    }\n",
    "}\n",
    "\n",
    "fig = go.FigureWidget(\n",
    "    plot_measurements(\n",
    "        mean_data, \n",
    "        {\n",
    "            (\"EtOH\", \"Concentration\"): \"mean\",\n",
    "            (\"Acetate\", \"Concentration\"): \"mean\",\n",
    "            (\"OD 600\", \"Optical Extinction\"): \"mean\"\n",
    "        }, \n",
    "        axis_map\n",
    "    )\n",
    ")\n",
    "\n",
    "pio.write_image(fig, str(results_path / 'growth-and-production.svg'))\n",
    "fig"
   ]
  },
  {
   "cell_type": "markdown",
   "metadata": {},
   "source": [
    "## Correlation of Fructose and OD_600"
   ]
  },
  {
   "cell_type": "code",
   "execution_count": 197,
   "metadata": {},
   "outputs": [
    {
     "data": {
      "application/vnd.jupyter.widget-view+json": {
       "model_id": "11df0e9125d949efabc967742bd7e4de",
       "version_major": 2,
       "version_minor": 0
      },
      "text/plain": [
       "FigureWidget({\n",
       "    'data': [{'error_y': {'array': array([0.03291363, 0.0026081 , 0.00437571]), 'type': 'data',…"
      ]
     },
     "metadata": {},
     "output_type": "display_data"
    }
   ],
   "source": [
    "axis_map = {\n",
    "    \"Concentration\": {\n",
    "        \"index\": 1,\n",
    "        \"position\": \"left\"\n",
    "    },\n",
    "    \"Optical Extinction\": {\n",
    "        \"index\": 2,\n",
    "        \"position\": \"right\"\n",
    "    }\n",
    "}\n",
    "\n",
    "fig = go.FigureWidget(\n",
    "    plot_measurements(\n",
    "        mean_data, \n",
    "        {\n",
    "            (\"Fructose\", \"Concentration\"): \"mean\",\n",
    "            (\"OD 600\", \"Optical Extinction\"): \"mean\"\n",
    "        }, \n",
    "        axis_map\n",
    "    )\n",
    ")\n",
    "\n",
    "pio.write_image(fig, str(results_path / 'od-and-fructose.svg'))\n",
    "fig"
   ]
  },
  {
   "cell_type": "markdown",
   "metadata": {},
   "source": [
    "# Genetic Expression"
   ]
  },
  {
   "cell_type": "code",
   "execution_count": 198,
   "metadata": {},
   "outputs": [
    {
     "data": {
      "application/vnd.jupyter.widget-view+json": {
       "model_id": "b9b79f8021e44c658a4c14f3b460b42b",
       "version_major": 2,
       "version_minor": 0
      },
      "text/plain": [
       "FigureWidget({\n",
       "    'data': [{'hovertemplate': ('Gene=aor<br>Bottle=A<br>Bottle' ... 'e Exp. [1]=%{y}<extra></e…"
      ]
     },
     "metadata": {},
     "output_type": "display_data"
    }
   ],
   "source": [
    "def plot(): \n",
    "    return go.FigureWidget(\n",
    "        px.line(\n",
    "            main_data.reset_index().loc[\n",
    "                main_data.reset_index().Quantity == \"Relative Expression\"\n",
    "            ].rename(\n",
    "                {\"Quality\": \"Gene\"},\n",
    "                axis=\"columns\"\n",
    "            ),\n",
    "            x=\"Time\",\n",
    "            y=\"Value\",\n",
    "            line_group=\"Bottle\",\n",
    "            color=\"Bottle\",\n",
    "            facet_row=\"Gene\",\n",
    "            height=800,\n",
    "            template=\"plotly_white\",\n",
    "            color_discrete_map=bottle_color_map,\n",
    "            log_y=True,\n",
    "            labels={\n",
    "                \"Value\": \"Relative Exp. [%s]\"%(units_of_choice[\"Relative Expression\"]),\n",
    "                \"Time\": \"Time [%s]\"%(units_of_choice[\"Time\"])\n",
    "            }\n",
    "        )\n",
    "    )\n",
    "\n",
    "fig = plot()\n",
    "pio.write_image(fig, str(results_path / 'rel-exp-all.svg'))\n",
    "fig"
   ]
  },
  {
   "cell_type": "code",
   "execution_count": 200,
   "metadata": {},
   "outputs": [
    {
     "data": {
      "application/vnd.jupyter.widget-view+json": {
       "model_id": "edce6561441949ce9a49c56ef1e6a551",
       "version_major": 2,
       "version_minor": 0
      },
      "text/plain": [
       "FigureWidget({\n",
       "    'data': [{'error_y': {'array': array([1.77721264e-04, 1.52580781e-04, 6.63654746e-05, 6.745…"
      ]
     },
     "metadata": {},
     "output_type": "display_data"
    }
   ],
   "source": [
    "def plot(): \n",
    "    return go.FigureWidget(\n",
    "        px.line(\n",
    "            mean_data.reset_index().loc[\n",
    "                mean_data.reset_index().Quantity == \"Relative Expression\"\n",
    "            ].rename(\n",
    "                {\"Quality\": \"Gene\"},\n",
    "                axis=\"columns\"\n",
    "            ),\n",
    "            x=\"Time\",\n",
    "            y=\"Value\",\n",
    "            error_y=\"StDev\",\n",
    "            line_group=\"Condition\",\n",
    "            color=\"Condition\",\n",
    "            facet_row=\"Gene\",\n",
    "            height=800,\n",
    "            template=\"plotly_white\",\n",
    "            color_discrete_map=bottle_color_map,\n",
    "            log_y=True,\n",
    "            labels={\n",
    "                \"Value\": \"Relative Exp. [%s]\"%(units_of_choice[\"Relative Expression\"]),\n",
    "                \"Time\": \"Time [%s]\"%(units_of_choice[\"Time\"])\n",
    "            }\n",
    "        )\n",
    "    )\n",
    "\n",
    "fig = plot()\n",
    "pio.write_image(fig, str(results_path / 'rel-exp-mean.svg'))\n",
    "fig"
   ]
  },
  {
   "cell_type": "code",
   "execution_count": 103,
   "metadata": {},
   "outputs": [
    {
     "data": {
      "application/vnd.plotly.v1+json": {
       "config": {
        "linkText": "Export to plot.ly",
        "plotlyServerURL": "https://plot.ly",
        "showLink": false
       },
       "data": [
        {
         "error_y": {
          "array": [
           0.00017772126410665217,
           0.00015258078131627002,
           6.636547460343319e-05,
           6.745163797534501e-05,
           0.00030737699372974036,
           2.2126488561719057e-05
          ]
         },
         "hovertemplate": "Condition=control<br>Gene=aor<br>Condition=control<br>Time [h]=%{x}<br>Relative Expression [1]=%{y}<extra></extra>",
         "legendgroup": "Gene=aor, Condition=control",
         "line": {
          "color": "#ff6692",
          "dash": "solid"
         },
         "mode": "lines",
         "name": "Gene=aor, Condition=control",
         "showlegend": true,
         "type": "scatter",
         "uid": "51814931-30b7-4aed-81ae-00df2741881c",
         "x": [
          0,
          23.5,
          47.25,
          77,
          94.5,
          166.5
         ],
         "xaxis": "x",
         "y": [
          0.00038561140977033816,
          0.000572488018323579,
          0.000332150109180201,
          0.000220950669442171,
          0.00042429113131523395,
          0.00012774988567608653
         ],
         "yaxis": "y"
        },
        {
         "error_y": {
          "array": [
           0.11173542688402405,
           0.037002475981550244,
           0.04130995932136966,
           0.0952516183276039,
           1.304558000147856,
           0.04656080912237889
          ]
         },
         "hovertemplate": "Condition=control<br>Gene=codh<br>Condition=control<br>Time [h]=%{x}<br>Relative Expression [1]=%{y}<extra></extra>",
         "legendgroup": "Gene=codh, Condition=control",
         "line": {
          "color": "#b6e880",
          "dash": "solid"
         },
         "mode": "lines",
         "name": "Gene=codh, Condition=control",
         "showlegend": true,
         "type": "scatter",
         "uid": "48d21724-6529-4b04-b8d7-a5266f0647aa",
         "x": [
          0,
          23.5,
          47.25,
          77,
          94.5,
          166.5
         ],
         "xaxis": "x",
         "y": [
          0.39854712305919876,
          0.7001422641809043,
          0.7510621911764944,
          0.5694511487791815,
          1.3366987495859632,
          0.5022131207868127
         ],
         "yaxis": "y"
        },
        {
         "error_y": {
          "array": [
           0.010847239610024168,
           0.038934208834883695,
           0.040620939662590755,
           0.04807358986822882,
           0.4803681920267965,
           0.020268942760350385
          ]
         },
         "hovertemplate": "Condition=control<br>Gene=fdh<br>Condition=control<br>Time [h]=%{x}<br>Relative Expression [1]=%{y}<extra></extra>",
         "legendgroup": "Gene=fdh, Condition=control",
         "line": {
          "color": "#636efa",
          "dash": "solid"
         },
         "mode": "lines",
         "name": "Gene=fdh, Condition=control",
         "showlegend": true,
         "type": "scatter",
         "uid": "9467c6d5-a7be-4e0d-b29a-3ffda38ba7ca",
         "x": [
          0,
          23.5,
          47.25,
          77,
          94.5,
          166.5
         ],
         "xaxis": "x",
         "y": [
          0.05382500138979762,
          0.15462057214318778,
          0.164315217589687,
          0.10962341471241427,
          0.3971858416148088,
          0.1577383493989364
         ],
         "yaxis": "y"
        },
        {
         "error_y": {
          "array": [
           0.1177036625745486,
           0.019405373849793857,
           0.029066241802338477,
           0.011760482144413895,
           0.5050323520213916,
           0.09264534352536792
          ]
         },
         "hovertemplate": "Condition=control<br>Gene=pta<br>Condition=control<br>Time [h]=%{x}<br>Relative Expression [1]=%{y}<extra></extra>",
         "legendgroup": "Gene=pta, Condition=control",
         "line": {
          "color": "#EF553B",
          "dash": "solid"
         },
         "mode": "lines",
         "name": "Gene=pta, Condition=control",
         "showlegend": true,
         "type": "scatter",
         "uid": "55a8575e-5d94-41c1-a74a-2ee45e21eaa5",
         "x": [
          0,
          23.5,
          47.25,
          77,
          94.5,
          166.5
         ],
         "xaxis": "x",
         "y": [
          0.3419388390375155,
          0.22935428027053895,
          0.21260253227303608,
          0.26448739994479453,
          0.5925248039503942,
          0.2654289688081018
         ],
         "yaxis": "y"
        },
        {
         "error_y": {
          "array": [
           0.00012078212863094624,
           0.00032721026573228403,
           8.604519545962598e-05,
           0.00011130601432482524,
           0.00011289491781622678,
           0.00015603883527794758
          ]
         },
         "hovertemplate": "Condition=pressure<br>Gene=aor<br>Condition=pressure<br>Time [h]=%{x}<br>Relative Expression [1]=%{y}<extra></extra>",
         "legendgroup": "Gene=aor, Condition=pressure",
         "line": {
          "color": "#ff6692",
          "dash": "dot"
         },
         "mode": "lines",
         "name": "Gene=aor, Condition=pressure",
         "showlegend": true,
         "type": "scatter",
         "uid": "d6cbf6ab-a040-4615-99b7-765db53c5cdb",
         "x": [
          0,
          23.75,
          47.5,
          77,
          94.5,
          166.5
         ],
         "xaxis": "x",
         "y": [
          0.00025194974658105393,
          0.0007281480901705281,
          0.00032726092887079566,
          0.00038544866150020334,
          0.0002867138576535645,
          0.00026829905220385593
         ],
         "yaxis": "y"
        },
        {
         "error_y": {
          "array": [
           0.0806061758891596,
           0.15599076865709205,
           0.10669815133312602,
           0.018889341934505387,
           0.11788335416386264,
           0.2587930580111973
          ]
         },
         "hovertemplate": "Condition=pressure<br>Gene=codh<br>Condition=pressure<br>Time [h]=%{x}<br>Relative Expression [1]=%{y}<extra></extra>",
         "legendgroup": "Gene=codh, Condition=pressure",
         "line": {
          "color": "#b6e880",
          "dash": "dot"
         },
         "mode": "lines",
         "name": "Gene=codh, Condition=pressure",
         "showlegend": true,
         "type": "scatter",
         "uid": "d0d9146b-fa35-46d0-8e25-37828f5fdbca",
         "x": [
          0,
          23.75,
          47.5,
          77,
          94.5,
          166.5
         ],
         "xaxis": "x",
         "y": [
          0.27928624001135194,
          0.49103256846262106,
          0.38221627542078257,
          0.35832095511593565,
          0.33522649900322127,
          0.6310630017063549
         ],
         "yaxis": "y"
        },
        {
         "error_y": {
          "array": [
           0.0043945390279876,
           0.02970310494852688,
           0.03491088394711267,
           0.014720514650232703,
           0.03459815186539971,
           0.09079967531474646
          ]
         },
         "hovertemplate": "Condition=pressure<br>Gene=fdh<br>Condition=pressure<br>Time [h]=%{x}<br>Relative Expression [1]=%{y}<extra></extra>",
         "legendgroup": "Gene=fdh, Condition=pressure",
         "line": {
          "color": "#636efa",
          "dash": "dot"
         },
         "mode": "lines",
         "name": "Gene=fdh, Condition=pressure",
         "showlegend": true,
         "type": "scatter",
         "uid": "e80719c4-a329-4997-80c6-d0d3a72668fa",
         "x": [
          0,
          23.75,
          47.5,
          77,
          94.5,
          166.5
         ],
         "xaxis": "x",
         "y": [
          0.03580609316283338,
          0.1939134135507854,
          0.12641788220045316,
          0.1187034258220792,
          0.11930755997726335,
          0.2561523725168061
         ],
         "yaxis": "y"
        },
        {
         "error_y": {
          "array": [
           0.07048624057070628,
           0.006919269730704205,
           0.057119956597079004,
           0.03976624292926265,
           0.03965110818960869,
           0.05276204275304897
          ]
         },
         "hovertemplate": "Condition=pressure<br>Gene=pta<br>Condition=pressure<br>Time [h]=%{x}<br>Relative Expression [1]=%{y}<extra></extra>",
         "legendgroup": "Gene=pta, Condition=pressure",
         "line": {
          "color": "#EF553B",
          "dash": "dot"
         },
         "mode": "lines",
         "name": "Gene=pta, Condition=pressure",
         "showlegend": true,
         "type": "scatter",
         "uid": "f860ded4-1f0a-411f-876c-e1658ac4e935",
         "x": [
          0,
          23.75,
          47.5,
          77,
          94.5,
          166.5
         ],
         "xaxis": "x",
         "y": [
          0.29109250953651267,
          0.2777981223788358,
          0.30677640654570837,
          0.41562330427908206,
          0.36706167017019337,
          0.34442100822453564
         ],
         "yaxis": "y"
        }
       ],
       "layout": {
        "grid": {
         "xaxes": [
          "x"
         ],
         "xgap": 0.1,
         "xside": "bottom",
         "yaxes": [
          "y"
         ],
         "ygap": 0.1,
         "yside": "left"
        },
        "height": 500,
        "legend": {
         "tracegroupgap": 0
        },
        "margin": {
         "t": 60
        },
        "template": {
         "data": {
          "bar": [
           {
            "marker": {
             "line": {
              "color": "white",
              "width": 0.5
             }
            },
            "type": "bar"
           }
          ],
          "barpolar": [
           {
            "marker": {
             "line": {
              "color": "white",
              "width": 0.5
             }
            },
            "type": "barpolar"
           }
          ],
          "carpet": [
           {
            "aaxis": {
             "endlinecolor": "#2a3f5f",
             "gridcolor": "#C8D4E3",
             "linecolor": "#C8D4E3",
             "minorgridcolor": "#C8D4E3",
             "startlinecolor": "#2a3f5f"
            },
            "baxis": {
             "endlinecolor": "#2a3f5f",
             "gridcolor": "#C8D4E3",
             "linecolor": "#C8D4E3",
             "minorgridcolor": "#C8D4E3",
             "startlinecolor": "#2a3f5f"
            },
            "type": "carpet"
           }
          ],
          "choropleth": [
           {
            "colorbar": {
             "outlinewidth": 0,
             "ticks": ""
            },
            "type": "choropleth"
           }
          ],
          "contour": [
           {
            "autocolorscale": true,
            "colorbar": {
             "outlinewidth": 0,
             "ticks": ""
            },
            "type": "contour"
           }
          ],
          "contourcarpet": [
           {
            "colorbar": {
             "outlinewidth": 0,
             "ticks": ""
            },
            "type": "contourcarpet"
           }
          ],
          "heatmap": [
           {
            "autocolorscale": true,
            "colorbar": {
             "outlinewidth": 0,
             "ticks": ""
            },
            "type": "heatmap"
           }
          ],
          "heatmapgl": [
           {
            "colorbar": {
             "outlinewidth": 0,
             "ticks": ""
            },
            "type": "heatmapgl"
           }
          ],
          "histogram": [
           {
            "marker": {
             "colorbar": {
              "outlinewidth": 0,
              "ticks": ""
             }
            },
            "type": "histogram"
           }
          ],
          "histogram2d": [
           {
            "autocolorscale": true,
            "colorbar": {
             "outlinewidth": 0,
             "ticks": ""
            },
            "type": "histogram2d"
           }
          ],
          "histogram2dcontour": [
           {
            "autocolorscale": true,
            "colorbar": {
             "outlinewidth": 0,
             "ticks": ""
            },
            "type": "histogram2dcontour"
           }
          ],
          "mesh3d": [
           {
            "colorbar": {
             "outlinewidth": 0,
             "ticks": ""
            },
            "type": "mesh3d"
           }
          ],
          "parcoords": [
           {
            "line": {
             "colorbar": {
              "outlinewidth": 0,
              "ticks": ""
             }
            },
            "type": "parcoords"
           }
          ],
          "scatter": [
           {
            "marker": {
             "colorbar": {
              "outlinewidth": 0,
              "ticks": ""
             }
            },
            "type": "scatter"
           }
          ],
          "scatter3d": [
           {
            "marker": {
             "colorbar": {
              "outlinewidth": 0,
              "ticks": ""
             }
            },
            "type": "scatter3d"
           }
          ],
          "scattercarpet": [
           {
            "marker": {
             "colorbar": {
              "outlinewidth": 0,
              "ticks": ""
             }
            },
            "type": "scattercarpet"
           }
          ],
          "scattergeo": [
           {
            "marker": {
             "colorbar": {
              "outlinewidth": 0,
              "ticks": ""
             }
            },
            "type": "scattergeo"
           }
          ],
          "scattergl": [
           {
            "marker": {
             "colorbar": {
              "outlinewidth": 0,
              "ticks": ""
             }
            },
            "type": "scattergl"
           }
          ],
          "scattermapbox": [
           {
            "marker": {
             "colorbar": {
              "outlinewidth": 0,
              "ticks": ""
             }
            },
            "type": "scattermapbox"
           }
          ],
          "scatterpolar": [
           {
            "marker": {
             "colorbar": {
              "outlinewidth": 0,
              "ticks": ""
             }
            },
            "type": "scatterpolar"
           }
          ],
          "scatterpolargl": [
           {
            "marker": {
             "colorbar": {
              "outlinewidth": 0,
              "ticks": ""
             }
            },
            "type": "scatterpolargl"
           }
          ],
          "scatterternary": [
           {
            "marker": {
             "colorbar": {
              "outlinewidth": 0,
              "ticks": ""
             }
            },
            "type": "scatterternary"
           }
          ],
          "surface": [
           {
            "colorbar": {
             "outlinewidth": 0,
             "ticks": ""
            },
            "type": "surface"
           }
          ],
          "table": [
           {
            "cells": {
             "fill": {
              "color": "#EBF0F8"
             },
             "line": {
              "color": "white"
             }
            },
            "header": {
             "fill": {
              "color": "#C8D4E3"
             },
             "line": {
              "color": "white"
             }
            },
            "type": "table"
           }
          ]
         },
         "layout": {
          "annotationdefaults": {
           "arrowcolor": "#506784",
           "arrowhead": 0,
           "arrowwidth": 1
          },
          "colorscale": {
           "diverging": [
            [
             0,
             "#8e0152"
            ],
            [
             0.1,
             "#c51b7d"
            ],
            [
             0.2,
             "#de77ae"
            ],
            [
             0.3,
             "#f1b6da"
            ],
            [
             0.4,
             "#fde0ef"
            ],
            [
             0.5,
             "#f7f7f7"
            ],
            [
             0.6,
             "#e6f5d0"
            ],
            [
             0.7,
             "#b8e186"
            ],
            [
             0.8,
             "#7fbc41"
            ],
            [
             0.9,
             "#4d9221"
            ],
            [
             1,
             "#276419"
            ]
           ],
           "sequential": [
            [
             0,
             "#0508b8"
            ],
            [
             0.0893854748603352,
             "#1910d8"
            ],
            [
             0.1787709497206704,
             "#3c19f0"
            ],
            [
             0.2681564245810056,
             "#6b1cfb"
            ],
            [
             0.3575418994413408,
             "#981cfd"
            ],
            [
             0.44692737430167595,
             "#bf1cfd"
            ],
            [
             0.5363128491620112,
             "#dd2bfd"
            ],
            [
             0.6256983240223464,
             "#f246fe"
            ],
            [
             0.7150837988826816,
             "#fc67fd"
            ],
            [
             0.8044692737430168,
             "#fe88fc"
            ],
            [
             0.8938547486033519,
             "#fea5fd"
            ],
            [
             0.9832402234636871,
             "#febefe"
            ],
            [
             1,
             "#fec3fe"
            ]
           ],
           "sequentialminus": [
            [
             0,
             "#0508b8"
            ],
            [
             0.0893854748603352,
             "#1910d8"
            ],
            [
             0.1787709497206704,
             "#3c19f0"
            ],
            [
             0.2681564245810056,
             "#6b1cfb"
            ],
            [
             0.3575418994413408,
             "#981cfd"
            ],
            [
             0.44692737430167595,
             "#bf1cfd"
            ],
            [
             0.5363128491620112,
             "#dd2bfd"
            ],
            [
             0.6256983240223464,
             "#f246fe"
            ],
            [
             0.7150837988826816,
             "#fc67fd"
            ],
            [
             0.8044692737430168,
             "#fe88fc"
            ],
            [
             0.8938547486033519,
             "#fea5fd"
            ],
            [
             0.9832402234636871,
             "#febefe"
            ],
            [
             1,
             "#fec3fe"
            ]
           ]
          },
          "colorway": [
           "#636efa",
           "#EF553B",
           "#00cc96",
           "#ab63fa",
           "#19d3f3",
           "#e763fa",
           "#FECB52",
           "#FFA15A",
           "#FF6692",
           "#B6E880"
          ],
          "font": {
           "color": "#2a3f5f"
          },
          "geo": {
           "bgcolor": "white",
           "lakecolor": "white",
           "landcolor": "white",
           "showlakes": true,
           "showland": true,
           "subunitcolor": "#C8D4E3"
          },
          "hovermode": "closest",
          "mapbox": {
           "style": "light"
          },
          "paper_bgcolor": "white",
          "plot_bgcolor": "white",
          "polar": {
           "angularaxis": {
            "gridcolor": "#EBF0F8",
            "linecolor": "#EBF0F8",
            "ticks": ""
           },
           "bgcolor": "white",
           "radialaxis": {
            "gridcolor": "#EBF0F8",
            "linecolor": "#EBF0F8",
            "ticks": ""
           }
          },
          "scene": {
           "xaxis": {
            "backgroundcolor": "white",
            "gridcolor": "#DFE8F3",
            "gridwidth": 2,
            "linecolor": "#EBF0F8",
            "showbackground": true,
            "ticks": "",
            "zerolinecolor": "#EBF0F8"
           },
           "yaxis": {
            "backgroundcolor": "white",
            "gridcolor": "#DFE8F3",
            "gridwidth": 2,
            "linecolor": "#EBF0F8",
            "showbackground": true,
            "ticks": "",
            "zerolinecolor": "#EBF0F8"
           },
           "zaxis": {
            "backgroundcolor": "white",
            "gridcolor": "#DFE8F3",
            "gridwidth": 2,
            "linecolor": "#EBF0F8",
            "showbackground": true,
            "ticks": "",
            "zerolinecolor": "#EBF0F8"
           }
          },
          "shapedefaults": {
           "fillcolor": "#506784",
           "line": {
            "width": 0
           },
           "opacity": 0.4
          },
          "ternary": {
           "aaxis": {
            "gridcolor": "#DFE8F3",
            "linecolor": "#A2B1C6",
            "ticks": ""
           },
           "baxis": {
            "gridcolor": "#DFE8F3",
            "linecolor": "#A2B1C6",
            "ticks": ""
           },
           "bgcolor": "white",
           "caxis": {
            "gridcolor": "#DFE8F3",
            "linecolor": "#A2B1C6",
            "ticks": ""
           }
          },
          "title": {
           "x": 0.05
          },
          "xaxis": {
           "automargin": true,
           "gridcolor": "#EBF0F8",
           "linecolor": "#EBF0F8",
           "ticks": "",
           "zerolinecolor": "#EBF0F8",
           "zerolinewidth": 2
          },
          "yaxis": {
           "automargin": true,
           "gridcolor": "#EBF0F8",
           "linecolor": "#EBF0F8",
           "ticks": "",
           "zerolinecolor": "#EBF0F8",
           "zerolinewidth": 2
          }
         }
        },
        "xaxis": {
         "title": {
          "text": "Time [h]"
         }
        },
        "yaxis": {
         "title": {
          "text": "Relative Expression [1]"
         },
         "type": "log"
        }
       }
      },
      "text/html": [
       "<div id=\"94130a76-05b3-441a-b7a0-f8f3b8b36218\" style=\"height: 500px; width: 100%;\" class=\"plotly-graph-div\"></div><script type=\"text/javascript\">require([\"plotly\"], function(Plotly) { window.PLOTLYENV=window.PLOTLYENV || {};window.PLOTLYENV.BASE_URL=\"https://plot.ly\";\n",
       "if (document.getElementById(\"94130a76-05b3-441a-b7a0-f8f3b8b36218\")) {\n",
       "    Plotly.newPlot(\"94130a76-05b3-441a-b7a0-f8f3b8b36218\", [{\"error_y\": {\"array\": [0.00017772126410665217, 0.00015258078131627002, 6.636547460343319e-05, 6.745163797534501e-05, 0.00030737699372974036, 2.2126488561719057e-05]}, \"hovertemplate\": \"Condition=control<br>Gene=aor<br>Condition=control<br>Time [h]=%{x}<br>Relative Expression [1]=%{y}<extra></extra>\", \"legendgroup\": \"Gene=aor, Condition=control\", \"line\": {\"color\": \"#ff6692\", \"dash\": \"solid\"}, \"mode\": \"lines\", \"name\": \"Gene=aor, Condition=control\", \"showlegend\": true, \"x\": [0.0, 23.5, 47.25, 77.0, 94.5, 166.5], \"xaxis\": \"x\", \"y\": [0.00038561140977033816, 0.000572488018323579, 0.000332150109180201, 0.000220950669442171, 0.00042429113131523395, 0.00012774988567608653], \"yaxis\": \"y\", \"type\": \"scatter\", \"uid\": \"51814931-30b7-4aed-81ae-00df2741881c\"}, {\"error_y\": {\"array\": [0.11173542688402405, 0.037002475981550244, 0.04130995932136966, 0.0952516183276039, 1.304558000147856, 0.04656080912237889]}, \"hovertemplate\": \"Condition=control<br>Gene=codh<br>Condition=control<br>Time [h]=%{x}<br>Relative Expression [1]=%{y}<extra></extra>\", \"legendgroup\": \"Gene=codh, Condition=control\", \"line\": {\"color\": \"#b6e880\", \"dash\": \"solid\"}, \"mode\": \"lines\", \"name\": \"Gene=codh, Condition=control\", \"showlegend\": true, \"x\": [0.0, 23.5, 47.25, 77.0, 94.5, 166.5], \"xaxis\": \"x\", \"y\": [0.39854712305919876, 0.7001422641809043, 0.7510621911764944, 0.5694511487791815, 1.3366987495859632, 0.5022131207868127], \"yaxis\": \"y\", \"type\": \"scatter\", \"uid\": \"48d21724-6529-4b04-b8d7-a5266f0647aa\"}, {\"error_y\": {\"array\": [0.010847239610024168, 0.038934208834883695, 0.040620939662590755, 0.04807358986822882, 0.4803681920267965, 0.020268942760350385]}, \"hovertemplate\": \"Condition=control<br>Gene=fdh<br>Condition=control<br>Time [h]=%{x}<br>Relative Expression [1]=%{y}<extra></extra>\", \"legendgroup\": \"Gene=fdh, Condition=control\", \"line\": {\"color\": \"#636efa\", \"dash\": \"solid\"}, \"mode\": \"lines\", \"name\": \"Gene=fdh, Condition=control\", \"showlegend\": true, \"x\": [0.0, 23.5, 47.25, 77.0, 94.5, 166.5], \"xaxis\": \"x\", \"y\": [0.05382500138979762, 0.15462057214318778, 0.164315217589687, 0.10962341471241427, 0.3971858416148088, 0.1577383493989364], \"yaxis\": \"y\", \"type\": \"scatter\", \"uid\": \"9467c6d5-a7be-4e0d-b29a-3ffda38ba7ca\"}, {\"error_y\": {\"array\": [0.1177036625745486, 0.019405373849793857, 0.029066241802338477, 0.011760482144413895, 0.5050323520213916, 0.09264534352536792]}, \"hovertemplate\": \"Condition=control<br>Gene=pta<br>Condition=control<br>Time [h]=%{x}<br>Relative Expression [1]=%{y}<extra></extra>\", \"legendgroup\": \"Gene=pta, Condition=control\", \"line\": {\"color\": \"#EF553B\", \"dash\": \"solid\"}, \"mode\": \"lines\", \"name\": \"Gene=pta, Condition=control\", \"showlegend\": true, \"x\": [0.0, 23.5, 47.25, 77.0, 94.5, 166.5], \"xaxis\": \"x\", \"y\": [0.3419388390375155, 0.22935428027053895, 0.21260253227303608, 0.26448739994479453, 0.5925248039503942, 0.2654289688081018], \"yaxis\": \"y\", \"type\": \"scatter\", \"uid\": \"55a8575e-5d94-41c1-a74a-2ee45e21eaa5\"}, {\"error_y\": {\"array\": [0.00012078212863094624, 0.00032721026573228403, 8.604519545962598e-05, 0.00011130601432482524, 0.00011289491781622678, 0.00015603883527794758]}, \"hovertemplate\": \"Condition=pressure<br>Gene=aor<br>Condition=pressure<br>Time [h]=%{x}<br>Relative Expression [1]=%{y}<extra></extra>\", \"legendgroup\": \"Gene=aor, Condition=pressure\", \"line\": {\"color\": \"#ff6692\", \"dash\": \"dot\"}, \"mode\": \"lines\", \"name\": \"Gene=aor, Condition=pressure\", \"showlegend\": true, \"x\": [0.0, 23.75, 47.5, 77.0, 94.5, 166.5], \"xaxis\": \"x\", \"y\": [0.00025194974658105393, 0.0007281480901705281, 0.00032726092887079566, 0.00038544866150020334, 0.0002867138576535645, 0.00026829905220385593], \"yaxis\": \"y\", \"type\": \"scatter\", \"uid\": \"d6cbf6ab-a040-4615-99b7-765db53c5cdb\"}, {\"error_y\": {\"array\": [0.0806061758891596, 0.15599076865709205, 0.10669815133312602, 0.018889341934505387, 0.11788335416386264, 0.2587930580111973]}, \"hovertemplate\": \"Condition=pressure<br>Gene=codh<br>Condition=pressure<br>Time [h]=%{x}<br>Relative Expression [1]=%{y}<extra></extra>\", \"legendgroup\": \"Gene=codh, Condition=pressure\", \"line\": {\"color\": \"#b6e880\", \"dash\": \"dot\"}, \"mode\": \"lines\", \"name\": \"Gene=codh, Condition=pressure\", \"showlegend\": true, \"x\": [0.0, 23.75, 47.5, 77.0, 94.5, 166.5], \"xaxis\": \"x\", \"y\": [0.27928624001135194, 0.49103256846262106, 0.38221627542078257, 0.35832095511593565, 0.33522649900322127, 0.6310630017063549], \"yaxis\": \"y\", \"type\": \"scatter\", \"uid\": \"d0d9146b-fa35-46d0-8e25-37828f5fdbca\"}, {\"error_y\": {\"array\": [0.0043945390279876, 0.02970310494852688, 0.03491088394711267, 0.014720514650232703, 0.03459815186539971, 0.09079967531474646]}, \"hovertemplate\": \"Condition=pressure<br>Gene=fdh<br>Condition=pressure<br>Time [h]=%{x}<br>Relative Expression [1]=%{y}<extra></extra>\", \"legendgroup\": \"Gene=fdh, Condition=pressure\", \"line\": {\"color\": \"#636efa\", \"dash\": \"dot\"}, \"mode\": \"lines\", \"name\": \"Gene=fdh, Condition=pressure\", \"showlegend\": true, \"x\": [0.0, 23.75, 47.5, 77.0, 94.5, 166.5], \"xaxis\": \"x\", \"y\": [0.03580609316283338, 0.1939134135507854, 0.12641788220045316, 0.1187034258220792, 0.11930755997726335, 0.2561523725168061], \"yaxis\": \"y\", \"type\": \"scatter\", \"uid\": \"e80719c4-a329-4997-80c6-d0d3a72668fa\"}, {\"error_y\": {\"array\": [0.07048624057070628, 0.006919269730704205, 0.057119956597079004, 0.03976624292926265, 0.03965110818960869, 0.05276204275304897]}, \"hovertemplate\": \"Condition=pressure<br>Gene=pta<br>Condition=pressure<br>Time [h]=%{x}<br>Relative Expression [1]=%{y}<extra></extra>\", \"legendgroup\": \"Gene=pta, Condition=pressure\", \"line\": {\"color\": \"#EF553B\", \"dash\": \"dot\"}, \"mode\": \"lines\", \"name\": \"Gene=pta, Condition=pressure\", \"showlegend\": true, \"x\": [0.0, 23.75, 47.5, 77.0, 94.5, 166.5], \"xaxis\": \"x\", \"y\": [0.29109250953651267, 0.2777981223788358, 0.30677640654570837, 0.41562330427908206, 0.36706167017019337, 0.34442100822453564], \"yaxis\": \"y\", \"type\": \"scatter\", \"uid\": \"f860ded4-1f0a-411f-876c-e1658ac4e935\"}], {\"height\": 500, \"legend\": {\"tracegroupgap\": 0}, \"margin\": {\"t\": 60}, \"template\": {\"data\": {\"barpolar\": [{\"marker\": {\"line\": {\"color\": \"white\", \"width\": 0.5}}, \"type\": \"barpolar\"}], \"bar\": [{\"marker\": {\"line\": {\"color\": \"white\", \"width\": 0.5}}, \"type\": \"bar\"}], \"carpet\": [{\"aaxis\": {\"endlinecolor\": \"#2a3f5f\", \"gridcolor\": \"#C8D4E3\", \"linecolor\": \"#C8D4E3\", \"minorgridcolor\": \"#C8D4E3\", \"startlinecolor\": \"#2a3f5f\"}, \"baxis\": {\"endlinecolor\": \"#2a3f5f\", \"gridcolor\": \"#C8D4E3\", \"linecolor\": \"#C8D4E3\", \"minorgridcolor\": \"#C8D4E3\", \"startlinecolor\": \"#2a3f5f\"}, \"type\": \"carpet\"}], \"choropleth\": [{\"colorbar\": {\"outlinewidth\": 0, \"ticks\": \"\"}, \"type\": \"choropleth\"}], \"contourcarpet\": [{\"colorbar\": {\"outlinewidth\": 0, \"ticks\": \"\"}, \"type\": \"contourcarpet\"}], \"contour\": [{\"autocolorscale\": true, \"colorbar\": {\"outlinewidth\": 0, \"ticks\": \"\"}, \"type\": \"contour\"}], \"heatmapgl\": [{\"colorbar\": {\"outlinewidth\": 0, \"ticks\": \"\"}, \"type\": \"heatmapgl\"}], \"heatmap\": [{\"autocolorscale\": true, \"colorbar\": {\"outlinewidth\": 0, \"ticks\": \"\"}, \"type\": \"heatmap\"}], \"histogram2dcontour\": [{\"autocolorscale\": true, \"colorbar\": {\"outlinewidth\": 0, \"ticks\": \"\"}, \"type\": \"histogram2dcontour\"}], \"histogram2d\": [{\"autocolorscale\": true, \"colorbar\": {\"outlinewidth\": 0, \"ticks\": \"\"}, \"type\": \"histogram2d\"}], \"histogram\": [{\"marker\": {\"colorbar\": {\"outlinewidth\": 0, \"ticks\": \"\"}}, \"type\": \"histogram\"}], \"mesh3d\": [{\"colorbar\": {\"outlinewidth\": 0, \"ticks\": \"\"}, \"type\": \"mesh3d\"}], \"parcoords\": [{\"line\": {\"colorbar\": {\"outlinewidth\": 0, \"ticks\": \"\"}}, \"type\": \"parcoords\"}], \"scatter3d\": [{\"marker\": {\"colorbar\": {\"outlinewidth\": 0, \"ticks\": \"\"}}, \"type\": \"scatter3d\"}], \"scattercarpet\": [{\"marker\": {\"colorbar\": {\"outlinewidth\": 0, \"ticks\": \"\"}}, \"type\": \"scattercarpet\"}], \"scattergeo\": [{\"marker\": {\"colorbar\": {\"outlinewidth\": 0, \"ticks\": \"\"}}, \"type\": \"scattergeo\"}], \"scattergl\": [{\"marker\": {\"colorbar\": {\"outlinewidth\": 0, \"ticks\": \"\"}}, \"type\": \"scattergl\"}], \"scattermapbox\": [{\"marker\": {\"colorbar\": {\"outlinewidth\": 0, \"ticks\": \"\"}}, \"type\": \"scattermapbox\"}], \"scatterpolargl\": [{\"marker\": {\"colorbar\": {\"outlinewidth\": 0, \"ticks\": \"\"}}, \"type\": \"scatterpolargl\"}], \"scatterpolar\": [{\"marker\": {\"colorbar\": {\"outlinewidth\": 0, \"ticks\": \"\"}}, \"type\": \"scatterpolar\"}], \"scatter\": [{\"marker\": {\"colorbar\": {\"outlinewidth\": 0, \"ticks\": \"\"}}, \"type\": \"scatter\"}], \"scatterternary\": [{\"marker\": {\"colorbar\": {\"outlinewidth\": 0, \"ticks\": \"\"}}, \"type\": \"scatterternary\"}], \"surface\": [{\"colorbar\": {\"outlinewidth\": 0, \"ticks\": \"\"}, \"type\": \"surface\"}], \"table\": [{\"cells\": {\"fill\": {\"color\": \"#EBF0F8\"}, \"line\": {\"color\": \"white\"}}, \"header\": {\"fill\": {\"color\": \"#C8D4E3\"}, \"line\": {\"color\": \"white\"}}, \"type\": \"table\"}]}, \"layout\": {\"annotationdefaults\": {\"arrowcolor\": \"#506784\", \"arrowhead\": 0, \"arrowwidth\": 1}, \"colorscale\": {\"diverging\": [[0, \"#8e0152\"], [0.1, \"#c51b7d\"], [0.2, \"#de77ae\"], [0.3, \"#f1b6da\"], [0.4, \"#fde0ef\"], [0.5, \"#f7f7f7\"], [0.6, \"#e6f5d0\"], [0.7, \"#b8e186\"], [0.8, \"#7fbc41\"], [0.9, \"#4d9221\"], [1, \"#276419\"]], \"sequential\": [[0.0, \"#0508b8\"], [0.0893854748603352, \"#1910d8\"], [0.1787709497206704, \"#3c19f0\"], [0.2681564245810056, \"#6b1cfb\"], [0.3575418994413408, \"#981cfd\"], [0.44692737430167595, \"#bf1cfd\"], [0.5363128491620112, \"#dd2bfd\"], [0.6256983240223464, \"#f246fe\"], [0.7150837988826816, \"#fc67fd\"], [0.8044692737430168, \"#fe88fc\"], [0.8938547486033519, \"#fea5fd\"], [0.9832402234636871, \"#febefe\"], [1.0, \"#fec3fe\"]], \"sequentialminus\": [[0.0, \"#0508b8\"], [0.0893854748603352, \"#1910d8\"], [0.1787709497206704, \"#3c19f0\"], [0.2681564245810056, \"#6b1cfb\"], [0.3575418994413408, \"#981cfd\"], [0.44692737430167595, \"#bf1cfd\"], [0.5363128491620112, \"#dd2bfd\"], [0.6256983240223464, \"#f246fe\"], [0.7150837988826816, \"#fc67fd\"], [0.8044692737430168, \"#fe88fc\"], [0.8938547486033519, \"#fea5fd\"], [0.9832402234636871, \"#febefe\"], [1.0, \"#fec3fe\"]]}, \"colorway\": [\"#636efa\", \"#EF553B\", \"#00cc96\", \"#ab63fa\", \"#19d3f3\", \"#e763fa\", \"#FECB52\", \"#FFA15A\", \"#FF6692\", \"#B6E880\"], \"font\": {\"color\": \"#2a3f5f\"}, \"geo\": {\"bgcolor\": \"white\", \"lakecolor\": \"white\", \"landcolor\": \"white\", \"showlakes\": true, \"showland\": true, \"subunitcolor\": \"#C8D4E3\"}, \"hovermode\": \"closest\", \"mapbox\": {\"style\": \"light\"}, \"paper_bgcolor\": \"white\", \"plot_bgcolor\": \"white\", \"polar\": {\"angularaxis\": {\"gridcolor\": \"#EBF0F8\", \"linecolor\": \"#EBF0F8\", \"ticks\": \"\"}, \"bgcolor\": \"white\", \"radialaxis\": {\"gridcolor\": \"#EBF0F8\", \"linecolor\": \"#EBF0F8\", \"ticks\": \"\"}}, \"scene\": {\"xaxis\": {\"backgroundcolor\": \"white\", \"gridcolor\": \"#DFE8F3\", \"gridwidth\": 2, \"linecolor\": \"#EBF0F8\", \"showbackground\": true, \"ticks\": \"\", \"zerolinecolor\": \"#EBF0F8\"}, \"yaxis\": {\"backgroundcolor\": \"white\", \"gridcolor\": \"#DFE8F3\", \"gridwidth\": 2, \"linecolor\": \"#EBF0F8\", \"showbackground\": true, \"ticks\": \"\", \"zerolinecolor\": \"#EBF0F8\"}, \"zaxis\": {\"backgroundcolor\": \"white\", \"gridcolor\": \"#DFE8F3\", \"gridwidth\": 2, \"linecolor\": \"#EBF0F8\", \"showbackground\": true, \"ticks\": \"\", \"zerolinecolor\": \"#EBF0F8\"}}, \"shapedefaults\": {\"fillcolor\": \"#506784\", \"line\": {\"width\": 0}, \"opacity\": 0.4}, \"ternary\": {\"aaxis\": {\"gridcolor\": \"#DFE8F3\", \"linecolor\": \"#A2B1C6\", \"ticks\": \"\"}, \"baxis\": {\"gridcolor\": \"#DFE8F3\", \"linecolor\": \"#A2B1C6\", \"ticks\": \"\"}, \"bgcolor\": \"white\", \"caxis\": {\"gridcolor\": \"#DFE8F3\", \"linecolor\": \"#A2B1C6\", \"ticks\": \"\"}}, \"title\": {\"x\": 0.05}, \"xaxis\": {\"automargin\": true, \"gridcolor\": \"#EBF0F8\", \"linecolor\": \"#EBF0F8\", \"ticks\": \"\", \"zerolinecolor\": \"#EBF0F8\", \"zerolinewidth\": 2}, \"yaxis\": {\"automargin\": true, \"gridcolor\": \"#EBF0F8\", \"linecolor\": \"#EBF0F8\", \"ticks\": \"\", \"zerolinecolor\": \"#EBF0F8\", \"zerolinewidth\": 2}}}, \"grid\": {\"xaxes\": [\"x\"], \"yaxes\": [\"y\"], \"xgap\": 0.1, \"ygap\": 0.1, \"xside\": \"bottom\", \"yside\": \"left\"}, \"yaxis\": {\"title\": {\"text\": \"Relative Expression [1]\"}, \"type\": \"log\"}, \"xaxis\": {\"title\": {\"text\": \"Time [h]\"}}}, {\"showLink\": false, \"linkText\": \"Export to plot.ly\", \"plotlyServerURL\": \"https://plot.ly\"}); \n",
       "}\n",
       "});</script><script type=\"text/javascript\">window.addEventListener(\"resize\", function(){if (document.getElementById(\"94130a76-05b3-441a-b7a0-f8f3b8b36218\")) {window._Plotly.Plots.resize(document.getElementById(\"94130a76-05b3-441a-b7a0-f8f3b8b36218\"));};})</script>"
      ],
      "text/vnd.plotly.v1+html": [
       "<div id=\"94130a76-05b3-441a-b7a0-f8f3b8b36218\" style=\"height: 500px; width: 100%;\" class=\"plotly-graph-div\"></div><script type=\"text/javascript\">require([\"plotly\"], function(Plotly) { window.PLOTLYENV=window.PLOTLYENV || {};window.PLOTLYENV.BASE_URL=\"https://plot.ly\";\n",
       "if (document.getElementById(\"94130a76-05b3-441a-b7a0-f8f3b8b36218\")) {\n",
       "    Plotly.newPlot(\"94130a76-05b3-441a-b7a0-f8f3b8b36218\", [{\"error_y\": {\"array\": [0.00017772126410665217, 0.00015258078131627002, 6.636547460343319e-05, 6.745163797534501e-05, 0.00030737699372974036, 2.2126488561719057e-05]}, \"hovertemplate\": \"Condition=control<br>Gene=aor<br>Condition=control<br>Time [h]=%{x}<br>Relative Expression [1]=%{y}<extra></extra>\", \"legendgroup\": \"Gene=aor, Condition=control\", \"line\": {\"color\": \"#ff6692\", \"dash\": \"solid\"}, \"mode\": \"lines\", \"name\": \"Gene=aor, Condition=control\", \"showlegend\": true, \"x\": [0.0, 23.5, 47.25, 77.0, 94.5, 166.5], \"xaxis\": \"x\", \"y\": [0.00038561140977033816, 0.000572488018323579, 0.000332150109180201, 0.000220950669442171, 0.00042429113131523395, 0.00012774988567608653], \"yaxis\": \"y\", \"type\": \"scatter\", \"uid\": \"51814931-30b7-4aed-81ae-00df2741881c\"}, {\"error_y\": {\"array\": [0.11173542688402405, 0.037002475981550244, 0.04130995932136966, 0.0952516183276039, 1.304558000147856, 0.04656080912237889]}, \"hovertemplate\": \"Condition=control<br>Gene=codh<br>Condition=control<br>Time [h]=%{x}<br>Relative Expression [1]=%{y}<extra></extra>\", \"legendgroup\": \"Gene=codh, Condition=control\", \"line\": {\"color\": \"#b6e880\", \"dash\": \"solid\"}, \"mode\": \"lines\", \"name\": \"Gene=codh, Condition=control\", \"showlegend\": true, \"x\": [0.0, 23.5, 47.25, 77.0, 94.5, 166.5], \"xaxis\": \"x\", \"y\": [0.39854712305919876, 0.7001422641809043, 0.7510621911764944, 0.5694511487791815, 1.3366987495859632, 0.5022131207868127], \"yaxis\": \"y\", \"type\": \"scatter\", \"uid\": \"48d21724-6529-4b04-b8d7-a5266f0647aa\"}, {\"error_y\": {\"array\": [0.010847239610024168, 0.038934208834883695, 0.040620939662590755, 0.04807358986822882, 0.4803681920267965, 0.020268942760350385]}, \"hovertemplate\": \"Condition=control<br>Gene=fdh<br>Condition=control<br>Time [h]=%{x}<br>Relative Expression [1]=%{y}<extra></extra>\", \"legendgroup\": \"Gene=fdh, Condition=control\", \"line\": {\"color\": \"#636efa\", \"dash\": \"solid\"}, \"mode\": \"lines\", \"name\": \"Gene=fdh, Condition=control\", \"showlegend\": true, \"x\": [0.0, 23.5, 47.25, 77.0, 94.5, 166.5], \"xaxis\": \"x\", \"y\": [0.05382500138979762, 0.15462057214318778, 0.164315217589687, 0.10962341471241427, 0.3971858416148088, 0.1577383493989364], \"yaxis\": \"y\", \"type\": \"scatter\", \"uid\": \"9467c6d5-a7be-4e0d-b29a-3ffda38ba7ca\"}, {\"error_y\": {\"array\": [0.1177036625745486, 0.019405373849793857, 0.029066241802338477, 0.011760482144413895, 0.5050323520213916, 0.09264534352536792]}, \"hovertemplate\": \"Condition=control<br>Gene=pta<br>Condition=control<br>Time [h]=%{x}<br>Relative Expression [1]=%{y}<extra></extra>\", \"legendgroup\": \"Gene=pta, Condition=control\", \"line\": {\"color\": \"#EF553B\", \"dash\": \"solid\"}, \"mode\": \"lines\", \"name\": \"Gene=pta, Condition=control\", \"showlegend\": true, \"x\": [0.0, 23.5, 47.25, 77.0, 94.5, 166.5], \"xaxis\": \"x\", \"y\": [0.3419388390375155, 0.22935428027053895, 0.21260253227303608, 0.26448739994479453, 0.5925248039503942, 0.2654289688081018], \"yaxis\": \"y\", \"type\": \"scatter\", \"uid\": \"55a8575e-5d94-41c1-a74a-2ee45e21eaa5\"}, {\"error_y\": {\"array\": [0.00012078212863094624, 0.00032721026573228403, 8.604519545962598e-05, 0.00011130601432482524, 0.00011289491781622678, 0.00015603883527794758]}, \"hovertemplate\": \"Condition=pressure<br>Gene=aor<br>Condition=pressure<br>Time [h]=%{x}<br>Relative Expression [1]=%{y}<extra></extra>\", \"legendgroup\": \"Gene=aor, Condition=pressure\", \"line\": {\"color\": \"#ff6692\", \"dash\": \"dot\"}, \"mode\": \"lines\", \"name\": \"Gene=aor, Condition=pressure\", \"showlegend\": true, \"x\": [0.0, 23.75, 47.5, 77.0, 94.5, 166.5], \"xaxis\": \"x\", \"y\": [0.00025194974658105393, 0.0007281480901705281, 0.00032726092887079566, 0.00038544866150020334, 0.0002867138576535645, 0.00026829905220385593], \"yaxis\": \"y\", \"type\": \"scatter\", \"uid\": \"d6cbf6ab-a040-4615-99b7-765db53c5cdb\"}, {\"error_y\": {\"array\": [0.0806061758891596, 0.15599076865709205, 0.10669815133312602, 0.018889341934505387, 0.11788335416386264, 0.2587930580111973]}, \"hovertemplate\": \"Condition=pressure<br>Gene=codh<br>Condition=pressure<br>Time [h]=%{x}<br>Relative Expression [1]=%{y}<extra></extra>\", \"legendgroup\": \"Gene=codh, Condition=pressure\", \"line\": {\"color\": \"#b6e880\", \"dash\": \"dot\"}, \"mode\": \"lines\", \"name\": \"Gene=codh, Condition=pressure\", \"showlegend\": true, \"x\": [0.0, 23.75, 47.5, 77.0, 94.5, 166.5], \"xaxis\": \"x\", \"y\": [0.27928624001135194, 0.49103256846262106, 0.38221627542078257, 0.35832095511593565, 0.33522649900322127, 0.6310630017063549], \"yaxis\": \"y\", \"type\": \"scatter\", \"uid\": \"d0d9146b-fa35-46d0-8e25-37828f5fdbca\"}, {\"error_y\": {\"array\": [0.0043945390279876, 0.02970310494852688, 0.03491088394711267, 0.014720514650232703, 0.03459815186539971, 0.09079967531474646]}, \"hovertemplate\": \"Condition=pressure<br>Gene=fdh<br>Condition=pressure<br>Time [h]=%{x}<br>Relative Expression [1]=%{y}<extra></extra>\", \"legendgroup\": \"Gene=fdh, Condition=pressure\", \"line\": {\"color\": \"#636efa\", \"dash\": \"dot\"}, \"mode\": \"lines\", \"name\": \"Gene=fdh, Condition=pressure\", \"showlegend\": true, \"x\": [0.0, 23.75, 47.5, 77.0, 94.5, 166.5], \"xaxis\": \"x\", \"y\": [0.03580609316283338, 0.1939134135507854, 0.12641788220045316, 0.1187034258220792, 0.11930755997726335, 0.2561523725168061], \"yaxis\": \"y\", \"type\": \"scatter\", \"uid\": \"e80719c4-a329-4997-80c6-d0d3a72668fa\"}, {\"error_y\": {\"array\": [0.07048624057070628, 0.006919269730704205, 0.057119956597079004, 0.03976624292926265, 0.03965110818960869, 0.05276204275304897]}, \"hovertemplate\": \"Condition=pressure<br>Gene=pta<br>Condition=pressure<br>Time [h]=%{x}<br>Relative Expression [1]=%{y}<extra></extra>\", \"legendgroup\": \"Gene=pta, Condition=pressure\", \"line\": {\"color\": \"#EF553B\", \"dash\": \"dot\"}, \"mode\": \"lines\", \"name\": \"Gene=pta, Condition=pressure\", \"showlegend\": true, \"x\": [0.0, 23.75, 47.5, 77.0, 94.5, 166.5], \"xaxis\": \"x\", \"y\": [0.29109250953651267, 0.2777981223788358, 0.30677640654570837, 0.41562330427908206, 0.36706167017019337, 0.34442100822453564], \"yaxis\": \"y\", \"type\": \"scatter\", \"uid\": \"f860ded4-1f0a-411f-876c-e1658ac4e935\"}], {\"height\": 500, \"legend\": {\"tracegroupgap\": 0}, \"margin\": {\"t\": 60}, \"template\": {\"data\": {\"barpolar\": [{\"marker\": {\"line\": {\"color\": \"white\", \"width\": 0.5}}, \"type\": \"barpolar\"}], \"bar\": [{\"marker\": {\"line\": {\"color\": \"white\", \"width\": 0.5}}, \"type\": \"bar\"}], \"carpet\": [{\"aaxis\": {\"endlinecolor\": \"#2a3f5f\", \"gridcolor\": \"#C8D4E3\", \"linecolor\": \"#C8D4E3\", \"minorgridcolor\": \"#C8D4E3\", \"startlinecolor\": \"#2a3f5f\"}, \"baxis\": {\"endlinecolor\": \"#2a3f5f\", \"gridcolor\": \"#C8D4E3\", \"linecolor\": \"#C8D4E3\", \"minorgridcolor\": \"#C8D4E3\", \"startlinecolor\": \"#2a3f5f\"}, \"type\": \"carpet\"}], \"choropleth\": [{\"colorbar\": {\"outlinewidth\": 0, \"ticks\": \"\"}, \"type\": \"choropleth\"}], \"contourcarpet\": [{\"colorbar\": {\"outlinewidth\": 0, \"ticks\": \"\"}, \"type\": \"contourcarpet\"}], \"contour\": [{\"autocolorscale\": true, \"colorbar\": {\"outlinewidth\": 0, \"ticks\": \"\"}, \"type\": \"contour\"}], \"heatmapgl\": [{\"colorbar\": {\"outlinewidth\": 0, \"ticks\": \"\"}, \"type\": \"heatmapgl\"}], \"heatmap\": [{\"autocolorscale\": true, \"colorbar\": {\"outlinewidth\": 0, \"ticks\": \"\"}, \"type\": \"heatmap\"}], \"histogram2dcontour\": [{\"autocolorscale\": true, \"colorbar\": {\"outlinewidth\": 0, \"ticks\": \"\"}, \"type\": \"histogram2dcontour\"}], \"histogram2d\": [{\"autocolorscale\": true, \"colorbar\": {\"outlinewidth\": 0, \"ticks\": \"\"}, \"type\": \"histogram2d\"}], \"histogram\": [{\"marker\": {\"colorbar\": {\"outlinewidth\": 0, \"ticks\": \"\"}}, \"type\": \"histogram\"}], \"mesh3d\": [{\"colorbar\": {\"outlinewidth\": 0, \"ticks\": \"\"}, \"type\": \"mesh3d\"}], \"parcoords\": [{\"line\": {\"colorbar\": {\"outlinewidth\": 0, \"ticks\": \"\"}}, \"type\": \"parcoords\"}], \"scatter3d\": [{\"marker\": {\"colorbar\": {\"outlinewidth\": 0, \"ticks\": \"\"}}, \"type\": \"scatter3d\"}], \"scattercarpet\": [{\"marker\": {\"colorbar\": {\"outlinewidth\": 0, \"ticks\": \"\"}}, \"type\": \"scattercarpet\"}], \"scattergeo\": [{\"marker\": {\"colorbar\": {\"outlinewidth\": 0, \"ticks\": \"\"}}, \"type\": \"scattergeo\"}], \"scattergl\": [{\"marker\": {\"colorbar\": {\"outlinewidth\": 0, \"ticks\": \"\"}}, \"type\": \"scattergl\"}], \"scattermapbox\": [{\"marker\": {\"colorbar\": {\"outlinewidth\": 0, \"ticks\": \"\"}}, \"type\": \"scattermapbox\"}], \"scatterpolargl\": [{\"marker\": {\"colorbar\": {\"outlinewidth\": 0, \"ticks\": \"\"}}, \"type\": \"scatterpolargl\"}], \"scatterpolar\": [{\"marker\": {\"colorbar\": {\"outlinewidth\": 0, \"ticks\": \"\"}}, \"type\": \"scatterpolar\"}], \"scatter\": [{\"marker\": {\"colorbar\": {\"outlinewidth\": 0, \"ticks\": \"\"}}, \"type\": \"scatter\"}], \"scatterternary\": [{\"marker\": {\"colorbar\": {\"outlinewidth\": 0, \"ticks\": \"\"}}, \"type\": \"scatterternary\"}], \"surface\": [{\"colorbar\": {\"outlinewidth\": 0, \"ticks\": \"\"}, \"type\": \"surface\"}], \"table\": [{\"cells\": {\"fill\": {\"color\": \"#EBF0F8\"}, \"line\": {\"color\": \"white\"}}, \"header\": {\"fill\": {\"color\": \"#C8D4E3\"}, \"line\": {\"color\": \"white\"}}, \"type\": \"table\"}]}, \"layout\": {\"annotationdefaults\": {\"arrowcolor\": \"#506784\", \"arrowhead\": 0, \"arrowwidth\": 1}, \"colorscale\": {\"diverging\": [[0, \"#8e0152\"], [0.1, \"#c51b7d\"], [0.2, \"#de77ae\"], [0.3, \"#f1b6da\"], [0.4, \"#fde0ef\"], [0.5, \"#f7f7f7\"], [0.6, \"#e6f5d0\"], [0.7, \"#b8e186\"], [0.8, \"#7fbc41\"], [0.9, \"#4d9221\"], [1, \"#276419\"]], \"sequential\": [[0.0, \"#0508b8\"], [0.0893854748603352, \"#1910d8\"], [0.1787709497206704, \"#3c19f0\"], [0.2681564245810056, \"#6b1cfb\"], [0.3575418994413408, \"#981cfd\"], [0.44692737430167595, \"#bf1cfd\"], [0.5363128491620112, \"#dd2bfd\"], [0.6256983240223464, \"#f246fe\"], [0.7150837988826816, \"#fc67fd\"], [0.8044692737430168, \"#fe88fc\"], [0.8938547486033519, \"#fea5fd\"], [0.9832402234636871, \"#febefe\"], [1.0, \"#fec3fe\"]], \"sequentialminus\": [[0.0, \"#0508b8\"], [0.0893854748603352, \"#1910d8\"], [0.1787709497206704, \"#3c19f0\"], [0.2681564245810056, \"#6b1cfb\"], [0.3575418994413408, \"#981cfd\"], [0.44692737430167595, \"#bf1cfd\"], [0.5363128491620112, \"#dd2bfd\"], [0.6256983240223464, \"#f246fe\"], [0.7150837988826816, \"#fc67fd\"], [0.8044692737430168, \"#fe88fc\"], [0.8938547486033519, \"#fea5fd\"], [0.9832402234636871, \"#febefe\"], [1.0, \"#fec3fe\"]]}, \"colorway\": [\"#636efa\", \"#EF553B\", \"#00cc96\", \"#ab63fa\", \"#19d3f3\", \"#e763fa\", \"#FECB52\", \"#FFA15A\", \"#FF6692\", \"#B6E880\"], \"font\": {\"color\": \"#2a3f5f\"}, \"geo\": {\"bgcolor\": \"white\", \"lakecolor\": \"white\", \"landcolor\": \"white\", \"showlakes\": true, \"showland\": true, \"subunitcolor\": \"#C8D4E3\"}, \"hovermode\": \"closest\", \"mapbox\": {\"style\": \"light\"}, \"paper_bgcolor\": \"white\", \"plot_bgcolor\": \"white\", \"polar\": {\"angularaxis\": {\"gridcolor\": \"#EBF0F8\", \"linecolor\": \"#EBF0F8\", \"ticks\": \"\"}, \"bgcolor\": \"white\", \"radialaxis\": {\"gridcolor\": \"#EBF0F8\", \"linecolor\": \"#EBF0F8\", \"ticks\": \"\"}}, \"scene\": {\"xaxis\": {\"backgroundcolor\": \"white\", \"gridcolor\": \"#DFE8F3\", \"gridwidth\": 2, \"linecolor\": \"#EBF0F8\", \"showbackground\": true, \"ticks\": \"\", \"zerolinecolor\": \"#EBF0F8\"}, \"yaxis\": {\"backgroundcolor\": \"white\", \"gridcolor\": \"#DFE8F3\", \"gridwidth\": 2, \"linecolor\": \"#EBF0F8\", \"showbackground\": true, \"ticks\": \"\", \"zerolinecolor\": \"#EBF0F8\"}, \"zaxis\": {\"backgroundcolor\": \"white\", \"gridcolor\": \"#DFE8F3\", \"gridwidth\": 2, \"linecolor\": \"#EBF0F8\", \"showbackground\": true, \"ticks\": \"\", \"zerolinecolor\": \"#EBF0F8\"}}, \"shapedefaults\": {\"fillcolor\": \"#506784\", \"line\": {\"width\": 0}, \"opacity\": 0.4}, \"ternary\": {\"aaxis\": {\"gridcolor\": \"#DFE8F3\", \"linecolor\": \"#A2B1C6\", \"ticks\": \"\"}, \"baxis\": {\"gridcolor\": \"#DFE8F3\", \"linecolor\": \"#A2B1C6\", \"ticks\": \"\"}, \"bgcolor\": \"white\", \"caxis\": {\"gridcolor\": \"#DFE8F3\", \"linecolor\": \"#A2B1C6\", \"ticks\": \"\"}}, \"title\": {\"x\": 0.05}, \"xaxis\": {\"automargin\": true, \"gridcolor\": \"#EBF0F8\", \"linecolor\": \"#EBF0F8\", \"ticks\": \"\", \"zerolinecolor\": \"#EBF0F8\", \"zerolinewidth\": 2}, \"yaxis\": {\"automargin\": true, \"gridcolor\": \"#EBF0F8\", \"linecolor\": \"#EBF0F8\", \"ticks\": \"\", \"zerolinecolor\": \"#EBF0F8\", \"zerolinewidth\": 2}}}, \"grid\": {\"xaxes\": [\"x\"], \"yaxes\": [\"y\"], \"xgap\": 0.1, \"ygap\": 0.1, \"xside\": \"bottom\", \"yside\": \"left\"}, \"yaxis\": {\"title\": {\"text\": \"Relative Expression [1]\"}, \"type\": \"log\"}, \"xaxis\": {\"title\": {\"text\": \"Time [h]\"}}}, {\"showLink\": false, \"linkText\": \"Export to plot.ly\", \"plotlyServerURL\": \"https://plot.ly\"}); \n",
       "}\n",
       "});</script><script type=\"text/javascript\">window.addEventListener(\"resize\", function(){if (document.getElementById(\"94130a76-05b3-441a-b7a0-f8f3b8b36218\")) {window._Plotly.Plots.resize(document.getElementById(\"94130a76-05b3-441a-b7a0-f8f3b8b36218\"));};})</script>"
      ]
     },
     "metadata": {},
     "output_type": "display_data"
    }
   ],
   "source": [
    "def plot(): \n",
    "    return py.iplot(\n",
    "        px.line(\n",
    "            mean_data.reset_index().loc[\n",
    "                mean_data.reset_index().Quantity == \"Relative Expression\"\n",
    "            ].rename(\n",
    "                {\"Quality\": \"Gene\"},\n",
    "                axis=\"columns\"\n",
    "            ),\n",
    "            x=\"Time\",\n",
    "            y=\"Value\",\n",
    "            error_y=\"StDev\",\n",
    "            line_group=\"Condition\",\n",
    "            line_dash=\"Condition\",\n",
    "            color=\"Gene\",\n",
    "            height=500,\n",
    "            template=\"plotly_white\",\n",
    "            color_discrete_map=bottle_color_map,\n",
    "            log_y=True,\n",
    "            labels={\n",
    "                \"Value\": \"Relative Expression [%s]\"%(units_of_choice[\"Relative Expression\"]),\n",
    "                \"Time\": \"Time [%s]\"%(units_of_choice[\"Time\"])\n",
    "            }\n",
    "        )\n",
    "    )\n",
    "\n",
    "plot()"
   ]
  },
  {
   "cell_type": "code",
   "execution_count": 201,
   "metadata": {},
   "outputs": [
    {
     "data": {
      "application/vnd.jupyter.widget-view+json": {
       "model_id": "3fded1d4820546e293b1bc3146c183db",
       "version_major": 2,
       "version_minor": 0
      },
      "text/plain": [
       "FigureWidget({\n",
       "    'data': [{'error_y': {'array': array([0.1554882 , 0.20667953, 0.17567892, 0.57803438, 0.441…"
      ]
     },
     "metadata": {},
     "output_type": "display_data"
    }
   ],
   "source": [
    "def plot(): \n",
    "    return go.FigureWidget(\n",
    "        px.line(\n",
    "            main_data.reset_index().loc[\n",
    "                main_data.reset_index().Quantity == \"Comparative Expression\"\n",
    "            ].rename(\n",
    "                {\"Quality\": \"Gene\"},\n",
    "                axis=\"columns\"\n",
    "            ),\n",
    "            x=\"Time\",\n",
    "            y=\"Value\",\n",
    "            error_y=\"StDev\",\n",
    "            line_group=\"Bottle\",\n",
    "            color=\"Bottle\",\n",
    "            facet_row=\"Gene\",\n",
    "            height=800,\n",
    "            template=\"plotly_white\",\n",
    "            color_discrete_map=bottle_color_map,\n",
    "            labels={\n",
    "                \"Value\": \"Comparative Exp. [%s]\"%(units_of_choice[\"Comparative Expression\"]),\n",
    "                \"Time\": \"Time [%s]\"%(units_of_choice[\"Time\"])\n",
    "            }\n",
    "        )\n",
    "    )\n",
    "\n",
    "fig = plot()\n",
    "pio.write_image(fig, str(results_path / 'comp-exp-all.svg'))\n",
    "fig"
   ]
  },
  {
   "cell_type": "code",
   "execution_count": 208,
   "metadata": {},
   "outputs": [
    {
     "data": {
      "application/vnd.jupyter.widget-view+json": {
       "model_id": "05b2772c554c4eebb6f74e17b1ac6cb9",
       "version_major": 2,
       "version_minor": 0
      },
      "text/plain": [
       "FigureWidget({\n",
       "    'data': [{'error_y': {'array': array([0.36153783, 0.59946358, 0.26707828, 0.54095513, 0.363…"
      ]
     },
     "metadata": {},
     "output_type": "display_data"
    }
   ],
   "source": [
    "def plot(): \n",
    "    return go.FigureWidget(\n",
    "        px.line(\n",
    "            mean_data.reset_index().loc[\n",
    "                mean_data.reset_index().Quantity == \"Comparative Expression\"\n",
    "            ].rename(\n",
    "                {\"Quality\": \"Gene\"},\n",
    "                axis=\"columns\"\n",
    "            ),\n",
    "            x=\"Time\",\n",
    "            color=\"Gene\",\n",
    "            y=\"Value\",\n",
    "            error_y=\"StDev\",\n",
    "            template=\"plotly_white\",\n",
    "            labels={\n",
    "                \"Value\": \"Comparative Exp. [%s]\"%(units_of_choice[\"Comparative Expression\"]),\n",
    "                \"Time\": \"Time [%s]\"%(units_of_choice[\"Time\"])\n",
    "            }\n",
    "        )\n",
    "    )\n",
    "\n",
    "fig = plot()\n",
    "pio.write_image(fig, str(results_path / 'comp-exp-mean.svg'))\n",
    "fig"
   ]
  },
  {
   "cell_type": "code",
   "execution_count": 185,
   "metadata": {},
   "outputs": [],
   "source": [
    "mean_data.to_csv(intermediate_path / \"mean_data_CO2H2.csv\")"
   ]
  }
 ],
 "metadata": {
  "kernelspec": {
   "display_name": "Python 3",
   "language": "python",
   "name": "python3"
  },
  "language_info": {
   "codemirror_mode": {
    "name": "ipython",
    "version": 3
   },
   "file_extension": ".py",
   "mimetype": "text/x-python",
   "name": "python",
   "nbconvert_exporter": "python",
   "pygments_lexer": "ipython3",
   "version": "3.6.8"
  }
 },
 "nbformat": 4,
 "nbformat_minor": 2
}
